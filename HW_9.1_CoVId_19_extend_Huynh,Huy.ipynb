{
 "cells": [
  {
   "cell_type": "markdown",
   "metadata": {},
   "source": [
    "# Covid-19 Model Extended - Additional application of pandas\n",
    "### Reference:\n",
    "* McKinney Chpt - 4 - numpy\n",
    "* McKinney Chpt - 5 - pandas essentials\n",
    "* McKinney Chpt - 6 - Data loading and files\n",
    "* McKinney Chpt - 7 - Data cleaning and preparation\n",
    "* McKinney Chpt - 8 - Data wrangling and joins\n",
    "* McKinney Chpt - 9 - Visualization"
   ]
  },
  {
   "cell_type": "markdown",
   "metadata": {},
   "source": [
    "<pre>_____________________________________________________________________________________________________</pre>"
   ]
  },
  {
   "cell_type": "markdown",
   "metadata": {},
   "source": [
    "# CS2311-Algorithms and Data Structures With Python\n",
    "## Homework 9.1\n",
    "## Due Date: See Blackboard"
   ]
  },
  {
   "cell_type": "markdown",
   "metadata": {},
   "source": [
    "## Student Name:"
   ]
  },
  {
   "cell_type": "markdown",
   "metadata": {},
   "source": [
    "**Submission guidelines**\n",
    "\n",
    "• Submit your Jupyter Notebook file on BlackBoard.  Please provide any supporting data input/output files in the zip folder.  Include images output in the zip file and embed in the notebook file.  I should be able to run and replicate the run of the code you submitted.\n",
    "\n",
    "<pre>\n",
    "HW#.zip    -> HW3.zip\n",
    "</pre>\n",
    "\n",
    "**Grading Criteria:**\n",
    "<pre>\n",
    "•\tGood documentation/comments and program readability\n",
    "•\tAlgorithm/pseudo-code is explained and efficient.  Use functions as appropriate to simplify & improve readability.\n",
    "•\tProgram runs correctly for test cases with no syntax errors or logical errors\n",
    "</pre>"
   ]
  },
  {
   "cell_type": "markdown",
   "metadata": {},
   "source": [
    "<pre>_____________________________________________________________________________________________________</pre>"
   ]
  },
  {
   "cell_type": "markdown",
   "metadata": {},
   "source": [
    "# Topic:  Pandas  - 75 Points "
   ]
  },
  {
   "cell_type": "markdown",
   "metadata": {},
   "source": [
    "## 1.\t[75 points] Extension of the Covid-19 SIR Model and pandas applications\n",
    "We are interested in extending the Covid-19 model we started in Homework 7 and applying additional pandas methods and techniques in the process."
   ]
  },
  {
   "cell_type": "markdown",
   "metadata": {},
   "source": [
    "<pre>_____________________________________________________________________________________________________</pre>"
   ]
  },
  {
   "cell_type": "markdown",
   "metadata": {},
   "source": [
    "# Recap of SIR Epidemic Model"
   ]
  },
  {
   "attachments": {
    "image.png": {
     "image/png": "[encoded data removed]"
    }
   },
   "cell_type": "markdown",
   "metadata": {},
   "source": [
    "![image.png](attachment:image.png)"
   ]
  },
  {
   "cell_type": "markdown",
   "metadata": {},
   "source": [
    "To model the dynamics of the outbreak we need three differential equations, one for the change in each group, where $\\beta$ is the parameter that controls the transition between ${S}$ and ${I}$ and $\\gamma$  which controls the transition between ${I}$ and ${R}$ :\n",
    "\n",
    "$$ \\frac{dS}{dt} = -\\beta\\frac{IS}{N}$$\n",
    "\n",
    "$$ \\frac{dI}{dt} = \\beta\\frac{IS}{N}-\\gamma{I}$$\n",
    "\n",
    "$$ \\frac{dR}{dt} = \\gamma{I}$$  \n",
    "\n"
   ]
  },
  {
   "cell_type": "markdown",
   "metadata": {},
   "source": [
    "The constant $\\beta$ represents the contact rate of the disease (an infected individual comes into contact with $\\beta{N}$ other individuals per unit time); the value of  must be greater than or equal to zero."
   ]
  },
  {
   "cell_type": "markdown",
   "metadata": {},
   "source": [
    "The constant $\\gamma$ is the mean recovery rate (which will always be greater than or equal to zero); "
   ]
  },
  {
   "cell_type": "markdown",
   "metadata": {},
   "source": [
    "It is important to remember that our total population is described by the sum of susceptible, infected, and recovered individuals:\n",
    "\n",
    "$$ {N(t)} = {S(t) + I(t) + R(t)}$$"
   ]
  },
  {
   "cell_type": "markdown",
   "metadata": {},
   "source": [
    "Now lets see if we can fit this model to the case data that is being reported in the US.  We will use the data reported in wikipedia which is updated daily.\n",
    "\n",
    "https://en.wikipedia.org/wiki/2020_coronavirus_outbreak_in_the_United_States or look in \n",
    "\n",
    "_NOTE:  Structure of this file changes from time to time and may break impact your code._\n",
    "https://en.wikipedia.org/wiki/Template:2019%E2%80%9320_coronavirus_pandemic_data/United_States_medical_cases\n",
    "\n",
    "Take a look at the web site and note the table summarizing all the case statitics - we need to extract the \n",
    "total cases from this table.  By default pd.read_html returns a list of all the tables on the page as data frames\n",
    "\n",
    "**NOTE:** Other USA sources (excel files) that you may want to look at for further analysis be found at these links:\n",
    "\n",
    "https://usafacts.org/visualizations/coronavirus-covid-19-spread-map/  (USA by state/county)\n",
    "\n",
    "https://www.dshs.state.tx.us/news/updates.shtm#coronavirus  (TX by county)"
   ]
  },
  {
   "cell_type": "markdown",
   "metadata": {},
   "source": [
    "<pre>_____________________________________________________________________________________________________</pre>"
   ]
  },
  {
   "cell_type": "markdown",
   "metadata": {},
   "source": [
    "<a id='TOC'></a>\n",
    "# Table of Contents: USA/State CoVid19 Cases\n",
    "\n",
    "<br>[1. Setup and Variables/Assumptions](#VarSetup)\n",
    "<br>....Task 1.1: Set up your input variables and flags\n",
    "<br>....Task 1.2: Select region, make assumption of hospital beds, set up states, population and hospital beds\n",
    "<br>....Task 1.3: Set up a state code, population and hospital bed dataframe by scraping data from web\n",
    "<br>....Task 1.4: Set up a USA 8 x 11 \"map grid\" for our small multiple charts\n",
    "<br>[2. Scrape Data](#ScrapeData)\n",
    "<br>....Task 2.1: Scrape data from web and locate the right table\n",
    "<br>....Task 2.2: Clean-up and wrangle - create a datetime column without date gaps\n",
    "<br>....Task 2.3: Clean-up and wrangle - Convert non-numeric data to NaN\n",
    "<br>....Task 2.4: Clean-up and wrangle - Now set \"PDate\" as datetime index and fill-in data gaps with NaN\n",
    "<br>....Task 2.5: Clean-up and wrangle - create cumulative sum of cases for each state and rename columns\n",
    "<br>[3. Plot Historical Data](#PlotData)\n",
    "<br>....Task 3.1: Do quick graph of dataframe for select states\n",
    "<br>....Task 3.2: Select portion of data to start plotting from i.e. after specified number of cases recorded\n",
    "<br>....Task 3.3: Plot cases and log of cases of Region to see how cases as growing - customize chart\n",
    "<br>....Task 3.4: Plot all states as small multiples on the US map 8x11 grid\n",
    "<br>[4. Calculate Change in Slope of Exponetial Curve](#Slope)\n",
    "<br>....Task 4.1: Put log infected data into a dataframe so we can use the .diff() method in pandas\n",
    "<br>....Task 4.2: Plot the slope and change in slope curves for the Region specified\n",
    "<br>....Task 4.3: Plot change is slope of curve for all states as small multiples on the US map 8x11 grid\n",
    "<br>[5. Fit Model](#ModelFitting)\n",
    "<br>....Task 5.1: set up initial conditions for model\n",
    "<br>....Task 5.2: Set up the SIR model function as per the formulas\n",
    "<br>....Task 5.3: set up the odeint_chg_beta() function that does the numerical integration (i.e. solving) of the SIR equations\n",
    "<br>....Task 5.4: set up a function to calculate the Residual Sum of Squares between SIR model and observed data\n",
    "<br>....Task 5.5: do a least squares fit on RSS to get Beta and Gamma that minimizes the RSS\n",
    "<br>[6. Base Case - Beta as per model fit](#BaseCase)\n",
    "<br>....Task 6.1: Set up variables and assumptions\n",
    "<br>....Task 6.2: Project the spread of the epidemic based on SIR model and best Beta & Gamma fit to data\n",
    "<br>....Task 6.3: Plot SIR data and projections\n",
    "<br>....Task 6.4: Report summary data from SIR model\n",
    "<br>[7. Case 2 - Beta is allowed to change](#SlowedBeta)\n",
    "<br>....Task 7.2: Project the spread of the epidemic based on SIR model and best Beta & Gamma fit to data\n",
    "<br>....Task 7.3: Plot SIR data and projections\n",
    "<br>....Task 7.4: Report summary data from SIR model"
   ]
  },
  {
   "cell_type": "markdown",
   "metadata": {},
   "source": [
    "<pre>_____________________________________________________________________________________________________</pre>"
   ]
  },
  {
   "cell_type": "code",
   "execution_count": 197,
   "metadata": {},
   "outputs": [],
   "source": [
    "import numpy as np\n",
    "import pandas as pd\n",
    "import matplotlib.pyplot as plt\n",
    "from datetime import datetime    # library for manipulating date formats"
   ]
  },
  {
   "cell_type": "code",
   "execution_count": 198,
   "metadata": {},
   "outputs": [
    {
     "data": {
      "text/html": [
       "<style>div.output_scroll { height: 44em; }</style>"
      ],
      "text/plain": [
       "<IPython.core.display.HTML object>"
      ]
     },
     "metadata": {},
     "output_type": "display_data"
    }
   ],
   "source": [
    "# display() does a pretty print of dataframes so they look like they do in jupyter \n",
    "from IPython.core.display import display, HTML\n",
    "\n",
    "# set the size of the scrolling window in jupyter to be wider\n",
    "display(HTML(\"<style>div.output_scroll { height: 44em; }</style>\"))"
   ]
  },
  {
   "cell_type": "markdown",
   "metadata": {},
   "source": [
    "<a id='VarSetup'></a>\n",
    "# 1 Setup and variable assumptions\n",
    "[TOC](#TOC)"
   ]
  },
  {
   "cell_type": "markdown",
   "metadata": {},
   "source": [
    "## **Our to do list: Fill-in the missing portions of code and match the output shown**\n",
    "\n",
    "_1. Setup and variable assumptions:_\n",
    "\n",
    "- **Task 1.1**: Set up your input variables and flags\n",
    "- **Task 1.2**: Select region, make assumption of hospital beds, set up states, population and hospital beds\n",
    "- **Task 1.3**: Set up a state code, population and hospital bed dataframe by scraping data from web\n",
    "- **Task 1.4**: Set up a USA 8 x 11 \"map grid\" for our small multiple charts"
   ]
  },
  {
   "cell_type": "markdown",
   "metadata": {},
   "source": [
    "### Methods to use/learn:\n",
    "* `pd.read_html()`  - scrape web for list of tables as dataframes\n",
    "* `pd.merge()`      - merge dataframes on index\n",
    "* `.columns`        - use to rename columns\n",
    "* `pd.read_excel()` - read from excel files, can specify sheet to read from\n",
    "* `.to_excel()`     - write a dataframe to excel file\n",
    "* `.dropna()`       - drop rows with NaN\n",
    "* `.reset_index()`  - reset index of dataframe to default numeric"
   ]
  },
  {
   "cell_type": "markdown",
   "metadata": {},
   "source": [
    "### 1.1 Set up your input variables and flags"
   ]
  },
  {
   "cell_type": "code",
   "execution_count": 257,
   "metadata": {},
   "outputs": [],
   "source": [
    "# Global inputs - Use Named constants\n",
    "REGION              =  \"USA\"\n",
    "UNDER_REPORT_FACTOR =  1                        # multiply number of cases by this amount to account for underreporting\n",
    "CASE_STARTS         =  1_000                    # fit curves to data starting at these number of cases\n",
    "TRACE                = False                    # General debug flag for printing output"
   ]
  },
  {
   "cell_type": "markdown",
   "metadata": {},
   "source": [
    "### 1.2 Select region, make assumption of hospital beds, set up states, population and hospital beds"
   ]
  },
  {
   "cell_type": "code",
   "execution_count": 258,
   "metadata": {},
   "outputs": [],
   "source": [
    "# set population by region\n",
    "hbf  = 2.8/1000  # Estimate of hospital beds = 28 per 1000 of population"
   ]
  },
  {
   "cell_type": "markdown",
   "metadata": {},
   "source": [
    "### 1.3 Set up a state code, population and hospital bed dataframe by scraping data from web"
   ]
  },
  {
   "cell_type": "markdown",
   "metadata": {},
   "source": [
    "First, set up a dataframe with state populations, state codes and a estimate of hospital beds.  We will use this information later in our graphs.  We are going to do this by scraping the web for the data for population an postal codes and merging it into a data frame"
   ]
  },
  {
   "cell_type": "markdown",
   "metadata": {},
   "source": [
    "First get data on population.  Using this website to scrape the tables.  Looks like there is only one to select."
   ]
  },
  {
   "cell_type": "code",
   "execution_count": 259,
   "metadata": {},
   "outputs": [
    {
     "data": {
      "text/plain": [
       "1"
      ]
     },
     "execution_count": 259,
     "metadata": {},
     "output_type": "execute_result"
    }
   ],
   "source": [
    "# get populations for the states - I found this site. Scrape tables from website\n",
    "tables = pd.read_html('https://www.worldatlas.com/articles/us-states-by-population.html')\n",
    "\n",
    "# how many tables did we scrape from page?  How to locate the one with the case stats?\n",
    "len(tables)"
   ]
  },
  {
   "cell_type": "code",
   "execution_count": 260,
   "metadata": {
    "scrolled": true
   },
   "outputs": [
    {
     "data": {
      "text/html": [
       "<div>\n",
       "<style scoped>\n",
       "    .dataframe tbody tr th:only-of-type {\n",
       "        vertical-align: middle;\n",
       "    }\n",
       "\n",
       "    .dataframe tbody tr th {\n",
       "        vertical-align: top;\n",
       "    }\n",
       "\n",
       "    .dataframe thead th {\n",
       "        text-align: right;\n",
       "    }\n",
       "</style>\n",
       "<table border=\"1\" class=\"dataframe\">\n",
       "  <thead>\n",
       "    <tr style=\"text-align: right;\">\n",
       "      <th></th>\n",
       "      <th>Rank</th>\n",
       "      <th>﻿State</th>\n",
       "      <th>Population</th>\n",
       "    </tr>\n",
       "  </thead>\n",
       "  <tbody>\n",
       "    <tr>\n",
       "      <td>0</td>\n",
       "      <td>1</td>\n",
       "      <td>California</td>\n",
       "      <td>39512223</td>\n",
       "    </tr>\n",
       "    <tr>\n",
       "      <td>1</td>\n",
       "      <td>2</td>\n",
       "      <td>Texas</td>\n",
       "      <td>28995881</td>\n",
       "    </tr>\n",
       "    <tr>\n",
       "      <td>2</td>\n",
       "      <td>3</td>\n",
       "      <td>Florida</td>\n",
       "      <td>21477737</td>\n",
       "    </tr>\n",
       "    <tr>\n",
       "      <td>3</td>\n",
       "      <td>4</td>\n",
       "      <td>New York</td>\n",
       "      <td>19453561</td>\n",
       "    </tr>\n",
       "    <tr>\n",
       "      <td>4</td>\n",
       "      <td>5</td>\n",
       "      <td>Pennsylvania</td>\n",
       "      <td>12801989</td>\n",
       "    </tr>\n",
       "  </tbody>\n",
       "</table>\n",
       "</div>"
      ],
      "text/plain": [
       "   Rank        ﻿State  Population\n",
       "0     1    California    39512223\n",
       "1     2         Texas    28995881\n",
       "2     3       Florida    21477737\n",
       "3     4      New York    19453561\n",
       "4     5  Pennsylvania    12801989"
      ]
     },
     "execution_count": 260,
     "metadata": {},
     "output_type": "execute_result"
    }
   ],
   "source": [
    "# inspect\n",
    "st_pop_df = tables[0]\n",
    "st_pop_df.head()"
   ]
  },
  {
   "cell_type": "code",
   "execution_count": 261,
   "metadata": {},
   "outputs": [
    {
     "data": {
      "text/html": [
       "<div>\n",
       "<style scoped>\n",
       "    .dataframe tbody tr th:only-of-type {\n",
       "        vertical-align: middle;\n",
       "    }\n",
       "\n",
       "    .dataframe tbody tr th {\n",
       "        vertical-align: top;\n",
       "    }\n",
       "\n",
       "    .dataframe thead th {\n",
       "        text-align: right;\n",
       "    }\n",
       "</style>\n",
       "<table border=\"1\" class=\"dataframe\">\n",
       "  <thead>\n",
       "    <tr style=\"text-align: right;\">\n",
       "      <th></th>\n",
       "      <th>Rank</th>\n",
       "      <th>State</th>\n",
       "      <th>Pop</th>\n",
       "    </tr>\n",
       "  </thead>\n",
       "  <tbody>\n",
       "    <tr>\n",
       "      <td>0</td>\n",
       "      <td>1</td>\n",
       "      <td>California</td>\n",
       "      <td>39512223</td>\n",
       "    </tr>\n",
       "    <tr>\n",
       "      <td>1</td>\n",
       "      <td>2</td>\n",
       "      <td>Texas</td>\n",
       "      <td>28995881</td>\n",
       "    </tr>\n",
       "    <tr>\n",
       "      <td>2</td>\n",
       "      <td>3</td>\n",
       "      <td>Florida</td>\n",
       "      <td>21477737</td>\n",
       "    </tr>\n",
       "    <tr>\n",
       "      <td>3</td>\n",
       "      <td>4</td>\n",
       "      <td>New York</td>\n",
       "      <td>19453561</td>\n",
       "    </tr>\n",
       "    <tr>\n",
       "      <td>4</td>\n",
       "      <td>5</td>\n",
       "      <td>Pennsylvania</td>\n",
       "      <td>12801989</td>\n",
       "    </tr>\n",
       "  </tbody>\n",
       "</table>\n",
       "</div>"
      ],
      "text/plain": [
       "   Rank         State       Pop\n",
       "0     1    California  39512223\n",
       "1     2         Texas  28995881\n",
       "2     3       Florida  21477737\n",
       "3     4      New York  19453561\n",
       "4     5  Pennsylvania  12801989"
      ]
     },
     "execution_count": 261,
     "metadata": {},
     "output_type": "execute_result"
    }
   ],
   "source": [
    "# Set the column heading to be unambigous - sometimes your scraped columns have hidden characters so we will overide\n",
    "# column headings\n",
    "st_pop_df.columns = [\"Rank\",\"State\",\"Pop\"]\n",
    "st_pop_df.head()"
   ]
  },
  {
   "cell_type": "code",
   "execution_count": 262,
   "metadata": {},
   "outputs": [],
   "source": [
    "# set the index to be the \"State\" column\n",
    "st_pop_df.set_index(\"State\",drop= True ,inplace= True)"
   ]
  },
  {
   "cell_type": "code",
   "execution_count": 263,
   "metadata": {},
   "outputs": [
    {
     "data": {
      "text/html": [
       "<div>\n",
       "<style scoped>\n",
       "    .dataframe tbody tr th:only-of-type {\n",
       "        vertical-align: middle;\n",
       "    }\n",
       "\n",
       "    .dataframe tbody tr th {\n",
       "        vertical-align: top;\n",
       "    }\n",
       "\n",
       "    .dataframe thead th {\n",
       "        text-align: right;\n",
       "    }\n",
       "</style>\n",
       "<table border=\"1\" class=\"dataframe\">\n",
       "  <thead>\n",
       "    <tr style=\"text-align: right;\">\n",
       "      <th></th>\n",
       "      <th>Rank</th>\n",
       "      <th>Pop</th>\n",
       "    </tr>\n",
       "    <tr>\n",
       "      <th>State</th>\n",
       "      <th></th>\n",
       "      <th></th>\n",
       "    </tr>\n",
       "  </thead>\n",
       "  <tbody>\n",
       "    <tr>\n",
       "      <td>California</td>\n",
       "      <td>1</td>\n",
       "      <td>39512223</td>\n",
       "    </tr>\n",
       "    <tr>\n",
       "      <td>Texas</td>\n",
       "      <td>2</td>\n",
       "      <td>28995881</td>\n",
       "    </tr>\n",
       "    <tr>\n",
       "      <td>Florida</td>\n",
       "      <td>3</td>\n",
       "      <td>21477737</td>\n",
       "    </tr>\n",
       "    <tr>\n",
       "      <td>New York</td>\n",
       "      <td>4</td>\n",
       "      <td>19453561</td>\n",
       "    </tr>\n",
       "    <tr>\n",
       "      <td>Pennsylvania</td>\n",
       "      <td>5</td>\n",
       "      <td>12801989</td>\n",
       "    </tr>\n",
       "  </tbody>\n",
       "</table>\n",
       "</div>"
      ],
      "text/plain": [
       "              Rank       Pop\n",
       "State                       \n",
       "California       1  39512223\n",
       "Texas            2  28995881\n",
       "Florida          3  21477737\n",
       "New York         4  19453561\n",
       "Pennsylvania     5  12801989"
      ]
     },
     "execution_count": 263,
     "metadata": {},
     "output_type": "execute_result"
    }
   ],
   "source": [
    "st_pop_df.head()"
   ]
  },
  {
   "cell_type": "markdown",
   "metadata": {},
   "source": [
    "Next get the postal codes.  We will use this web link.  Looks like there is just one table."
   ]
  },
  {
   "cell_type": "code",
   "execution_count": 264,
   "metadata": {},
   "outputs": [],
   "source": [
    "# get state codes so we can map states to codes\n",
    "tables = pd.read_html('https://www.infoplease.com/us/postal-information/state-abbreviations-and-state-postal-codes')"
   ]
  },
  {
   "cell_type": "code",
   "execution_count": 265,
   "metadata": {},
   "outputs": [
    {
     "data": {
      "text/plain": [
       "2"
      ]
     },
     "execution_count": 265,
     "metadata": {},
     "output_type": "execute_result"
    }
   ],
   "source": [
    "# how many tables did we scrape from page?  How to locate the one with the case stats?\n",
    "len(tables)"
   ]
  },
  {
   "cell_type": "code",
   "execution_count": 266,
   "metadata": {},
   "outputs": [
    {
     "data": {
      "text/html": [
       "<div>\n",
       "<style scoped>\n",
       "    .dataframe tbody tr th:only-of-type {\n",
       "        vertical-align: middle;\n",
       "    }\n",
       "\n",
       "    .dataframe tbody tr th {\n",
       "        vertical-align: top;\n",
       "    }\n",
       "\n",
       "    .dataframe thead th {\n",
       "        text-align: right;\n",
       "    }\n",
       "</style>\n",
       "<table border=\"1\" class=\"dataframe\">\n",
       "  <thead>\n",
       "    <tr style=\"text-align: right;\">\n",
       "      <th></th>\n",
       "      <th>State/District</th>\n",
       "      <th>Abbreviation</th>\n",
       "      <th>Postal Code</th>\n",
       "    </tr>\n",
       "  </thead>\n",
       "  <tbody>\n",
       "    <tr>\n",
       "      <td>0</td>\n",
       "      <td>Alabama</td>\n",
       "      <td>Ala.</td>\n",
       "      <td>AL</td>\n",
       "    </tr>\n",
       "    <tr>\n",
       "      <td>1</td>\n",
       "      <td>Alaska</td>\n",
       "      <td>Alaska</td>\n",
       "      <td>AK</td>\n",
       "    </tr>\n",
       "    <tr>\n",
       "      <td>2</td>\n",
       "      <td>Arizona</td>\n",
       "      <td>Ariz.</td>\n",
       "      <td>AZ</td>\n",
       "    </tr>\n",
       "    <tr>\n",
       "      <td>3</td>\n",
       "      <td>Arkansas</td>\n",
       "      <td>Ark.</td>\n",
       "      <td>AR</td>\n",
       "    </tr>\n",
       "    <tr>\n",
       "      <td>4</td>\n",
       "      <td>California</td>\n",
       "      <td>Calif.</td>\n",
       "      <td>CA</td>\n",
       "    </tr>\n",
       "  </tbody>\n",
       "</table>\n",
       "</div>"
      ],
      "text/plain": [
       "  State/District Abbreviation Postal Code\n",
       "0        Alabama         Ala.          AL\n",
       "1         Alaska       Alaska          AK\n",
       "2        Arizona        Ariz.          AZ\n",
       "3       Arkansas         Ark.          AR\n",
       "4     California       Calif.          CA"
      ]
     },
     "execution_count": 266,
     "metadata": {},
     "output_type": "execute_result"
    }
   ],
   "source": [
    "#  use table[0]\n",
    "tables[0].head()"
   ]
  },
  {
   "cell_type": "code",
   "execution_count": 267,
   "metadata": {},
   "outputs": [
    {
     "data": {
      "text/html": [
       "<div>\n",
       "<style scoped>\n",
       "    .dataframe tbody tr th:only-of-type {\n",
       "        vertical-align: middle;\n",
       "    }\n",
       "\n",
       "    .dataframe tbody tr th {\n",
       "        vertical-align: top;\n",
       "    }\n",
       "\n",
       "    .dataframe thead th {\n",
       "        text-align: right;\n",
       "    }\n",
       "</style>\n",
       "<table border=\"1\" class=\"dataframe\">\n",
       "  <thead>\n",
       "    <tr style=\"text-align: right;\">\n",
       "      <th></th>\n",
       "      <th>State</th>\n",
       "      <th>Abbrev</th>\n",
       "      <th>PostCode</th>\n",
       "    </tr>\n",
       "  </thead>\n",
       "  <tbody>\n",
       "    <tr>\n",
       "      <td>0</td>\n",
       "      <td>Alabama</td>\n",
       "      <td>Ala.</td>\n",
       "      <td>AL</td>\n",
       "    </tr>\n",
       "    <tr>\n",
       "      <td>1</td>\n",
       "      <td>Alaska</td>\n",
       "      <td>Alaska</td>\n",
       "      <td>AK</td>\n",
       "    </tr>\n",
       "    <tr>\n",
       "      <td>2</td>\n",
       "      <td>Arizona</td>\n",
       "      <td>Ariz.</td>\n",
       "      <td>AZ</td>\n",
       "    </tr>\n",
       "    <tr>\n",
       "      <td>3</td>\n",
       "      <td>Arkansas</td>\n",
       "      <td>Ark.</td>\n",
       "      <td>AR</td>\n",
       "    </tr>\n",
       "    <tr>\n",
       "      <td>4</td>\n",
       "      <td>California</td>\n",
       "      <td>Calif.</td>\n",
       "      <td>CA</td>\n",
       "    </tr>\n",
       "  </tbody>\n",
       "</table>\n",
       "</div>"
      ],
      "text/plain": [
       "        State  Abbrev PostCode\n",
       "0     Alabama    Ala.       AL\n",
       "1      Alaska  Alaska       AK\n",
       "2     Arizona   Ariz.       AZ\n",
       "3    Arkansas    Ark.       AR\n",
       "4  California  Calif.       CA"
      ]
     },
     "execution_count": 267,
     "metadata": {},
     "output_type": "execute_result"
    }
   ],
   "source": [
    "# Rename columns to be safe. Also we are going to merge on \"State\" in a bit\n",
    "st_codes_df = tables[0]\n",
    "st_codes_df.columns = [\"State\",\"Abbrev\",\"PostCode\"]\n",
    "st_codes_df.head()"
   ]
  },
  {
   "cell_type": "code",
   "execution_count": 268,
   "metadata": {},
   "outputs": [],
   "source": [
    "# set the index to \"State\" to make it easy to merge dataframes later. Drop existing index and do inplace\n",
    "st_codes_df.set_index(\"State\",drop= True ,inplace= True)"
   ]
  },
  {
   "cell_type": "code",
   "execution_count": 269,
   "metadata": {},
   "outputs": [
    {
     "data": {
      "text/html": [
       "<div>\n",
       "<style scoped>\n",
       "    .dataframe tbody tr th:only-of-type {\n",
       "        vertical-align: middle;\n",
       "    }\n",
       "\n",
       "    .dataframe tbody tr th {\n",
       "        vertical-align: top;\n",
       "    }\n",
       "\n",
       "    .dataframe thead th {\n",
       "        text-align: right;\n",
       "    }\n",
       "</style>\n",
       "<table border=\"1\" class=\"dataframe\">\n",
       "  <thead>\n",
       "    <tr style=\"text-align: right;\">\n",
       "      <th></th>\n",
       "      <th>Abbrev</th>\n",
       "      <th>PostCode</th>\n",
       "    </tr>\n",
       "    <tr>\n",
       "      <th>State</th>\n",
       "      <th></th>\n",
       "      <th></th>\n",
       "    </tr>\n",
       "  </thead>\n",
       "  <tbody>\n",
       "    <tr>\n",
       "      <td>Alabama</td>\n",
       "      <td>Ala.</td>\n",
       "      <td>AL</td>\n",
       "    </tr>\n",
       "    <tr>\n",
       "      <td>Alaska</td>\n",
       "      <td>Alaska</td>\n",
       "      <td>AK</td>\n",
       "    </tr>\n",
       "    <tr>\n",
       "      <td>Arizona</td>\n",
       "      <td>Ariz.</td>\n",
       "      <td>AZ</td>\n",
       "    </tr>\n",
       "    <tr>\n",
       "      <td>Arkansas</td>\n",
       "      <td>Ark.</td>\n",
       "      <td>AR</td>\n",
       "    </tr>\n",
       "    <tr>\n",
       "      <td>California</td>\n",
       "      <td>Calif.</td>\n",
       "      <td>CA</td>\n",
       "    </tr>\n",
       "  </tbody>\n",
       "</table>\n",
       "</div>"
      ],
      "text/plain": [
       "            Abbrev PostCode\n",
       "State                      \n",
       "Alabama       Ala.       AL\n",
       "Alaska      Alaska       AK\n",
       "Arizona      Ariz.       AZ\n",
       "Arkansas      Ark.       AR\n",
       "California  Calif.       CA"
      ]
     },
     "execution_count": 269,
     "metadata": {},
     "output_type": "execute_result"
    }
   ],
   "source": [
    "st_codes_df.head()"
   ]
  },
  {
   "cell_type": "markdown",
   "metadata": {},
   "source": [
    "Now we will merge on State and create a new column for an estimate of hospital beds.  The stat that we are using is that there are 2.8 hospital beds/1000 population.  This variable has been set as hbf earlier in our program."
   ]
  },
  {
   "cell_type": "code",
   "execution_count": 270,
   "metadata": {},
   "outputs": [],
   "source": [
    "# now merge the two data frame on the \"State\" index. Set up a column \"HospBeds\" in dataframe with \n",
    "# estimate of hospital bed capacity = \"Pop\"*hbf  (hbf is the hospital bed factor we set previously)\n",
    "st_info_df = pd.merge(st_pop_df,st_codes_df,on=\"State\")\n",
    "st_info_df[\"HospBeds\"] = st_info_df[\"Pop\"]*hbf"
   ]
  },
  {
   "cell_type": "code",
   "execution_count": 271,
   "metadata": {},
   "outputs": [],
   "source": [
    "# reset the index of the dataframe to default numeric\n",
    "st_info_df= st_info_df.reset_index()"
   ]
  },
  {
   "cell_type": "code",
   "execution_count": 272,
   "metadata": {},
   "outputs": [
    {
     "data": {
      "text/html": [
       "<div>\n",
       "<style scoped>\n",
       "    .dataframe tbody tr th:only-of-type {\n",
       "        vertical-align: middle;\n",
       "    }\n",
       "\n",
       "    .dataframe tbody tr th {\n",
       "        vertical-align: top;\n",
       "    }\n",
       "\n",
       "    .dataframe thead th {\n",
       "        text-align: right;\n",
       "    }\n",
       "</style>\n",
       "<table border=\"1\" class=\"dataframe\">\n",
       "  <thead>\n",
       "    <tr style=\"text-align: right;\">\n",
       "      <th></th>\n",
       "      <th>State</th>\n",
       "      <th>Rank</th>\n",
       "      <th>Pop</th>\n",
       "      <th>Abbrev</th>\n",
       "      <th>PostCode</th>\n",
       "      <th>HospBeds</th>\n",
       "    </tr>\n",
       "  </thead>\n",
       "  <tbody>\n",
       "    <tr>\n",
       "      <td>0</td>\n",
       "      <td>California</td>\n",
       "      <td>1</td>\n",
       "      <td>39512223</td>\n",
       "      <td>Calif.</td>\n",
       "      <td>CA</td>\n",
       "      <td>110634.2244</td>\n",
       "    </tr>\n",
       "    <tr>\n",
       "      <td>1</td>\n",
       "      <td>Texas</td>\n",
       "      <td>2</td>\n",
       "      <td>28995881</td>\n",
       "      <td>Tex.</td>\n",
       "      <td>TX</td>\n",
       "      <td>81188.4668</td>\n",
       "    </tr>\n",
       "    <tr>\n",
       "      <td>2</td>\n",
       "      <td>Florida</td>\n",
       "      <td>3</td>\n",
       "      <td>21477737</td>\n",
       "      <td>Fla.</td>\n",
       "      <td>FL</td>\n",
       "      <td>60137.6636</td>\n",
       "    </tr>\n",
       "    <tr>\n",
       "      <td>3</td>\n",
       "      <td>New York</td>\n",
       "      <td>4</td>\n",
       "      <td>19453561</td>\n",
       "      <td>N.Y.</td>\n",
       "      <td>NY</td>\n",
       "      <td>54469.9708</td>\n",
       "    </tr>\n",
       "    <tr>\n",
       "      <td>4</td>\n",
       "      <td>Pennsylvania</td>\n",
       "      <td>5</td>\n",
       "      <td>12801989</td>\n",
       "      <td>Pa.</td>\n",
       "      <td>PA</td>\n",
       "      <td>35845.5692</td>\n",
       "    </tr>\n",
       "  </tbody>\n",
       "</table>\n",
       "</div>"
      ],
      "text/plain": [
       "          State  Rank       Pop  Abbrev PostCode     HospBeds\n",
       "0    California     1  39512223  Calif.       CA  110634.2244\n",
       "1         Texas     2  28995881    Tex.       TX   81188.4668\n",
       "2       Florida     3  21477737    Fla.       FL   60137.6636\n",
       "3      New York     4  19453561    N.Y.       NY   54469.9708\n",
       "4  Pennsylvania     5  12801989     Pa.       PA   35845.5692"
      ]
     },
     "execution_count": 272,
     "metadata": {},
     "output_type": "execute_result"
    }
   ],
   "source": [
    "st_info_df.head()"
   ]
  },
  {
   "cell_type": "markdown",
   "metadata": {},
   "source": [
    "Now we are going to set up a \"US Grid\" 8 rows x 11 columns to approximate the geographic location of states on a sub-plot matrix of small multiple graphs."
   ]
  },
  {
   "cell_type": "markdown",
   "metadata": {},
   "source": [
    "### 1.4 Set up a USA map grid for our small multiple charts"
   ]
  },
  {
   "cell_type": "code",
   "execution_count": 273,
   "metadata": {},
   "outputs": [],
   "source": [
    "# Read the excel USA plot grid coordinates from the excel file into a data frame.  set the index column to \"PostCode\". \n",
    "# Notice the you can specify the sheet you want to read from.\n",
    "usplotgrid_df = pd.read_excel('USplotgrid.xlsx', 'Sheet1',index_col=\"PostCode\")"
   ]
  },
  {
   "cell_type": "code",
   "execution_count": 274,
   "metadata": {},
   "outputs": [],
   "source": [
    "# drop any rows with missing data\n",
    "usplotgrid_df=usplotgrid_df.dropna()"
   ]
  },
  {
   "cell_type": "code",
   "execution_count": 275,
   "metadata": {},
   "outputs": [
    {
     "data": {
      "text/html": [
       "<div>\n",
       "<style scoped>\n",
       "    .dataframe tbody tr th:only-of-type {\n",
       "        vertical-align: middle;\n",
       "    }\n",
       "\n",
       "    .dataframe tbody tr th {\n",
       "        vertical-align: top;\n",
       "    }\n",
       "\n",
       "    .dataframe thead th {\n",
       "        text-align: right;\n",
       "    }\n",
       "</style>\n",
       "<table border=\"1\" class=\"dataframe\">\n",
       "  <thead>\n",
       "    <tr style=\"text-align: right;\">\n",
       "      <th></th>\n",
       "      <th>ax0</th>\n",
       "      <th>ax1</th>\n",
       "    </tr>\n",
       "    <tr>\n",
       "      <th>PostCode</th>\n",
       "      <th></th>\n",
       "      <th></th>\n",
       "    </tr>\n",
       "  </thead>\n",
       "  <tbody>\n",
       "    <tr>\n",
       "      <td>CA</td>\n",
       "      <td>4</td>\n",
       "      <td>0</td>\n",
       "    </tr>\n",
       "    <tr>\n",
       "      <td>TX</td>\n",
       "      <td>7</td>\n",
       "      <td>3</td>\n",
       "    </tr>\n",
       "    <tr>\n",
       "      <td>FL</td>\n",
       "      <td>7</td>\n",
       "      <td>8</td>\n",
       "    </tr>\n",
       "    <tr>\n",
       "      <td>NY</td>\n",
       "      <td>2</td>\n",
       "      <td>8</td>\n",
       "    </tr>\n",
       "    <tr>\n",
       "      <td>PA</td>\n",
       "      <td>3</td>\n",
       "      <td>8</td>\n",
       "    </tr>\n",
       "  </tbody>\n",
       "</table>\n",
       "</div>"
      ],
      "text/plain": [
       "          ax0  ax1\n",
       "PostCode          \n",
       "CA          4    0\n",
       "TX          7    3\n",
       "FL          7    8\n",
       "NY          2    8\n",
       "PA          3    8"
      ]
     },
     "execution_count": 275,
     "metadata": {},
     "output_type": "execute_result"
    }
   ],
   "source": [
    "usplotgrid_df.head()"
   ]
  },
  {
   "cell_type": "markdown",
   "metadata": {},
   "source": [
    "<pre>_____________________________________________________________________________________________________</pre>"
   ]
  },
  {
   "cell_type": "markdown",
   "metadata": {},
   "source": [
    "<a id='ScrapeData'></a>\n",
    "# 2. Scrape Data\n",
    "[TOC](#TOC)"
   ]
  },
  {
   "cell_type": "markdown",
   "metadata": {},
   "source": [
    "## **Our to do list:**\n",
    "\n",
    "_2. Scrape Wikipedia Data:_\n",
    "\n",
    "- **Task 2.1**: Scrape data from web and locate the right table\n",
    "- **Task 2.2**: Clean-up and wrangle - create a datetime column without date gaps\n",
    "- **Task 2.3**: Clean-up and wrangle - Convert non-numeric data to NaN\n",
    "- **Task 2.4**: Clean-up and wrangle - Now set \"PDate\" as datetime index and fill-in data gaps with NaN\n",
    "- **Task 2.5**: Clean-up and wrangle - create cumulative sum of cases for each state and rename columns"
   ]
  },
  {
   "cell_type": "markdown",
   "metadata": {},
   "source": [
    "### Methods to use:\n",
    "* `pd.read_html`\n",
    "* `enumerate()`,`.columns`,`.droplevel()`,`.drop()`,\n",
    "* `from datetime import datetime` - library for handling datetime data\n",
    "* `datetime.now()`                - get today's date\n",
    "* `pd.date_range()`               - set up an index for a range of dates\n",
    "* `pd.to_datetime()`              - convert string to datetime type\n",
    "* `f = lambda`, `.map(f)`\n",
    "* `pd.to_numeric()`, `.apply()`\n",
    "* `.set index()`,`.reindex()`\n",
    "* `.cumsum()`, `.rename()`\n",
    "* `.duplicated()` - check for duplicated values in a dataframe (can select index or subset of columns)\n",
    "* `pd.to_numeric()` - converts data to numeric.  Can coerce errors to NaN\n",
    "* `.astype(np.float64)` - convert datatype to float"
   ]
  },
  {
   "cell_type": "markdown",
   "metadata": {},
   "source": [
    "Now scrape the case data for our model fits from the web.  There are many sources but Wikipedia has a nice summary table for the USA that is updated every day."
   ]
  },
  {
   "cell_type": "markdown",
   "metadata": {},
   "source": [
    "### 2.1 Scrape data from web and locate the right table"
   ]
  },
  {
   "cell_type": "code",
   "execution_count": 276,
   "metadata": {},
   "outputs": [],
   "source": [
    "# Scrape latest US data\n",
    "tables = pd.read_html('https://en.wikipedia.org/wiki/Template:2019%E2%80%9320_coronavirus_pandemic_data/United_States_medical_cases')"
   ]
  },
  {
   "cell_type": "code",
   "execution_count": 277,
   "metadata": {},
   "outputs": [],
   "source": [
    "# how many tables did we scrape from page?  How to locate the one with the case stats?\n",
    "if TRACE: print(len(tables))"
   ]
  },
  {
   "cell_type": "code",
   "execution_count": 278,
   "metadata": {
    "scrolled": true
   },
   "outputs": [
    {
     "name": "stdout",
     "output_type": "stream",
     "text": [
      "0\n"
     ]
    }
   ],
   "source": [
    "# locate correct table in page - there is a hierarchical index of \"Cml\", \"Cml\" in the table we are looking for so \n",
    "# lets try and locate the correct table by searching for these column headings\n",
    "for i,table in enumerate(tables):    # enumerate returns an index and the value in the table\n",
    "    if TRACE: print(table.columns)\n",
    "    #print(\"Table: \",str(i),table.head(1))\n",
    "    # look for \"Cml\" column in table to identify index of table\n",
    "    if (\"Confirmed\",\"Cml\") in table.columns:\n",
    "        ref = i\n",
    "print(ref)"
   ]
  },
  {
   "cell_type": "code",
   "execution_count": 279,
   "metadata": {
    "scrolled": true
   },
   "outputs": [],
   "source": [
    "# ref holds the data for the table we are interested in - we want the series (i.e. column with the data)\n",
    "# notice the dups and irrelevant text \"Daily Sources .... that we will have to remove\"\n",
    "dat = tables[ref][\"Confirmed\"][\"Cml\"]\n",
    "if TRACE: display(dat)"
   ]
  },
  {
   "cell_type": "code",
   "execution_count": 280,
   "metadata": {
    "scrolled": false
   },
   "outputs": [],
   "source": [
    "# Inspect - Data frame has a hierarchical index by region\n",
    "dat = tables[ref][[\"Date\",\"West\",\"Midwest\", \"South\",\"Northeast\",\"Confirmed\"]]\n",
    "if TRACE: display(dat.head())"
   ]
  },
  {
   "cell_type": "code",
   "execution_count": 281,
   "metadata": {},
   "outputs": [],
   "source": [
    "# Save out the state column names in level1 and drop the level0 index\n",
    "dat.columns\n",
    "col_names = [x[1] for x in dat.columns]\n",
    "if TRACE: display(col_names)"
   ]
  },
  {
   "cell_type": "code",
   "execution_count": 282,
   "metadata": {},
   "outputs": [
    {
     "data": {
      "text/plain": [
       "Index(['Date', 'Date.1', 'AK', 'AZ', 'CA', 'CO', 'HI', 'ID', 'MT', 'NM', 'NV',\n",
       "       'OR', 'UT', 'WA', 'WY', 'IA', 'IL', 'IN', 'KS', 'MI', 'MN', 'MO', 'ND',\n",
       "       'NE', 'OH', 'OK', 'SD', 'WI', 'AL', 'AR', 'FL', 'GA', 'KY', 'LA', 'MS',\n",
       "       'NC', 'SC', 'TN', 'TX', 'VA', 'WV', 'CT', 'DC', 'DE', 'MA', 'MD', 'ME',\n",
       "       'NH', 'NJ', 'NY', 'PA', 'RI', 'VT', 'New', 'Cml'],\n",
       "      dtype='object')"
      ]
     },
     "execution_count": 282,
     "metadata": {},
     "output_type": "execute_result"
    }
   ],
   "source": [
    "dat.columns.droplevel()"
   ]
  },
  {
   "cell_type": "code",
   "execution_count": 283,
   "metadata": {
    "scrolled": false
   },
   "outputs": [],
   "source": [
    "dat.columns = col_names\n",
    "if TRACE: display(dat.head())"
   ]
  },
  {
   "cell_type": "code",
   "execution_count": 284,
   "metadata": {},
   "outputs": [],
   "source": [
    "dat = dat.drop(\"Date.1\",axis=1)"
   ]
  },
  {
   "cell_type": "code",
   "execution_count": 285,
   "metadata": {},
   "outputs": [
    {
     "data": {
      "text/html": [
       "<div>\n",
       "<style scoped>\n",
       "    .dataframe tbody tr th:only-of-type {\n",
       "        vertical-align: middle;\n",
       "    }\n",
       "\n",
       "    .dataframe tbody tr th {\n",
       "        vertical-align: top;\n",
       "    }\n",
       "\n",
       "    .dataframe thead th {\n",
       "        text-align: right;\n",
       "    }\n",
       "</style>\n",
       "<table border=\"1\" class=\"dataframe\">\n",
       "  <thead>\n",
       "    <tr style=\"text-align: right;\">\n",
       "      <th></th>\n",
       "      <th>Date</th>\n",
       "      <th>AK</th>\n",
       "      <th>AZ</th>\n",
       "      <th>CA</th>\n",
       "      <th>CO</th>\n",
       "      <th>HI</th>\n",
       "      <th>ID</th>\n",
       "      <th>MT</th>\n",
       "      <th>NM</th>\n",
       "      <th>NV</th>\n",
       "      <th>...</th>\n",
       "      <th>MD</th>\n",
       "      <th>ME</th>\n",
       "      <th>NH</th>\n",
       "      <th>NJ</th>\n",
       "      <th>NY</th>\n",
       "      <th>PA</th>\n",
       "      <th>RI</th>\n",
       "      <th>VT</th>\n",
       "      <th>New</th>\n",
       "      <th>Cml</th>\n",
       "    </tr>\n",
       "  </thead>\n",
       "  <tbody>\n",
       "    <tr>\n",
       "      <td>0</td>\n",
       "      <td>Jan 21</td>\n",
       "      <td>NaN</td>\n",
       "      <td>NaN</td>\n",
       "      <td>NaN</td>\n",
       "      <td>NaN</td>\n",
       "      <td>NaN</td>\n",
       "      <td>NaN</td>\n",
       "      <td>NaN</td>\n",
       "      <td>NaN</td>\n",
       "      <td>NaN</td>\n",
       "      <td>...</td>\n",
       "      <td>NaN</td>\n",
       "      <td>NaN</td>\n",
       "      <td>NaN</td>\n",
       "      <td>NaN</td>\n",
       "      <td>NaN</td>\n",
       "      <td>NaN</td>\n",
       "      <td>NaN</td>\n",
       "      <td>NaN</td>\n",
       "      <td>1</td>\n",
       "      <td>1</td>\n",
       "    </tr>\n",
       "    <tr>\n",
       "      <td>1</td>\n",
       "      <td>Jan 24</td>\n",
       "      <td>NaN</td>\n",
       "      <td>NaN</td>\n",
       "      <td>NaN</td>\n",
       "      <td>NaN</td>\n",
       "      <td>NaN</td>\n",
       "      <td>NaN</td>\n",
       "      <td>NaN</td>\n",
       "      <td>NaN</td>\n",
       "      <td>NaN</td>\n",
       "      <td>...</td>\n",
       "      <td>NaN</td>\n",
       "      <td>NaN</td>\n",
       "      <td>NaN</td>\n",
       "      <td>NaN</td>\n",
       "      <td>NaN</td>\n",
       "      <td>NaN</td>\n",
       "      <td>NaN</td>\n",
       "      <td>NaN</td>\n",
       "      <td>1</td>\n",
       "      <td>2</td>\n",
       "    </tr>\n",
       "    <tr>\n",
       "      <td>2</td>\n",
       "      <td>Jan 25</td>\n",
       "      <td>NaN</td>\n",
       "      <td>NaN</td>\n",
       "      <td>1</td>\n",
       "      <td>NaN</td>\n",
       "      <td>NaN</td>\n",
       "      <td>NaN</td>\n",
       "      <td>NaN</td>\n",
       "      <td>NaN</td>\n",
       "      <td>NaN</td>\n",
       "      <td>...</td>\n",
       "      <td>NaN</td>\n",
       "      <td>NaN</td>\n",
       "      <td>NaN</td>\n",
       "      <td>NaN</td>\n",
       "      <td>NaN</td>\n",
       "      <td>NaN</td>\n",
       "      <td>NaN</td>\n",
       "      <td>NaN</td>\n",
       "      <td>1</td>\n",
       "      <td>3</td>\n",
       "    </tr>\n",
       "    <tr>\n",
       "      <td>3</td>\n",
       "      <td>Jan 26</td>\n",
       "      <td>NaN</td>\n",
       "      <td>1</td>\n",
       "      <td>1</td>\n",
       "      <td>NaN</td>\n",
       "      <td>NaN</td>\n",
       "      <td>NaN</td>\n",
       "      <td>NaN</td>\n",
       "      <td>NaN</td>\n",
       "      <td>NaN</td>\n",
       "      <td>...</td>\n",
       "      <td>NaN</td>\n",
       "      <td>NaN</td>\n",
       "      <td>NaN</td>\n",
       "      <td>NaN</td>\n",
       "      <td>NaN</td>\n",
       "      <td>NaN</td>\n",
       "      <td>NaN</td>\n",
       "      <td>NaN</td>\n",
       "      <td>2</td>\n",
       "      <td>5</td>\n",
       "    </tr>\n",
       "    <tr>\n",
       "      <td>4</td>\n",
       "      <td>Jan 30</td>\n",
       "      <td>NaN</td>\n",
       "      <td>NaN</td>\n",
       "      <td>NaN</td>\n",
       "      <td>NaN</td>\n",
       "      <td>NaN</td>\n",
       "      <td>NaN</td>\n",
       "      <td>NaN</td>\n",
       "      <td>NaN</td>\n",
       "      <td>NaN</td>\n",
       "      <td>...</td>\n",
       "      <td>NaN</td>\n",
       "      <td>NaN</td>\n",
       "      <td>NaN</td>\n",
       "      <td>NaN</td>\n",
       "      <td>NaN</td>\n",
       "      <td>NaN</td>\n",
       "      <td>NaN</td>\n",
       "      <td>NaN</td>\n",
       "      <td>1</td>\n",
       "      <td>6</td>\n",
       "    </tr>\n",
       "  </tbody>\n",
       "</table>\n",
       "<p>5 rows × 54 columns</p>\n",
       "</div>"
      ],
      "text/plain": [
       "     Date   AK   AZ   CA   CO   HI   ID   MT   NM   NV  ...   MD   ME   NH  \\\n",
       "0  Jan 21  NaN  NaN  NaN  NaN  NaN  NaN  NaN  NaN  NaN  ...  NaN  NaN  NaN   \n",
       "1  Jan 24  NaN  NaN  NaN  NaN  NaN  NaN  NaN  NaN  NaN  ...  NaN  NaN  NaN   \n",
       "2  Jan 25  NaN  NaN    1  NaN  NaN  NaN  NaN  NaN  NaN  ...  NaN  NaN  NaN   \n",
       "3  Jan 26  NaN    1    1  NaN  NaN  NaN  NaN  NaN  NaN  ...  NaN  NaN  NaN   \n",
       "4  Jan 30  NaN  NaN  NaN  NaN  NaN  NaN  NaN  NaN  NaN  ...  NaN  NaN  NaN   \n",
       "\n",
       "    NJ   NY   PA   RI   VT New Cml  \n",
       "0  NaN  NaN  NaN  NaN  NaN   1   1  \n",
       "1  NaN  NaN  NaN  NaN  NaN   1   2  \n",
       "2  NaN  NaN  NaN  NaN  NaN   1   3  \n",
       "3  NaN  NaN  NaN  NaN  NaN   2   5  \n",
       "4  NaN  NaN  NaN  NaN  NaN   1   6  \n",
       "\n",
       "[5 rows x 54 columns]"
      ]
     },
     "metadata": {},
     "output_type": "display_data"
    },
    {
     "data": {
      "text/html": [
       "<div>\n",
       "<style scoped>\n",
       "    .dataframe tbody tr th:only-of-type {\n",
       "        vertical-align: middle;\n",
       "    }\n",
       "\n",
       "    .dataframe tbody tr th {\n",
       "        vertical-align: top;\n",
       "    }\n",
       "\n",
       "    .dataframe thead th {\n",
       "        text-align: right;\n",
       "    }\n",
       "</style>\n",
       "<table border=\"1\" class=\"dataframe\">\n",
       "  <thead>\n",
       "    <tr style=\"text-align: right;\">\n",
       "      <th></th>\n",
       "      <th>Date</th>\n",
       "      <th>AK</th>\n",
       "      <th>AZ</th>\n",
       "      <th>CA</th>\n",
       "      <th>CO</th>\n",
       "      <th>HI</th>\n",
       "      <th>ID</th>\n",
       "      <th>MT</th>\n",
       "      <th>NM</th>\n",
       "      <th>NV</th>\n",
       "      <th>...</th>\n",
       "      <th>MD</th>\n",
       "      <th>ME</th>\n",
       "      <th>NH</th>\n",
       "      <th>NJ</th>\n",
       "      <th>NY</th>\n",
       "      <th>PA</th>\n",
       "      <th>RI</th>\n",
       "      <th>VT</th>\n",
       "      <th>New</th>\n",
       "      <th>Cml</th>\n",
       "    </tr>\n",
       "  </thead>\n",
       "  <tbody>\n",
       "    <tr>\n",
       "      <td>73</td>\n",
       "      <td>Total</td>\n",
       "      <td>329</td>\n",
       "      <td>5251</td>\n",
       "      <td>33261</td>\n",
       "      <td>10447</td>\n",
       "      <td>586</td>\n",
       "      <td>1766</td>\n",
       "      <td>437</td>\n",
       "      <td>2072</td>\n",
       "      <td>3937</td>\n",
       "      <td>...</td>\n",
       "      <td>14775</td>\n",
       "      <td>907</td>\n",
       "      <td>1491</td>\n",
       "      <td>95865</td>\n",
       "      <td>257216</td>\n",
       "      <td>35684</td>\n",
       "      <td>5841</td>\n",
       "      <td>823</td>\n",
       "      <td>801122</td>\n",
       "      <td>801122</td>\n",
       "    </tr>\n",
       "    <tr>\n",
       "      <td>74</td>\n",
       "      <td>State Sources</td>\n",
       "      <td>AK</td>\n",
       "      <td>AZ</td>\n",
       "      <td>CA</td>\n",
       "      <td>CO</td>\n",
       "      <td>HI</td>\n",
       "      <td>ID</td>\n",
       "      <td>MT</td>\n",
       "      <td>NM</td>\n",
       "      <td>NV</td>\n",
       "      <td>...</td>\n",
       "      <td>MD</td>\n",
       "      <td>ME</td>\n",
       "      <td>NH</td>\n",
       "      <td>NJ</td>\n",
       "      <td>NY</td>\n",
       "      <td>PA</td>\n",
       "      <td>RI</td>\n",
       "      <td>VT</td>\n",
       "      <td>New</td>\n",
       "      <td>Cml</td>\n",
       "    </tr>\n",
       "    <tr>\n",
       "      <td>75</td>\n",
       "      <td>State Sources</td>\n",
       "      <td>West</td>\n",
       "      <td>West</td>\n",
       "      <td>West</td>\n",
       "      <td>West</td>\n",
       "      <td>West</td>\n",
       "      <td>West</td>\n",
       "      <td>West</td>\n",
       "      <td>West</td>\n",
       "      <td>West</td>\n",
       "      <td>...</td>\n",
       "      <td>Northeast</td>\n",
       "      <td>Northeast</td>\n",
       "      <td>Northeast</td>\n",
       "      <td>Northeast</td>\n",
       "      <td>Northeast</td>\n",
       "      <td>Northeast</td>\n",
       "      <td>Northeast</td>\n",
       "      <td>Northeast</td>\n",
       "      <td>Confirmed</td>\n",
       "      <td>Confirmed</td>\n",
       "    </tr>\n",
       "    <tr>\n",
       "      <td>76</td>\n",
       "      <td>State Sources</td>\n",
       "      <td>[1]</td>\n",
       "      <td>[2]</td>\n",
       "      <td>[3]</td>\n",
       "      <td>[4]</td>\n",
       "      <td>[5][6]</td>\n",
       "      <td>[7]</td>\n",
       "      <td>[8][9]</td>\n",
       "      <td>[10]</td>\n",
       "      <td>[11][12]</td>\n",
       "      <td>...</td>\n",
       "      <td>[53]</td>\n",
       "      <td>[54]</td>\n",
       "      <td>[55]</td>\n",
       "      <td>[56][57]</td>\n",
       "      <td>[58][59]</td>\n",
       "      <td>[60][61]</td>\n",
       "      <td>[62]</td>\n",
       "      <td>[63]</td>\n",
       "      <td>NaN</td>\n",
       "      <td>NaN</td>\n",
       "    </tr>\n",
       "    <tr>\n",
       "      <td>77</td>\n",
       "      <td>Daily Sources Jan 21 [69] Jan 24 [70] Jan 25 [...</td>\n",
       "      <td>Daily Sources Jan 21 [69] Jan 24 [70] Jan 25 [...</td>\n",
       "      <td>Daily Sources Jan 21 [69] Jan 24 [70] Jan 25 [...</td>\n",
       "      <td>Daily Sources Jan 21 [69] Jan 24 [70] Jan 25 [...</td>\n",
       "      <td>Daily Sources Jan 21 [69] Jan 24 [70] Jan 25 [...</td>\n",
       "      <td>Daily Sources Jan 21 [69] Jan 24 [70] Jan 25 [...</td>\n",
       "      <td>Daily Sources Jan 21 [69] Jan 24 [70] Jan 25 [...</td>\n",
       "      <td>Daily Sources Jan 21 [69] Jan 24 [70] Jan 25 [...</td>\n",
       "      <td>Daily Sources Jan 21 [69] Jan 24 [70] Jan 25 [...</td>\n",
       "      <td>Daily Sources Jan 21 [69] Jan 24 [70] Jan 25 [...</td>\n",
       "      <td>...</td>\n",
       "      <td>Daily Sources Jan 21 [69] Jan 24 [70] Jan 25 [...</td>\n",
       "      <td>Daily Sources Jan 21 [69] Jan 24 [70] Jan 25 [...</td>\n",
       "      <td>Daily Sources Jan 21 [69] Jan 24 [70] Jan 25 [...</td>\n",
       "      <td>Daily Sources Jan 21 [69] Jan 24 [70] Jan 25 [...</td>\n",
       "      <td>Daily Sources Jan 21 [69] Jan 24 [70] Jan 25 [...</td>\n",
       "      <td>Daily Sources Jan 21 [69] Jan 24 [70] Jan 25 [...</td>\n",
       "      <td>Daily Sources Jan 21 [69] Jan 24 [70] Jan 25 [...</td>\n",
       "      <td>Daily Sources Jan 21 [69] Jan 24 [70] Jan 25 [...</td>\n",
       "      <td>Daily Sources Jan 21 [69] Jan 24 [70] Jan 25 [...</td>\n",
       "      <td>Daily Sources Jan 21 [69] Jan 24 [70] Jan 25 [...</td>\n",
       "    </tr>\n",
       "  </tbody>\n",
       "</table>\n",
       "<p>5 rows × 54 columns</p>\n",
       "</div>"
      ],
      "text/plain": [
       "                                                 Date  \\\n",
       "73                                              Total   \n",
       "74                                      State Sources   \n",
       "75                                      State Sources   \n",
       "76                                      State Sources   \n",
       "77  Daily Sources Jan 21 [69] Jan 24 [70] Jan 25 [...   \n",
       "\n",
       "                                                   AK  \\\n",
       "73                                                329   \n",
       "74                                                 AK   \n",
       "75                                               West   \n",
       "76                                                [1]   \n",
       "77  Daily Sources Jan 21 [69] Jan 24 [70] Jan 25 [...   \n",
       "\n",
       "                                                   AZ  \\\n",
       "73                                               5251   \n",
       "74                                                 AZ   \n",
       "75                                               West   \n",
       "76                                                [2]   \n",
       "77  Daily Sources Jan 21 [69] Jan 24 [70] Jan 25 [...   \n",
       "\n",
       "                                                   CA  \\\n",
       "73                                              33261   \n",
       "74                                                 CA   \n",
       "75                                               West   \n",
       "76                                                [3]   \n",
       "77  Daily Sources Jan 21 [69] Jan 24 [70] Jan 25 [...   \n",
       "\n",
       "                                                   CO  \\\n",
       "73                                              10447   \n",
       "74                                                 CO   \n",
       "75                                               West   \n",
       "76                                                [4]   \n",
       "77  Daily Sources Jan 21 [69] Jan 24 [70] Jan 25 [...   \n",
       "\n",
       "                                                   HI  \\\n",
       "73                                                586   \n",
       "74                                                 HI   \n",
       "75                                               West   \n",
       "76                                             [5][6]   \n",
       "77  Daily Sources Jan 21 [69] Jan 24 [70] Jan 25 [...   \n",
       "\n",
       "                                                   ID  \\\n",
       "73                                               1766   \n",
       "74                                                 ID   \n",
       "75                                               West   \n",
       "76                                                [7]   \n",
       "77  Daily Sources Jan 21 [69] Jan 24 [70] Jan 25 [...   \n",
       "\n",
       "                                                   MT  \\\n",
       "73                                                437   \n",
       "74                                                 MT   \n",
       "75                                               West   \n",
       "76                                             [8][9]   \n",
       "77  Daily Sources Jan 21 [69] Jan 24 [70] Jan 25 [...   \n",
       "\n",
       "                                                   NM  \\\n",
       "73                                               2072   \n",
       "74                                                 NM   \n",
       "75                                               West   \n",
       "76                                               [10]   \n",
       "77  Daily Sources Jan 21 [69] Jan 24 [70] Jan 25 [...   \n",
       "\n",
       "                                                   NV  ...  \\\n",
       "73                                               3937  ...   \n",
       "74                                                 NV  ...   \n",
       "75                                               West  ...   \n",
       "76                                           [11][12]  ...   \n",
       "77  Daily Sources Jan 21 [69] Jan 24 [70] Jan 25 [...  ...   \n",
       "\n",
       "                                                   MD  \\\n",
       "73                                              14775   \n",
       "74                                                 MD   \n",
       "75                                          Northeast   \n",
       "76                                               [53]   \n",
       "77  Daily Sources Jan 21 [69] Jan 24 [70] Jan 25 [...   \n",
       "\n",
       "                                                   ME  \\\n",
       "73                                                907   \n",
       "74                                                 ME   \n",
       "75                                          Northeast   \n",
       "76                                               [54]   \n",
       "77  Daily Sources Jan 21 [69] Jan 24 [70] Jan 25 [...   \n",
       "\n",
       "                                                   NH  \\\n",
       "73                                               1491   \n",
       "74                                                 NH   \n",
       "75                                          Northeast   \n",
       "76                                               [55]   \n",
       "77  Daily Sources Jan 21 [69] Jan 24 [70] Jan 25 [...   \n",
       "\n",
       "                                                   NJ  \\\n",
       "73                                              95865   \n",
       "74                                                 NJ   \n",
       "75                                          Northeast   \n",
       "76                                           [56][57]   \n",
       "77  Daily Sources Jan 21 [69] Jan 24 [70] Jan 25 [...   \n",
       "\n",
       "                                                   NY  \\\n",
       "73                                             257216   \n",
       "74                                                 NY   \n",
       "75                                          Northeast   \n",
       "76                                           [58][59]   \n",
       "77  Daily Sources Jan 21 [69] Jan 24 [70] Jan 25 [...   \n",
       "\n",
       "                                                   PA  \\\n",
       "73                                              35684   \n",
       "74                                                 PA   \n",
       "75                                          Northeast   \n",
       "76                                           [60][61]   \n",
       "77  Daily Sources Jan 21 [69] Jan 24 [70] Jan 25 [...   \n",
       "\n",
       "                                                   RI  \\\n",
       "73                                               5841   \n",
       "74                                                 RI   \n",
       "75                                          Northeast   \n",
       "76                                               [62]   \n",
       "77  Daily Sources Jan 21 [69] Jan 24 [70] Jan 25 [...   \n",
       "\n",
       "                                                   VT  \\\n",
       "73                                                823   \n",
       "74                                                 VT   \n",
       "75                                          Northeast   \n",
       "76                                               [63]   \n",
       "77  Daily Sources Jan 21 [69] Jan 24 [70] Jan 25 [...   \n",
       "\n",
       "                                                  New  \\\n",
       "73                                             801122   \n",
       "74                                                New   \n",
       "75                                          Confirmed   \n",
       "76                                                NaN   \n",
       "77  Daily Sources Jan 21 [69] Jan 24 [70] Jan 25 [...   \n",
       "\n",
       "                                                  Cml  \n",
       "73                                             801122  \n",
       "74                                                Cml  \n",
       "75                                          Confirmed  \n",
       "76                                                NaN  \n",
       "77  Daily Sources Jan 21 [69] Jan 24 [70] Jan 25 [...  \n",
       "\n",
       "[5 rows x 54 columns]"
      ]
     },
     "metadata": {},
     "output_type": "display_data"
    }
   ],
   "source": [
    "# We have some clean-up to do here.  NaNs, and extraneous data in rows at end of dataframe\n",
    "display(dat.head())\n",
    "display(dat.tail())"
   ]
  },
  {
   "cell_type": "markdown",
   "metadata": {},
   "source": [
    "### 2.2 Clean-up and wrangle - create a datetime column without date gaps"
   ]
  },
  {
   "cell_type": "code",
   "execution_count": 286,
   "metadata": {},
   "outputs": [],
   "source": [
    "# There are gaps in the date index so set up a daily date index starting Jan 21 to now to fill in missing values\n",
    "# the datetime library is very useful for handling datetime data\n",
    "from datetime import datetime\n",
    "# get today's date\n",
    "now = datetime.now()\n",
    "# set up an index of dates - we will use this to re-index our dataframe later to handle gaps in days in dataframe\n",
    "idx = pd.date_range(start='2020-01-21',end = now )"
   ]
  },
  {
   "cell_type": "code",
   "execution_count": 287,
   "metadata": {
    "scrolled": true
   },
   "outputs": [],
   "source": [
    "if TRACE: display(idx)"
   ]
  },
  {
   "cell_type": "code",
   "execution_count": 288,
   "metadata": {},
   "outputs": [],
   "source": [
    "# Locate the end of the table, look for the \"Total\" string and its index\n",
    "e_idx = dat[\"Date\"][dat.Date==\"Total\"].index[0]\n",
    "if TRACE: display(e_idx)"
   ]
  },
  {
   "cell_type": "code",
   "execution_count": 289,
   "metadata": {},
   "outputs": [],
   "source": [
    "# Make a copy of this slice of dataframe\n",
    "dat = dat.iloc[:e_idx,:].copy()\n",
    "if TRACE: display(dat.tail())"
   ]
  },
  {
   "cell_type": "code",
   "execution_count": 290,
   "metadata": {},
   "outputs": [
    {
     "data": {
      "text/plain": [
       "4"
      ]
     },
     "execution_count": 290,
     "metadata": {},
     "output_type": "execute_result"
    }
   ],
   "source": [
    "# check for duplicate dates. Keep= False shows all duplicates. Sum() will give the number of True\n",
    "dat.Date.duplicated(keep=False).sum()"
   ]
  },
  {
   "cell_type": "code",
   "execution_count": 291,
   "metadata": {},
   "outputs": [
    {
     "data": {
      "text/html": [
       "<div>\n",
       "<style scoped>\n",
       "    .dataframe tbody tr th:only-of-type {\n",
       "        vertical-align: middle;\n",
       "    }\n",
       "\n",
       "    .dataframe tbody tr th {\n",
       "        vertical-align: top;\n",
       "    }\n",
       "\n",
       "    .dataframe thead th {\n",
       "        text-align: right;\n",
       "    }\n",
       "</style>\n",
       "<table border=\"1\" class=\"dataframe\">\n",
       "  <thead>\n",
       "    <tr style=\"text-align: right;\">\n",
       "      <th></th>\n",
       "      <th>Date</th>\n",
       "      <th>AK</th>\n",
       "      <th>AZ</th>\n",
       "      <th>CA</th>\n",
       "      <th>CO</th>\n",
       "      <th>HI</th>\n",
       "      <th>ID</th>\n",
       "      <th>MT</th>\n",
       "      <th>NM</th>\n",
       "      <th>NV</th>\n",
       "      <th>...</th>\n",
       "      <th>MD</th>\n",
       "      <th>ME</th>\n",
       "      <th>NH</th>\n",
       "      <th>NJ</th>\n",
       "      <th>NY</th>\n",
       "      <th>PA</th>\n",
       "      <th>RI</th>\n",
       "      <th>VT</th>\n",
       "      <th>New</th>\n",
       "      <th>Cml</th>\n",
       "    </tr>\n",
       "  </thead>\n",
       "  <tbody>\n",
       "    <tr>\n",
       "      <td>16</td>\n",
       "      <td>Date</td>\n",
       "      <td>West</td>\n",
       "      <td>West</td>\n",
       "      <td>West</td>\n",
       "      <td>West</td>\n",
       "      <td>West</td>\n",
       "      <td>West</td>\n",
       "      <td>West</td>\n",
       "      <td>West</td>\n",
       "      <td>West</td>\n",
       "      <td>...</td>\n",
       "      <td>Northeast</td>\n",
       "      <td>Northeast</td>\n",
       "      <td>Northeast</td>\n",
       "      <td>Northeast</td>\n",
       "      <td>Northeast</td>\n",
       "      <td>Northeast</td>\n",
       "      <td>Northeast</td>\n",
       "      <td>Northeast</td>\n",
       "      <td>Confirmed</td>\n",
       "      <td>Confirmed</td>\n",
       "    </tr>\n",
       "    <tr>\n",
       "      <td>17</td>\n",
       "      <td>Date</td>\n",
       "      <td>AK</td>\n",
       "      <td>AZ</td>\n",
       "      <td>CA</td>\n",
       "      <td>CO</td>\n",
       "      <td>HI</td>\n",
       "      <td>ID</td>\n",
       "      <td>MT</td>\n",
       "      <td>NM</td>\n",
       "      <td>NV</td>\n",
       "      <td>...</td>\n",
       "      <td>MD</td>\n",
       "      <td>ME</td>\n",
       "      <td>NH</td>\n",
       "      <td>NJ</td>\n",
       "      <td>NY</td>\n",
       "      <td>PA</td>\n",
       "      <td>RI</td>\n",
       "      <td>VT</td>\n",
       "      <td>New</td>\n",
       "      <td>Cml</td>\n",
       "    </tr>\n",
       "    <tr>\n",
       "      <td>49</td>\n",
       "      <td>Date</td>\n",
       "      <td>West</td>\n",
       "      <td>West</td>\n",
       "      <td>West</td>\n",
       "      <td>West</td>\n",
       "      <td>West</td>\n",
       "      <td>West</td>\n",
       "      <td>West</td>\n",
       "      <td>West</td>\n",
       "      <td>West</td>\n",
       "      <td>...</td>\n",
       "      <td>Northeast</td>\n",
       "      <td>Northeast</td>\n",
       "      <td>Northeast</td>\n",
       "      <td>Northeast</td>\n",
       "      <td>Northeast</td>\n",
       "      <td>Northeast</td>\n",
       "      <td>Northeast</td>\n",
       "      <td>Northeast</td>\n",
       "      <td>Confirmed</td>\n",
       "      <td>Confirmed</td>\n",
       "    </tr>\n",
       "    <tr>\n",
       "      <td>50</td>\n",
       "      <td>Date</td>\n",
       "      <td>AK</td>\n",
       "      <td>AZ</td>\n",
       "      <td>CA</td>\n",
       "      <td>CO</td>\n",
       "      <td>HI</td>\n",
       "      <td>ID</td>\n",
       "      <td>MT</td>\n",
       "      <td>NM</td>\n",
       "      <td>NV</td>\n",
       "      <td>...</td>\n",
       "      <td>MD</td>\n",
       "      <td>ME</td>\n",
       "      <td>NH</td>\n",
       "      <td>NJ</td>\n",
       "      <td>NY</td>\n",
       "      <td>PA</td>\n",
       "      <td>RI</td>\n",
       "      <td>VT</td>\n",
       "      <td>New</td>\n",
       "      <td>Cml</td>\n",
       "    </tr>\n",
       "  </tbody>\n",
       "</table>\n",
       "<p>4 rows × 54 columns</p>\n",
       "</div>"
      ],
      "text/plain": [
       "    Date    AK    AZ    CA    CO    HI    ID    MT    NM    NV  ...  \\\n",
       "16  Date  West  West  West  West  West  West  West  West  West  ...   \n",
       "17  Date    AK    AZ    CA    CO    HI    ID    MT    NM    NV  ...   \n",
       "49  Date  West  West  West  West  West  West  West  West  West  ...   \n",
       "50  Date    AK    AZ    CA    CO    HI    ID    MT    NM    NV  ...   \n",
       "\n",
       "           MD         ME         NH         NJ         NY         PA  \\\n",
       "16  Northeast  Northeast  Northeast  Northeast  Northeast  Northeast   \n",
       "17         MD         ME         NH         NJ         NY         PA   \n",
       "49  Northeast  Northeast  Northeast  Northeast  Northeast  Northeast   \n",
       "50         MD         ME         NH         NJ         NY         PA   \n",
       "\n",
       "           RI         VT        New        Cml  \n",
       "16  Northeast  Northeast  Confirmed  Confirmed  \n",
       "17         RI         VT        New        Cml  \n",
       "49  Northeast  Northeast  Confirmed  Confirmed  \n",
       "50         RI         VT        New        Cml  \n",
       "\n",
       "[4 rows x 54 columns]"
      ]
     },
     "execution_count": 291,
     "metadata": {},
     "output_type": "execute_result"
    }
   ],
   "source": [
    "# which ones? These rows do not contain case data - looking at web page - we see \"header row\" repeated in middle of\n",
    "# table - will need to remove these entries from data\n",
    "dat[dat.Date.duplicated(keep=False)]"
   ]
  },
  {
   "cell_type": "code",
   "execution_count": 292,
   "metadata": {},
   "outputs": [
    {
     "data": {
      "text/plain": [
       "'Feb 1 20'"
      ]
     },
     "metadata": {},
     "output_type": "display_data"
    },
    {
     "data": {
      "text/plain": [
       "nan"
      ]
     },
     "metadata": {},
     "output_type": "display_data"
    }
   ],
   "source": [
    "# This function checks if string is a month and returns it unchanged otherwise sets to NaN\n",
    "def dtstr(x):\n",
    "    mths = [\"Jan\",\"Feb\",\"Mar\",\"Apr\",\"May\",\"Jun\",\"Jul\",\"Aug\",\"Sep\",\"Oct\",\"Nov\",\"Dec\"]\n",
    "    found = False\n",
    "    s = np.nan\n",
    "    for mth in mths:\n",
    "        if x.find(mth)==0:\n",
    "            s = x\n",
    "            break\n",
    "    return s\n",
    "\n",
    "x = \"Feb 1 20\"\n",
    "display(dtstr(x))\n",
    "display(dtstr(\"Date\"))"
   ]
  },
  {
   "cell_type": "code",
   "execution_count": 293,
   "metadata": {},
   "outputs": [],
   "source": [
    "# convert date to something we can then convert to datetime string type which is easy to manipulate. Now use this lambda \n",
    "# function to map the revised date to the Date column\n",
    "f = lambda x: dtstr(x[0:10]+\" 20\")  # add year = 20 to date string if it is a month\n",
    "dat.loc[:,\"Date\"] = dat[\"Date\"].map(f)"
   ]
  },
  {
   "cell_type": "code",
   "execution_count": 294,
   "metadata": {},
   "outputs": [],
   "source": [
    "# inspect that change took place\n",
    "if TRACE: display(dat.head())"
   ]
  },
  {
   "cell_type": "code",
   "execution_count": 295,
   "metadata": {},
   "outputs": [
    {
     "data": {
      "text/html": [
       "<div>\n",
       "<style scoped>\n",
       "    .dataframe tbody tr th:only-of-type {\n",
       "        vertical-align: middle;\n",
       "    }\n",
       "\n",
       "    .dataframe tbody tr th {\n",
       "        vertical-align: top;\n",
       "    }\n",
       "\n",
       "    .dataframe thead th {\n",
       "        text-align: right;\n",
       "    }\n",
       "</style>\n",
       "<table border=\"1\" class=\"dataframe\">\n",
       "  <thead>\n",
       "    <tr style=\"text-align: right;\">\n",
       "      <th></th>\n",
       "      <th>Date</th>\n",
       "      <th>AK</th>\n",
       "      <th>AZ</th>\n",
       "      <th>CA</th>\n",
       "      <th>CO</th>\n",
       "      <th>HI</th>\n",
       "      <th>ID</th>\n",
       "      <th>MT</th>\n",
       "      <th>NM</th>\n",
       "      <th>NV</th>\n",
       "      <th>...</th>\n",
       "      <th>MD</th>\n",
       "      <th>ME</th>\n",
       "      <th>NH</th>\n",
       "      <th>NJ</th>\n",
       "      <th>NY</th>\n",
       "      <th>PA</th>\n",
       "      <th>RI</th>\n",
       "      <th>VT</th>\n",
       "      <th>New</th>\n",
       "      <th>Cml</th>\n",
       "    </tr>\n",
       "  </thead>\n",
       "  <tbody>\n",
       "    <tr>\n",
       "      <td>16</td>\n",
       "      <td>NaN</td>\n",
       "      <td>West</td>\n",
       "      <td>West</td>\n",
       "      <td>West</td>\n",
       "      <td>West</td>\n",
       "      <td>West</td>\n",
       "      <td>West</td>\n",
       "      <td>West</td>\n",
       "      <td>West</td>\n",
       "      <td>West</td>\n",
       "      <td>...</td>\n",
       "      <td>Northeast</td>\n",
       "      <td>Northeast</td>\n",
       "      <td>Northeast</td>\n",
       "      <td>Northeast</td>\n",
       "      <td>Northeast</td>\n",
       "      <td>Northeast</td>\n",
       "      <td>Northeast</td>\n",
       "      <td>Northeast</td>\n",
       "      <td>Confirmed</td>\n",
       "      <td>Confirmed</td>\n",
       "    </tr>\n",
       "    <tr>\n",
       "      <td>17</td>\n",
       "      <td>NaN</td>\n",
       "      <td>AK</td>\n",
       "      <td>AZ</td>\n",
       "      <td>CA</td>\n",
       "      <td>CO</td>\n",
       "      <td>HI</td>\n",
       "      <td>ID</td>\n",
       "      <td>MT</td>\n",
       "      <td>NM</td>\n",
       "      <td>NV</td>\n",
       "      <td>...</td>\n",
       "      <td>MD</td>\n",
       "      <td>ME</td>\n",
       "      <td>NH</td>\n",
       "      <td>NJ</td>\n",
       "      <td>NY</td>\n",
       "      <td>PA</td>\n",
       "      <td>RI</td>\n",
       "      <td>VT</td>\n",
       "      <td>New</td>\n",
       "      <td>Cml</td>\n",
       "    </tr>\n",
       "    <tr>\n",
       "      <td>49</td>\n",
       "      <td>NaN</td>\n",
       "      <td>West</td>\n",
       "      <td>West</td>\n",
       "      <td>West</td>\n",
       "      <td>West</td>\n",
       "      <td>West</td>\n",
       "      <td>West</td>\n",
       "      <td>West</td>\n",
       "      <td>West</td>\n",
       "      <td>West</td>\n",
       "      <td>...</td>\n",
       "      <td>Northeast</td>\n",
       "      <td>Northeast</td>\n",
       "      <td>Northeast</td>\n",
       "      <td>Northeast</td>\n",
       "      <td>Northeast</td>\n",
       "      <td>Northeast</td>\n",
       "      <td>Northeast</td>\n",
       "      <td>Northeast</td>\n",
       "      <td>Confirmed</td>\n",
       "      <td>Confirmed</td>\n",
       "    </tr>\n",
       "    <tr>\n",
       "      <td>50</td>\n",
       "      <td>NaN</td>\n",
       "      <td>AK</td>\n",
       "      <td>AZ</td>\n",
       "      <td>CA</td>\n",
       "      <td>CO</td>\n",
       "      <td>HI</td>\n",
       "      <td>ID</td>\n",
       "      <td>MT</td>\n",
       "      <td>NM</td>\n",
       "      <td>NV</td>\n",
       "      <td>...</td>\n",
       "      <td>MD</td>\n",
       "      <td>ME</td>\n",
       "      <td>NH</td>\n",
       "      <td>NJ</td>\n",
       "      <td>NY</td>\n",
       "      <td>PA</td>\n",
       "      <td>RI</td>\n",
       "      <td>VT</td>\n",
       "      <td>New</td>\n",
       "      <td>Cml</td>\n",
       "    </tr>\n",
       "  </tbody>\n",
       "</table>\n",
       "<p>4 rows × 54 columns</p>\n",
       "</div>"
      ],
      "text/plain": [
       "   Date    AK    AZ    CA    CO    HI    ID    MT    NM    NV  ...         MD  \\\n",
       "16  NaN  West  West  West  West  West  West  West  West  West  ...  Northeast   \n",
       "17  NaN    AK    AZ    CA    CO    HI    ID    MT    NM    NV  ...         MD   \n",
       "49  NaN  West  West  West  West  West  West  West  West  West  ...  Northeast   \n",
       "50  NaN    AK    AZ    CA    CO    HI    ID    MT    NM    NV  ...         MD   \n",
       "\n",
       "           ME         NH         NJ         NY         PA         RI  \\\n",
       "16  Northeast  Northeast  Northeast  Northeast  Northeast  Northeast   \n",
       "17         ME         NH         NJ         NY         PA         RI   \n",
       "49  Northeast  Northeast  Northeast  Northeast  Northeast  Northeast   \n",
       "50         ME         NH         NJ         NY         PA         RI   \n",
       "\n",
       "           VT        New        Cml  \n",
       "16  Northeast  Confirmed  Confirmed  \n",
       "17         VT        New        Cml  \n",
       "49  Northeast  Confirmed  Confirmed  \n",
       "50         VT        New        Cml  \n",
       "\n",
       "[4 rows x 54 columns]"
      ]
     },
     "execution_count": 295,
     "metadata": {},
     "output_type": "execute_result"
    }
   ],
   "source": [
    "# we know we have some non-dates in Date column let's check\n",
    "dat[dat.Date.isna()]"
   ]
  },
  {
   "cell_type": "code",
   "execution_count": 296,
   "metadata": {},
   "outputs": [],
   "source": [
    "# let's drop these rows for the Date column\n",
    "dat.dropna(subset=[\"Date\"],how=\"any\",inplace=True)"
   ]
  },
  {
   "cell_type": "code",
   "execution_count": 297,
   "metadata": {},
   "outputs": [
    {
     "data": {
      "text/html": [
       "<div>\n",
       "<style scoped>\n",
       "    .dataframe tbody tr th:only-of-type {\n",
       "        vertical-align: middle;\n",
       "    }\n",
       "\n",
       "    .dataframe tbody tr th {\n",
       "        vertical-align: top;\n",
       "    }\n",
       "\n",
       "    .dataframe thead th {\n",
       "        text-align: right;\n",
       "    }\n",
       "</style>\n",
       "<table border=\"1\" class=\"dataframe\">\n",
       "  <thead>\n",
       "    <tr style=\"text-align: right;\">\n",
       "      <th></th>\n",
       "      <th>Date</th>\n",
       "      <th>AK</th>\n",
       "      <th>AZ</th>\n",
       "      <th>CA</th>\n",
       "      <th>CO</th>\n",
       "      <th>HI</th>\n",
       "      <th>ID</th>\n",
       "      <th>MT</th>\n",
       "      <th>NM</th>\n",
       "      <th>NV</th>\n",
       "      <th>...</th>\n",
       "      <th>MD</th>\n",
       "      <th>ME</th>\n",
       "      <th>NH</th>\n",
       "      <th>NJ</th>\n",
       "      <th>NY</th>\n",
       "      <th>PA</th>\n",
       "      <th>RI</th>\n",
       "      <th>VT</th>\n",
       "      <th>New</th>\n",
       "      <th>Cml</th>\n",
       "    </tr>\n",
       "  </thead>\n",
       "  <tbody>\n",
       "  </tbody>\n",
       "</table>\n",
       "<p>0 rows × 54 columns</p>\n",
       "</div>"
      ],
      "text/plain": [
       "Empty DataFrame\n",
       "Columns: [Date, AK, AZ, CA, CO, HI, ID, MT, NM, NV, OR, UT, WA, WY, IA, IL, IN, KS, MI, MN, MO, ND, NE, OH, OK, SD, WI, AL, AR, FL, GA, KY, LA, MS, NC, SC, TN, TX, VA, WV, CT, DC, DE, MA, MD, ME, NH, NJ, NY, PA, RI, VT, New, Cml]\n",
       "Index: []\n",
       "\n",
       "[0 rows x 54 columns]"
      ]
     },
     "execution_count": 297,
     "metadata": {},
     "output_type": "execute_result"
    }
   ],
   "source": [
    "# check now  - looks good\n",
    "dat[dat.Date.isna()]"
   ]
  },
  {
   "cell_type": "code",
   "execution_count": 298,
   "metadata": {},
   "outputs": [
    {
     "data": {
      "text/html": [
       "<div>\n",
       "<style scoped>\n",
       "    .dataframe tbody tr th:only-of-type {\n",
       "        vertical-align: middle;\n",
       "    }\n",
       "\n",
       "    .dataframe tbody tr th {\n",
       "        vertical-align: top;\n",
       "    }\n",
       "\n",
       "    .dataframe thead th {\n",
       "        text-align: right;\n",
       "    }\n",
       "</style>\n",
       "<table border=\"1\" class=\"dataframe\">\n",
       "  <thead>\n",
       "    <tr style=\"text-align: right;\">\n",
       "      <th></th>\n",
       "      <th>Date</th>\n",
       "      <th>AK</th>\n",
       "      <th>AZ</th>\n",
       "      <th>CA</th>\n",
       "      <th>CO</th>\n",
       "      <th>HI</th>\n",
       "      <th>ID</th>\n",
       "      <th>MT</th>\n",
       "      <th>NM</th>\n",
       "      <th>NV</th>\n",
       "      <th>...</th>\n",
       "      <th>MD</th>\n",
       "      <th>ME</th>\n",
       "      <th>NH</th>\n",
       "      <th>NJ</th>\n",
       "      <th>NY</th>\n",
       "      <th>PA</th>\n",
       "      <th>RI</th>\n",
       "      <th>VT</th>\n",
       "      <th>New</th>\n",
       "      <th>Cml</th>\n",
       "    </tr>\n",
       "  </thead>\n",
       "  <tbody>\n",
       "    <tr>\n",
       "      <td>0</td>\n",
       "      <td>Jan 21 20</td>\n",
       "      <td>NaN</td>\n",
       "      <td>NaN</td>\n",
       "      <td>NaN</td>\n",
       "      <td>NaN</td>\n",
       "      <td>NaN</td>\n",
       "      <td>NaN</td>\n",
       "      <td>NaN</td>\n",
       "      <td>NaN</td>\n",
       "      <td>NaN</td>\n",
       "      <td>...</td>\n",
       "      <td>NaN</td>\n",
       "      <td>NaN</td>\n",
       "      <td>NaN</td>\n",
       "      <td>NaN</td>\n",
       "      <td>NaN</td>\n",
       "      <td>NaN</td>\n",
       "      <td>NaN</td>\n",
       "      <td>NaN</td>\n",
       "      <td>1</td>\n",
       "      <td>1</td>\n",
       "    </tr>\n",
       "    <tr>\n",
       "      <td>1</td>\n",
       "      <td>Jan 24 20</td>\n",
       "      <td>NaN</td>\n",
       "      <td>NaN</td>\n",
       "      <td>NaN</td>\n",
       "      <td>NaN</td>\n",
       "      <td>NaN</td>\n",
       "      <td>NaN</td>\n",
       "      <td>NaN</td>\n",
       "      <td>NaN</td>\n",
       "      <td>NaN</td>\n",
       "      <td>...</td>\n",
       "      <td>NaN</td>\n",
       "      <td>NaN</td>\n",
       "      <td>NaN</td>\n",
       "      <td>NaN</td>\n",
       "      <td>NaN</td>\n",
       "      <td>NaN</td>\n",
       "      <td>NaN</td>\n",
       "      <td>NaN</td>\n",
       "      <td>1</td>\n",
       "      <td>2</td>\n",
       "    </tr>\n",
       "    <tr>\n",
       "      <td>2</td>\n",
       "      <td>Jan 25 20</td>\n",
       "      <td>NaN</td>\n",
       "      <td>NaN</td>\n",
       "      <td>1</td>\n",
       "      <td>NaN</td>\n",
       "      <td>NaN</td>\n",
       "      <td>NaN</td>\n",
       "      <td>NaN</td>\n",
       "      <td>NaN</td>\n",
       "      <td>NaN</td>\n",
       "      <td>...</td>\n",
       "      <td>NaN</td>\n",
       "      <td>NaN</td>\n",
       "      <td>NaN</td>\n",
       "      <td>NaN</td>\n",
       "      <td>NaN</td>\n",
       "      <td>NaN</td>\n",
       "      <td>NaN</td>\n",
       "      <td>NaN</td>\n",
       "      <td>1</td>\n",
       "      <td>3</td>\n",
       "    </tr>\n",
       "    <tr>\n",
       "      <td>3</td>\n",
       "      <td>Jan 26 20</td>\n",
       "      <td>NaN</td>\n",
       "      <td>1</td>\n",
       "      <td>1</td>\n",
       "      <td>NaN</td>\n",
       "      <td>NaN</td>\n",
       "      <td>NaN</td>\n",
       "      <td>NaN</td>\n",
       "      <td>NaN</td>\n",
       "      <td>NaN</td>\n",
       "      <td>...</td>\n",
       "      <td>NaN</td>\n",
       "      <td>NaN</td>\n",
       "      <td>NaN</td>\n",
       "      <td>NaN</td>\n",
       "      <td>NaN</td>\n",
       "      <td>NaN</td>\n",
       "      <td>NaN</td>\n",
       "      <td>NaN</td>\n",
       "      <td>2</td>\n",
       "      <td>5</td>\n",
       "    </tr>\n",
       "    <tr>\n",
       "      <td>4</td>\n",
       "      <td>Jan 30 20</td>\n",
       "      <td>NaN</td>\n",
       "      <td>NaN</td>\n",
       "      <td>NaN</td>\n",
       "      <td>NaN</td>\n",
       "      <td>NaN</td>\n",
       "      <td>NaN</td>\n",
       "      <td>NaN</td>\n",
       "      <td>NaN</td>\n",
       "      <td>NaN</td>\n",
       "      <td>...</td>\n",
       "      <td>NaN</td>\n",
       "      <td>NaN</td>\n",
       "      <td>NaN</td>\n",
       "      <td>NaN</td>\n",
       "      <td>NaN</td>\n",
       "      <td>NaN</td>\n",
       "      <td>NaN</td>\n",
       "      <td>NaN</td>\n",
       "      <td>1</td>\n",
       "      <td>6</td>\n",
       "    </tr>\n",
       "  </tbody>\n",
       "</table>\n",
       "<p>5 rows × 54 columns</p>\n",
       "</div>"
      ],
      "text/plain": [
       "        Date   AK   AZ   CA   CO   HI   ID   MT   NM   NV  ...   MD   ME   NH  \\\n",
       "0  Jan 21 20  NaN  NaN  NaN  NaN  NaN  NaN  NaN  NaN  NaN  ...  NaN  NaN  NaN   \n",
       "1  Jan 24 20  NaN  NaN  NaN  NaN  NaN  NaN  NaN  NaN  NaN  ...  NaN  NaN  NaN   \n",
       "2  Jan 25 20  NaN  NaN    1  NaN  NaN  NaN  NaN  NaN  NaN  ...  NaN  NaN  NaN   \n",
       "3  Jan 26 20  NaN    1    1  NaN  NaN  NaN  NaN  NaN  NaN  ...  NaN  NaN  NaN   \n",
       "4  Jan 30 20  NaN  NaN  NaN  NaN  NaN  NaN  NaN  NaN  NaN  ...  NaN  NaN  NaN   \n",
       "\n",
       "    NJ   NY   PA   RI   VT New Cml  \n",
       "0  NaN  NaN  NaN  NaN  NaN   1   1  \n",
       "1  NaN  NaN  NaN  NaN  NaN   1   2  \n",
       "2  NaN  NaN  NaN  NaN  NaN   1   3  \n",
       "3  NaN  NaN  NaN  NaN  NaN   2   5  \n",
       "4  NaN  NaN  NaN  NaN  NaN   1   6  \n",
       "\n",
       "[5 rows x 54 columns]"
      ]
     },
     "execution_count": 298,
     "metadata": {},
     "output_type": "execute_result"
    }
   ],
   "source": [
    "dat.head()"
   ]
  },
  {
   "cell_type": "code",
   "execution_count": 299,
   "metadata": {},
   "outputs": [],
   "source": [
    "# Create a new column \"PDate\" of datetime values\n",
    "dat.loc[:,\"PDate\"] = pd.to_datetime(dat.loc[:,\"Date\"], format='%b %d %y')"
   ]
  },
  {
   "cell_type": "code",
   "execution_count": 300,
   "metadata": {
    "scrolled": true
   },
   "outputs": [],
   "source": [
    "if TRACE: display(dat.head())"
   ]
  },
  {
   "cell_type": "markdown",
   "metadata": {},
   "source": [
    "### 2.3 Clean-up and wrangle - Convert non-numeric data to NaN"
   ]
  },
  {
   "cell_type": "code",
   "execution_count": 301,
   "metadata": {},
   "outputs": [],
   "source": [
    "# convert any values in the state columns that are not numeric to NAN.  Apply the lambda function to the dataframe\n",
    "f = lambda x: pd.to_numeric(x,errors=\"coerce\")\n",
    "dat.loc[:,\"AK\":\"VT\"] = dat.loc[:,\"AK\":\"VT\"].astype(np.float64)"
   ]
  },
  {
   "cell_type": "code",
   "execution_count": 302,
   "metadata": {},
   "outputs": [],
   "source": [
    "if TRACE: display(type(dat[\"AK\"][24]))"
   ]
  },
  {
   "cell_type": "code",
   "execution_count": 303,
   "metadata": {},
   "outputs": [],
   "source": [
    "# eliminate empty cells and duplicates due to column sums. pd.to_numeric coerces the non-numeric to NaN.\n",
    "dat.loc[:,\"Cml\"] = pd.to_numeric(dat.loc[:,\"Cml\"],errors = \"coerce\")"
   ]
  },
  {
   "cell_type": "code",
   "execution_count": 304,
   "metadata": {},
   "outputs": [],
   "source": [
    "if TRACE: display(dat.head())"
   ]
  },
  {
   "cell_type": "code",
   "execution_count": 305,
   "metadata": {},
   "outputs": [],
   "source": [
    "if TRACE: display(dat.tail())"
   ]
  },
  {
   "cell_type": "code",
   "execution_count": 306,
   "metadata": {},
   "outputs": [],
   "source": [
    "# drop \"Date\" column - don't need it, have PDate to work with\n",
    "dat = dat.drop(\"Date\",axis= 1)"
   ]
  },
  {
   "cell_type": "markdown",
   "metadata": {},
   "source": [
    "### 2.4 Clean-up and wrangle - Now set \"PDate\" as datetime index and fill-in data gaps with NaN"
   ]
  },
  {
   "cell_type": "code",
   "execution_count": 307,
   "metadata": {},
   "outputs": [],
   "source": [
    "# Replace PDate as the index\n",
    "dat.set_index(['PDate'], drop= True ,inplace= True)"
   ]
  },
  {
   "cell_type": "code",
   "execution_count": 308,
   "metadata": {},
   "outputs": [],
   "source": [
    "if TRACE: display(dat.head())"
   ]
  },
  {
   "cell_type": "code",
   "execution_count": 309,
   "metadata": {},
   "outputs": [],
   "source": [
    "if TRACE: display(idx)"
   ]
  },
  {
   "cell_type": "code",
   "execution_count": 310,
   "metadata": {},
   "outputs": [],
   "source": [
    "# Now re-index the date index with the daily index idx so that there are no gaps in dates.  Use forward fill to \n",
    "# fill in any NaNs with prior values\n",
    "dat = dat.reindex(idx).fillna(method = \"ffill\")"
   ]
  },
  {
   "cell_type": "code",
   "execution_count": 311,
   "metadata": {
    "scrolled": true
   },
   "outputs": [],
   "source": [
    "if TRACE: display(dat.head())"
   ]
  },
  {
   "cell_type": "markdown",
   "metadata": {},
   "source": [
    "### 2.5 Clean-up and wrangle - create cumulative sum of cases for each state and rename columns"
   ]
  },
  {
   "cell_type": "code",
   "execution_count": 312,
   "metadata": {},
   "outputs": [],
   "source": [
    "# Now use the case data to create the cumulative sum of cases by day\n",
    "dat.loc[:,\"AK\":\"VT\"]= dat.loc[:,\"AK\":\"VT\"].cumsum()"
   ]
  },
  {
   "cell_type": "code",
   "execution_count": 313,
   "metadata": {
    "scrolled": false
   },
   "outputs": [],
   "source": [
    "if TRACE: display(dat.head());display(dat.tail())"
   ]
  },
  {
   "cell_type": "code",
   "execution_count": 314,
   "metadata": {},
   "outputs": [],
   "source": [
    "# Rename the Cml column to USA\n",
    "dat.rename(columns={'Cml':'USA'}, inplace=True)"
   ]
  },
  {
   "cell_type": "code",
   "execution_count": 315,
   "metadata": {},
   "outputs": [],
   "source": [
    "if TRACE: display(dat.tail())"
   ]
  },
  {
   "cell_type": "markdown",
   "metadata": {},
   "source": [
    "<pre>_____________________________________________________________________________________________________</pre>"
   ]
  },
  {
   "cell_type": "markdown",
   "metadata": {},
   "source": [
    "<a id='PlotData'></a>\n",
    "# 3. Plot Historical Data\n",
    "Now plot the data - Note the exponential nature (linear log of data) of the reported case growth rate\n",
    "\n",
    "[TOC](#TOC)"
   ]
  },
  {
   "cell_type": "markdown",
   "metadata": {},
   "source": [
    "## **Our to do list:**\n",
    "\n",
    "_3. Plot historical data:_\n",
    "\n",
    "- **Task 3.1**: Do quick graph of dataframe for select states\n",
    "- **Task 3.2**: Select portion of data to start plotting from i.e. after specified number of cases recorded\n",
    "- **Task 3.3**: Plot cases and log of cases of Region to see how cases as growing - customize chart\n",
    "- **Task 3.4**: Plot all states as small multiples on the US map 8x11 grid"
   ]
  },
  {
   "cell_type": "markdown",
   "metadata": {},
   "source": [
    "### Methods to use:\n",
    "* `.copy()`\n",
    "* `.plot()`\n",
    "* `.values`\n",
    "* `.strftime(\"%d-%b-%Y\")`  - format a datetime value into a string in the format passed in\n",
    "* `tuple()`\n",
    "* `np.log()`\n",
    "* `.astype(np.float64)`    - convert data type of dataframe column to float\n",
    "<br> \n",
    "\n",
    "The plot methods we have seen before and some new ones to customize the graph look:\n",
    "* `plt.subplots()`,`.plot()`,`.set_title()`, `.set_xlabel()`,`.set_ylabel()`,`.grid()`\n",
    "* `.xaxis.set_minor_locator(AutoMinorLocator())` \n",
    "* `.tick_params()`\n",
    "* `.axhline()`             - draw horizontal line on graph at specified location\n",
    "* `.set_facecolor()`       - set the face color of a graph\n",
    "* `.subplots_adjust()`     - we will use to adjust whitespace between small graphs\n",
    "* `.suptitle()`            - super title for figure\n",
    "*  `plt.savefig()`         - save out the figure to a file"
   ]
  },
  {
   "cell_type": "markdown",
   "metadata": {},
   "source": [
    "### 3.1 Do quick graph of dataframe for select states"
   ]
  },
  {
   "cell_type": "markdown",
   "metadata": {},
   "source": [
    "First quickly inspect a sample of a few states."
   ]
  },
  {
   "cell_type": "code",
   "execution_count": 316,
   "metadata": {},
   "outputs": [],
   "source": [
    "# Create a dataframe with the columns of interest - convert all values to float just in case\n",
    "dat_sample1 = dat[[\"USA\"]].astype(np.float64).copy()\n",
    "dat_sample2 = dat[[\"CA\",\"WA\",\"NY\",\"NJ\",\"CT\",\"LA\",\"FL\",\"TX\"]].astype(np.float64).copy()"
   ]
  },
  {
   "cell_type": "code",
   "execution_count": 317,
   "metadata": {},
   "outputs": [],
   "source": [
    "if TRACE: display(dat_sample1.tail())"
   ]
  },
  {
   "cell_type": "code",
   "execution_count": 332,
   "metadata": {
    "scrolled": true
   },
   "outputs": [
    {
     "data": {
      "image/png": "[encoded data removed]",
      "text/plain": [
       "<Figure size 1080x360 with 2 Axes>"
      ]
     },
     "metadata": {
      "needs_background": "light"
     },
     "output_type": "display_data"
    }
   ],
   "source": [
    "# now do some quick plots using plot method of dataframe.  Save the figures out to pdf\n",
    "figure, axes  = plt.subplots(nrows= 1,ncols = 2,figsize=(15,5))\n",
    "dat_sample1.plot(ax= axes[0],title = \"Reported cases for USA\")\n",
    "dat_sample2.plot(ax= axes[1],title = \"Reported cases for selected states\")\n",
    "\n",
    "# This is a different way of formatting strings called f-strings. Supported in later versions of Python\n",
    "figure.suptitle(f'Data = days after {CASE_STARTS} total cases reported',fontsize = 15)\n",
    "plt.savefig(\"out_3.1_Cases_\"+REGION+\"+selected.pdf\")   # could also save as .gif, .png, .jpeg ...."
   ]
  },
  {
   "cell_type": "code",
   "execution_count": 319,
   "metadata": {
    "scrolled": true
   },
   "outputs": [
    {
     "data": {
      "image/png": "[encoded data removed]",
      "text/plain": [
       "<Figure size 1080x360 with 2 Axes>"
      ]
     },
     "metadata": {
      "needs_background": "light"
     },
     "output_type": "display_data"
    }
   ],
   "source": [
    "figure, axes = plt.subplots(nrows=1,ncols=2,figsize=(15,5))\n",
    "np.log(dat_sample1).plot(ax= axes[0],title = \"Reported log of cases for USA\")\n",
    "np.log(dat_sample2).plot(ax= axes[1],title = \"Reported log of cases for selected states\")\n",
    "figure.suptitle(f'Log(Data) = days after {CASE_STARTS} total cases',fontsize = 15)\n",
    "plt.savefig(\"out_3.1_logCases_\"+REGION+\"+selected.pdf\")   # could also save as .gif, .png, .jpeg ...."
   ]
  },
  {
   "cell_type": "markdown",
   "metadata": {},
   "source": [
    "### 3.2 select portion of data to start plotting from i.e. after specified number of cases recorded"
   ]
  },
  {
   "cell_type": "code",
   "execution_count": 320,
   "metadata": {},
   "outputs": [],
   "source": [
    "# Get the max cases for the region\n",
    "max_cases = np.max(dat[REGION])"
   ]
  },
  {
   "cell_type": "code",
   "execution_count": 321,
   "metadata": {},
   "outputs": [],
   "source": [
    "if TRACE: display(max_cases)"
   ]
  },
  {
   "cell_type": "code",
   "execution_count": 322,
   "metadata": {},
   "outputs": [],
   "source": [
    "# select data that starts at CASE_STARTS only if CASE_STARTS is less than max_cases observed otherwise start at 1000\n",
    "if (max_cases < CASE_STARTS):\n",
    "    CASE_STARTS = 1000\n",
    "start_cases = dat[REGION][dat[REGION] >= CASE_STARTS].index[0]\n",
    "start_cases_str = start_cases.strftime(\"%d-%b-%Y\")  # note that date at which data starts"
   ]
  },
  {
   "cell_type": "code",
   "execution_count": 323,
   "metadata": {},
   "outputs": [],
   "source": [
    "# Note how many data points were discarded\n",
    "discard = len(dat.loc[:start_cases])-1\n",
    "if TRACE: display(discard)"
   ]
  },
  {
   "cell_type": "code",
   "execution_count": 324,
   "metadata": {
    "scrolled": true
   },
   "outputs": [],
   "source": [
    "# show the data series we will use to fit the model\n",
    "if TRACE: display(dat.loc[start_cases:,REGION])"
   ]
  },
  {
   "cell_type": "code",
   "execution_count": 325,
   "metadata": {},
   "outputs": [],
   "source": [
    "# Now take the series and convert it into a tuple for the models.  Adjust by the under reporting factor\n",
    "Infected = tuple(dat.loc[start_cases:,REGION].dropna()*UNDER_REPORT_FACTOR)[:]\n",
    "if TRACE: display(Infected)"
   ]
  },
  {
   "cell_type": "code",
   "execution_count": 326,
   "metadata": {},
   "outputs": [],
   "source": [
    "# Display the Region\n",
    "if TRACE: display(REGION)"
   ]
  },
  {
   "cell_type": "markdown",
   "metadata": {},
   "source": [
    "### 3.3 plot cases and log of cases of Region to see how cases as growing - customize chart"
   ]
  },
  {
   "cell_type": "code",
   "execution_count": 327,
   "metadata": {
    "scrolled": false
   },
   "outputs": [
    {
     "data": {
      "image/png": "[encoded data removed]",
      "text/plain": [
       "<Figure size 1080x360 with 2 Axes>"
      ]
     },
     "metadata": {
      "needs_background": "light"
     },
     "output_type": "display_data"
    },
    {
     "data": {
      "text/plain": [
       "<Figure size 432x288 with 0 Axes>"
      ]
     },
     "metadata": {},
     "output_type": "display_data"
    }
   ],
   "source": [
    "from matplotlib.ticker import AutoMinorLocator  # to set minor tick marks\n",
    "\n",
    "# Plot the wikipedia daily case data \n",
    "Day = list(range(1,len(Infected)+1))\n",
    "\n",
    "# Plot untransformed cumulative case data\n",
    "figure, axes = plt.subplots(nrows=1,ncols=2,figsize=(15,5))\n",
    "axes[0].plot(Day,Infected,marker = \"o\")\n",
    "axes[0].set_title(\"Confirmed Cases 2019-nCoV \"+REGION)\n",
    "axes[0].set_xlabel(\"days\")\n",
    "axes[0].set_ylabel(\"cases\")\n",
    "axes[0].grid(b=True, which='major', c='#bbbbbb', lw=1, ls='-')\n",
    "\n",
    "axes[0].xaxis.set_minor_locator(AutoMinorLocator()) \n",
    "axes[0].tick_params(which='both', width=2)\n",
    "axes[0].tick_params(which='major', length=7)\n",
    "axes[0].tick_params(which='minor', length=4, color='r')\n",
    "\n",
    "# Plot using log scale to show log-linear growth \n",
    "axes[1].plot(Day,np.log(Infected),marker=\"o\")\n",
    "axes[1].set_title(\"log(Confirmed) Cases 2019-nCoV \"+REGION)\n",
    "axes[1].set_xlabel(\"days\")\n",
    "axes[1].set_ylabel(\"log(cases)\")\n",
    "axes[1].grid(b=True, which='major', c='#bbbbbb', lw=1, ls='-')\n",
    "\n",
    "axes[1].xaxis.set_minor_locator(AutoMinorLocator())\n",
    "axes[1].tick_params(which='both', width=2)\n",
    "axes[1].tick_params(which='major', length=7)\n",
    "axes[1].tick_params(which='minor', length=4, color='r')\n",
    "plt.show()\n",
    "plt.savefig(\"out_3.3_Hist_Cases_\"+REGION+\".pdf\")   # could also save as .gif, .png, .jpeg ...."
   ]
  },
  {
   "cell_type": "markdown",
   "metadata": {},
   "source": [
    "### 3.4 plot all states as small multiples on the US map 8x11 grid"
   ]
  },
  {
   "cell_type": "markdown",
   "metadata": {},
   "source": [
    "See if we can plot the growth curve for all states on the \"US Grid\" according to coordinate. This will allow us \n",
    "to quickly compare every state."
   ]
  },
  {
   "cell_type": "code",
   "execution_count": 328,
   "metadata": {},
   "outputs": [],
   "source": [
    "# Do for only the states - need to remove \"New\" and \"USA\" from our dataframe columns.  Use a set difference \n",
    "# to select only state columns\n",
    "stat1 = \"CumCases\"\n",
    "states = dat.columns\n",
    "states = set(states)-set([\"New\",\"USA\"])"
   ]
  },
  {
   "cell_type": "code",
   "execution_count": 329,
   "metadata": {},
   "outputs": [
    {
     "data": {
      "text/plain": [
       "43"
      ]
     },
     "execution_count": 329,
     "metadata": {},
     "output_type": "execute_result"
    }
   ],
   "source": [
    "len(Day)"
   ]
  },
  {
   "cell_type": "code",
   "execution_count": 330,
   "metadata": {},
   "outputs": [],
   "source": [
    "# Plot the wikipedia daily case data \n",
    "use_log = False\n",
    "if use_log:\n",
    "    stat1 = \"log of cumulative cases\"\n",
    "else:\n",
    "    stat1 = \"Cumulative cases\""
   ]
  },
  {
   "cell_type": "markdown",
   "metadata": {},
   "source": [
    "### NOTE: This cell may take a minute or more to run - 51 graphs are being plotted here"
   ]
  },
  {
   "cell_type": "code",
   "execution_count": 347,
   "metadata": {
    "scrolled": true
   },
   "outputs": [
    {
     "data": {
      "image/png": "[encoded data removed]",
      "text/plain": [
       "<Figure size 1440x864 with 88 Axes>"
      ]
     },
     "metadata": {
      "needs_background": "light"
     },
     "output_type": "display_data"
    }
   ],
   "source": [
    "# Now map the case history onto the US map grid\n",
    "from matplotlib.ticker import AutoMinorLocator  # to set minor tick marks\n",
    "\n",
    "figure, axes = plt.subplots(nrows=8, ncols=11,sharex=True,sharey=True,figsize = (20,12))\n",
    "\n",
    "for state in states:\n",
    "    \n",
    "    Infctd = tuple(dat.loc[start_cases:,state].dropna()*UNDER_REPORT_FACTOR)[:]\n",
    "    Day = list(range(1,len(Infctd)+1))\n",
    "    # get grid row and column coordinates\n",
    "    ax0 = int(usplotgrid_df.loc[state].loc[\"ax0\"])\n",
    "    ax1 = int(usplotgrid_df.loc[state].loc[\"ax1\"])\n",
    "    \n",
    "    # Plot using log scale to show log-linear growth \n",
    "    if use_log:\n",
    "        axes[ax0,ax1].plot(Day,np.log(Infctd),lw=3, ls='-',color = \"red\")\n",
    "        axes[ax0,ax1].axhline(np.log(10_000), color=\"blue\", linestyle=\"--\",lw=0.75)\n",
    "        axes[ax0,ax1].axhline(np.log(1_000), color=\"blue\", linestyle=\"--\",lw=0.75)\n",
    "        axes[ax0,ax1].axhline(np.log(100_000), color=\"blue\", linestyle=\"--\",lw=0.75)\n",
    "        axes[ax0,ax1].axhline(np.log(100), color=\"blue\", linestyle=\"--\",lw=0.75)\n",
    "    else:\n",
    "        # plot for untransformed data\n",
    "        axes[ax0,ax1].plot(Day,Infctd,lw=3, ls='-',color = \"red\")\n",
    "        axes[ax0,ax1].axhline(10_000, color=\"blue\", linestyle=\"--\",lw=0.75)\n",
    "        axes[ax0,ax1].axhline(1_000, color=\"blue\", linestyle=\"--\",lw=0.75)\n",
    "        axes[ax0,ax1].axhline(100_000, color=\"blue\", linestyle=\"--\",lw=0.75)\n",
    "        axes[ax0,ax1].axhline(100, color=\"blue\", linestyle=\"--\",lw=0.75)\n",
    "\n",
    "    axes[ax0,ax1].set_title(state)\n",
    "    axes[ax0,ax1].grid(b=True, which='both', c='#bbbbbb', lw=1, ls='-')\n",
    "    axes[ax0,ax1].xaxis.set_minor_locator(AutoMinorLocator())\n",
    "    axes[ax0,ax1].tick_params(which='both', width=2)\n",
    "    axes[ax0,ax1].tick_params(which='major', length=7)\n",
    "    axes[ax0,ax1].tick_params(which='minor', length=4, color='r')\n",
    "    axes[ax0,ax1].set_facecolor('#D4D4D4')   # Hex for grey - see web for hex for other colors\n",
    "    \n",
    "    #plt.show()\n",
    "    \n",
    "plt.subplots_adjust(wspace=0.5, hspace=0.5)\n",
    "# set up superior title for the chart\n",
    "figure.suptitle(f'Data = {stat1} days after {CASE_STARTS} total cases reported\\n \\\n",
    "               --- blue lines are x10 increments',fontsize = 15)\n",
    "\n",
    "# save the output into a pdf file\n",
    "if use_log:\n",
    "    plt.savefig(\"out_3.4_logCases_\"+REGION+\".pdf\")   # could also save as .gif, .png, .jpeg ....\n",
    "else:\n",
    "    plt.savefig(\"out_3.4_Cases_\"+REGION+\"_ALL.pdf\")            "
   ]
  },
  {
   "cell_type": "markdown",
   "metadata": {},
   "source": [
    "<pre>_____________________________________________________________________________________________________</pre>"
   ]
  },
  {
   "cell_type": "markdown",
   "metadata": {},
   "source": [
    "<a id='Slope'></a>\n",
    "# 4. Calculate change in slope of the exponential curve\n",
    "\n",
    "**Now calculate the slope and change of slope of the log curve to detect rate of change, and whether rate of change in decelerating (calculate the slope numerically)**\n",
    "\n",
    "[TOC](#TOC)"
   ]
  },
  {
   "cell_type": "markdown",
   "metadata": {},
   "source": [
    "## **Our to do list:**\n",
    "\n",
    "_4. Calculate slope of exponential curve:_\n",
    "\n",
    "- **Task 4.1**: Put log infected data into a dataframe so we can use the `.diff()` method in pandas\n",
    "- **Task 4.2**: Plot the slope and change in slope curves for the Region specified\n",
    "- **Task 4.3**: Plot change is slope of curve for all states as small multiples on the US map 8x11 grid"
   ]
  },
  {
   "cell_type": "markdown",
   "metadata": {},
   "source": [
    "### Methods to use:\n",
    "* `pd.DataFrame()`     - create data frame from list or array data\n",
    "* `.diff()`            - calculate the nth difference between entries in a dataframe column\n",
    "* `.rolling().mean()`  - calculate the rolling or moving average on data accoring to a specified window e.g. 7 days\n",
    "* `df.plot(ax=axes[i],marker=\"o\", title = \"Log of cases\")` - plot method of dataframe, with graph on different axes"
   ]
  },
  {
   "cell_type": "markdown",
   "metadata": {},
   "source": [
    "### 4.1 Put log infected data into a dataframe so we can use the .diff() method in pandas"
   ]
  },
  {
   "cell_type": "code",
   "execution_count": 351,
   "metadata": {},
   "outputs": [],
   "source": [
    "slope = pd.DataFrame(np.log(Infected),columns=[\"logI\"])"
   ]
  },
  {
   "cell_type": "code",
   "execution_count": 353,
   "metadata": {},
   "outputs": [],
   "source": [
    "# Calculate the slope daily and a 7 day rolling average window to show the trend\n",
    "# Remember slope is (y2-y1)/(x2-x1) or \"rise\" over \"run\". Our x2-x1 = delta_t which is daily change in our case\n",
    "# To approximate the curvature or 2nd derivative do the difference on the 1st derivative column and divide by delta_t\n",
    "delta_t         = 1  \n",
    "slope[\"IChg\"]   = slope[\"logI\"].diff(delta_t)            # daily change\n",
    "slope[\"Idt\"]    = (slope.IChg)/delta_t                  # daily change/change in time = slope = 1st derivative\n",
    "slope[\"Idt2\"]   = slope.Idt.diff(delta_t)/delta_t       # change in daily change/change in time = 2nd derivative\n",
    "slope[\"IdtMA\"]  = slope[\"Idt\"].rolling(window=7).mean()  # 7 day moving average of slope\n",
    "slope[\"Idt2MA\"] = slope[\"Idt2\"].rolling(window=7).mean()  # 7 day moving average of change in slope "
   ]
  },
  {
   "cell_type": "code",
   "execution_count": 354,
   "metadata": {},
   "outputs": [],
   "source": [
    "# inspect\n",
    "if TRACE: display(slope.head(10))"
   ]
  },
  {
   "cell_type": "markdown",
   "metadata": {},
   "source": [
    "### 4.2 Plot the slope and change in slope curves for the Region specified"
   ]
  },
  {
   "cell_type": "code",
   "execution_count": 355,
   "metadata": {
    "scrolled": true
   },
   "outputs": [
    {
     "data": {
      "image/png": "[encoded data removed]",
      "text/plain": [
       "<Figure size 1080x576 with 2 Axes>"
      ]
     },
     "metadata": {
      "needs_background": "light"
     },
     "output_type": "display_data"
    }
   ],
   "source": [
    "figure, axes = plt.subplots(nrows = 1, ncols =2 , figsize=(15,8))\n",
    "\n",
    "slope.loc[:,[\"logI\"]].plot(ax=axes[0],marker=\"o\", title = \"Log of cases: Region = \"+REGION)\n",
    "axes[0].grid(b=True, which='major', c='#bbbbbb', lw=1, ls='-')\n",
    "\n",
    "ax = slope.loc[:,[\"Idt\",\"Idt2\",\"IdtMA\",\"Idt2MA\"]].plot(ax=axes[1],marker=\"o\")\n",
    "ax.grid('on', which='major', axis='x' )\n",
    "ax.grid('on', which='major', axis='y' )\n",
    "ax.set_title(\"Slope of log of Cases Cov-19:  Region =  \"+REGION)\n",
    "plt.savefig(\"out_4.1_Slope_\"+REGION+\".pdf\")"
   ]
  },
  {
   "cell_type": "markdown",
   "metadata": {},
   "source": [
    "### 4.3 plot change is slope of curve fora all states as small multiples on the US map 8x11 grid"
   ]
  },
  {
   "cell_type": "code",
   "execution_count": 356,
   "metadata": {
    "scrolled": false
   },
   "outputs": [],
   "source": [
    "if TRACE: display(slope.tail(10))"
   ]
  },
  {
   "cell_type": "code",
   "execution_count": 357,
   "metadata": {},
   "outputs": [
    {
     "data": {
      "text/plain": [
       "'IdtMA'"
      ]
     },
     "metadata": {},
     "output_type": "display_data"
    },
    {
     "data": {
      "text/plain": [
       "0.1"
      ]
     },
     "metadata": {},
     "output_type": "display_data"
    }
   ],
   "source": [
    "# Plot the wikipedia daily case data \n",
    "# set up lookup dictionary of metric to df column and % threshold to plot on graphs\n",
    "stat_dict = {\"Slope\":[\"Idt\",0.1],\"Slope MA(7)\":[\"IdtMA\",0.1],\"Chg of Slope\":[\"Idt2\",0.0], \\\n",
    "             \"Chg of Slope MA(7)\":[\"Idt2MA\",0.00]}\n",
    "# select stat to plot\n",
    "stat1 = \"Slope MA(7)\"\n",
    "#stat1 = \"Chg of Slope MA(7)\"\n",
    "curve = stat_dict[stat1][0]\n",
    "thresh = stat_dict[stat1][1]\n",
    "display(curve)\n",
    "display(thresh)"
   ]
  },
  {
   "cell_type": "markdown",
   "metadata": {},
   "source": [
    "<pre>_____________________________________________________________________________________________________</pre>"
   ]
  },
  {
   "cell_type": "markdown",
   "metadata": {},
   "source": [
    "### NOTE: This cell may take a minute or more to run - 51 graphs are being plotted here"
   ]
  },
  {
   "cell_type": "code",
   "execution_count": 360,
   "metadata": {},
   "outputs": [
    {
     "data": {
      "image/png": "[encoded data removed]",
      "text/plain": [
       "<Figure size 1440x864 with 88 Axes>"
      ]
     },
     "metadata": {
      "needs_background": "light"
     },
     "output_type": "display_data"
    },
    {
     "data": {
      "text/plain": [
       "<Figure size 432x288 with 0 Axes>"
      ]
     },
     "metadata": {},
     "output_type": "display_data"
    }
   ],
   "source": [
    "# plot the data on US map grid\n",
    "#import warnings                   #<--- use this to suppress deprecation warnings from matplotlib\n",
    "#warnings.filterwarnings(\"ignore\")\n",
    "\n",
    "from matplotlib.ticker import AutoMinorLocator  # to set minor tick marks\n",
    "figure, axes = plt.subplots(nrows=8, ncols=11,sharex=True,sharey=True,figsize = (20,12))\n",
    "\n",
    "for state in states:\n",
    "    Infctd = tuple(dat.loc[start_cases:,state].dropna()*UNDER_REPORT_FACTOR)[:]\n",
    "    Day = list(range(1,len(Infctd)+1))\n",
    "    slope = pd.DataFrame(np.log(Infctd),columns=[\"logI\"])\n",
    "    # Calculate the slope daily and a 7 day rolling average window to show the trend\n",
    "    # You did this already in 4.1\n",
    "    delta_t         = 1  \n",
    "    slope[\"IChg\"]   = slope[\"logI\"].diff(delta_t)            # daily change\n",
    "    slope[\"Idt\"]    = (slope.IChg)/delta_t                  # daily change/change in time = slope = 1st derivative\n",
    "    slope[\"Idt2\"]   = slope.Idt.diff(delta_t)/delta_t       # change in daily change/change in time = 2nd derivative\n",
    "    slope[\"IdtMA\"]  = slope[\"Idt\"].rolling(window=7).mean()  # 7 day moving average of slope\n",
    "    slope[\"Idt2MA\"] = slope[\"Idt2\"].rolling(window=7).mean()  # 7 day moving average of change in slope \n",
    "    \n",
    "    \n",
    "    # see section 3.4 code - very similar\n",
    "    ax0 = int(usplotgrid_df.loc[state].loc[\"ax0\"])\n",
    "    ax1 = int(usplotgrid_df.loc[state].loc[\"ax1\"])\n",
    "    \n",
    "    #IdtMA = slope.loc[:,[\"IdtMA\"]]\n",
    "    line = slope.loc[:,curve]\n",
    "    \n",
    "    axes[ax0,ax1].plot(Day,line,lw=3, ls='-',color = \"red\")\n",
    "    axes[ax0,ax1].set_title(state)\n",
    "    axes[ax0,ax1].grid(b=True, which='both', c='#bbbbbb', lw=1, ls='-')\n",
    "    axes[ax0,ax1].xaxis.set_minor_locator(AutoMinorLocator())\n",
    "    axes[ax0,ax1].tick_params(which='both', width=2)\n",
    "    axes[ax0,ax1].tick_params(which='major', length=7)\n",
    "    axes[ax0,ax1].tick_params(which='minor', length=4, color='r')\n",
    "    axes[ax0,ax1].set_facecolor('#D4D4D4')\n",
    "    axes[ax0,ax1].axhline(thresh, color=\"blue\", linestyle=\"--\",lw=1)\n",
    "\n",
    "# adust spacing between graphs and set up a main title for figure\n",
    "plt.subplots_adjust(wspace=0.5, hspace=0.5)\n",
    "figure.suptitle(f'{stat1} days after {CASE_STARTS} total cases reported',fontsize = 15)\n",
    "plt.show()\n",
    "plt.savefig(\"out_4.3_\"+curve+\"_ALL.pdf\")"
   ]
  },
  {
   "cell_type": "markdown",
   "metadata": {},
   "source": [
    "<pre>_____________________________________________________________________________________________________</pre>"
   ]
  },
  {
   "cell_type": "markdown",
   "metadata": {},
   "source": [
    "<a id='ModelFitting'></a>\n",
    "# 5. Fit Model\n",
    "\n",
    "**Now start fitting model for beta and gamma to the data**\n",
    "\n",
    "[TOC](#TOC)"
   ]
  },
  {
   "cell_type": "markdown",
   "metadata": {},
   "source": [
    "## **Our to do list:**\n",
    "\n",
    "_5. Fit model:_\n",
    "- **Task 5.1**: set up initial conditions for model\n",
    "- **Task 5.2**: Set up the SIR model function as per the formulas\n",
    "- **Task 5.3**: set up the odeint_chg_beta() function that does the numerical integration (i.e. solving) of the SIR equations\n",
    "- **Task 5.4**: set up a function to calculate the Residual Sum of Squares between SIR model and observed data\n",
    "- **Task 5.5**: do a least squares fit on RSS to get Beta and Gamma that minimizes the RSS\n"
   ]
  },
  {
   "cell_type": "markdown",
   "metadata": {},
   "source": [
    "### Methods to use:\n",
    "* `np.linspace()`  - set up array of equally spaced data points\n",
    "* `from scipy.optimize import least_squares` - scipy optimization library least_squares optimizer\n",
    "* `.T`   - transpose matrix"
   ]
  },
  {
   "cell_type": "markdown",
   "metadata": {},
   "source": [
    "### 5.1 set up initial conditions for model"
   ]
  },
  {
   "cell_type": "code",
   "execution_count": 372,
   "metadata": {},
   "outputs": [],
   "source": [
    "# Global inputs - Use Named constants\n",
    "REGION              =  \"TX\"\n",
    "UNDER_REPORT_FACTOR =  1                        # multiply number of cases by this amount to account for underreporting\n",
    "\n",
    "CASE_STARTS         =  10_000                   # fit curves to data starting at these number of cases\n",
    "RECOVERIES          =  int(CASE_STARTS*0.2)     # Set initial condition for recoveries (model not sensitive to this)\n",
    "\n",
    "TRACE               = True                     # General debug flag for printing output\n",
    "TRACE_BETA          = True                      # Debug flag for printing output of changed beta scenarios"
   ]
  },
  {
   "cell_type": "markdown",
   "metadata": {},
   "source": [
    "### 5.2 select portion of data to start plotting from i.e. after specified number of cases recorded"
   ]
  },
  {
   "cell_type": "markdown",
   "metadata": {},
   "source": [
    "**NOTE:** We are going to repeat the steps for selecting infected data to use so we can fit them model to portion of dataset after CASE_STARTS. This will let us get a better estimate of the current Beta and Gamma for recent data. "
   ]
  },
  {
   "cell_type": "code",
   "execution_count": 373,
   "metadata": {},
   "outputs": [
    {
     "data": {
      "text/plain": [
       "20937.0"
      ]
     },
     "metadata": {},
     "output_type": "display_data"
    }
   ],
   "source": [
    "# Get the max cases for the region\n",
    "max_cases = np.max(dat[REGION])\n",
    "if TRACE: display(max_cases)"
   ]
  },
  {
   "cell_type": "code",
   "execution_count": 374,
   "metadata": {},
   "outputs": [],
   "source": [
    "# select data that starts at CASE_STARTS only if CASE_STARTS is less than max_cases observed otherwise start at 1000\n",
    "if (max_cases < CASE_STARTS):\n",
    "    CASE_STARTS = 1000\n",
    "start_cases = dat[REGION][dat[REGION] >= CASE_STARTS].index[0]\n",
    "start_cases_str = start_cases.strftime(\"%d-%b-%Y\")  # note that date at which data starts"
   ]
  },
  {
   "cell_type": "code",
   "execution_count": 375,
   "metadata": {},
   "outputs": [
    {
     "data": {
      "text/plain": [
       "79"
      ]
     },
     "metadata": {},
     "output_type": "display_data"
    }
   ],
   "source": [
    "# Note how many data points were discarded\n",
    "discard = len(dat.loc[:start_cases])-1\n",
    "if TRACE: display(discard)"
   ]
  },
  {
   "cell_type": "code",
   "execution_count": 376,
   "metadata": {
    "scrolled": true
   },
   "outputs": [
    {
     "data": {
      "text/plain": [
       "2020-04-09    10233.0\n",
       "2020-04-10    11674.0\n",
       "2020-04-11    12564.0\n",
       "2020-04-12    13487.0\n",
       "2020-04-13    13909.0\n",
       "2020-04-14    14627.0\n",
       "2020-04-15    15495.0\n",
       "2020-04-16    16458.0\n",
       "2020-04-17    17374.0\n",
       "2020-04-18    18263.0\n",
       "2020-04-19    18926.0\n",
       "2020-04-20    19461.0\n",
       "2020-04-21    20199.0\n",
       "2020-04-22    20937.0\n",
       "Freq: D, Name: TX, dtype: float64"
      ]
     },
     "metadata": {},
     "output_type": "display_data"
    }
   ],
   "source": [
    "# show the data series we will use to fit the model\n",
    "if TRACE: display(dat.loc[start_cases:,REGION])"
   ]
  },
  {
   "cell_type": "code",
   "execution_count": 377,
   "metadata": {},
   "outputs": [
    {
     "data": {
      "text/plain": [
       "(10233.0,\n",
       " 11674.0,\n",
       " 12564.0,\n",
       " 13487.0,\n",
       " 13909.0,\n",
       " 14627.0,\n",
       " 15495.0,\n",
       " 16458.0,\n",
       " 17374.0,\n",
       " 18263.0,\n",
       " 18926.0,\n",
       " 19461.0,\n",
       " 20199.0,\n",
       " 20937.0)"
      ]
     },
     "metadata": {},
     "output_type": "display_data"
    }
   ],
   "source": [
    "# Now take the series and convert it into a tuple for the models.  Adjust by the under reporting factor\n",
    "Infected = tuple(dat.loc[start_cases:,REGION].dropna()*UNDER_REPORT_FACTOR)[:]\n",
    "if TRACE: display(Infected)"
   ]
  },
  {
   "cell_type": "code",
   "execution_count": 378,
   "metadata": {},
   "outputs": [
    {
     "data": {
      "text/plain": [
       "'TX'"
      ]
     },
     "metadata": {},
     "output_type": "display_data"
    }
   ],
   "source": [
    "# Display the Region\n",
    "if TRACE: display(REGION)"
   ]
  },
  {
   "cell_type": "code",
   "execution_count": 379,
   "metadata": {},
   "outputs": [
    {
     "data": {
      "text/plain": [
       "28995881"
      ]
     },
     "metadata": {},
     "output_type": "display_data"
    }
   ],
   "source": [
    "# get the total population\n",
    "N = st_info_df[st_info_df[\"PostCode\"]==REGION].Pop.iloc[0]\n",
    "if TRACE: display(N)"
   ]
  },
  {
   "cell_type": "code",
   "execution_count": 380,
   "metadata": {},
   "outputs": [
    {
     "data": {
      "text/plain": [
       "(28983648.0, 10233.0, 2000)"
      ]
     },
     "execution_count": 380,
     "metadata": {},
     "output_type": "execute_result"
    }
   ],
   "source": [
    "# initial infected\n",
    "I0 = Infected[0]\n",
    "# initial recovered\n",
    "#R0 = 1\n",
    "R0 = RECOVERIES\n",
    "#initial susceptible\n",
    "S0 = N - I0 - R0\n",
    "(S0,I0,R0)"
   ]
  },
  {
   "cell_type": "code",
   "execution_count": 381,
   "metadata": {},
   "outputs": [
    {
     "data": {
      "text/plain": [
       "2000"
      ]
     },
     "execution_count": 381,
     "metadata": {},
     "output_type": "execute_result"
    }
   ],
   "source": [
    "R0"
   ]
  },
  {
   "cell_type": "markdown",
   "metadata": {},
   "source": [
    "We need to assign values for $\\beta$ and $\\gamma$. We’ll optimize the model for the best $\\beta$ and $\\gamma$."
   ]
  },
  {
   "cell_type": "markdown",
   "metadata": {},
   "source": [
    "Now, let’s build our initial conditions vector,  and then use linspace to create an array containing our sampling points (days)."
   ]
  },
  {
   "cell_type": "code",
   "execution_count": 382,
   "metadata": {},
   "outputs": [],
   "source": [
    "# initial conditions vector\n",
    "y0 = (S0, I0, R0)\n",
    "# 400 evenly spaced values (representing days)\n",
    "t = np.linspace(1, 400, 400)"
   ]
  },
  {
   "cell_type": "markdown",
   "metadata": {},
   "source": [
    "Here's the SIR differential equation model again"
   ]
  },
  {
   "cell_type": "markdown",
   "metadata": {},
   "source": [
    "### 5.2 Set up the SIR model function as per the formulas"
   ]
  },
  {
   "cell_type": "code",
   "execution_count": 383,
   "metadata": {},
   "outputs": [],
   "source": [
    "def SIR(y, t, N, beta, gamma):\n",
    "    # S, I, R values assigned from vector\n",
    "    S, I, R = y\n",
    "    # differential equations\n",
    "    dSdt = -beta * S * I / N\n",
    "    dIdt =  beta * S * I / N - gamma * I\n",
    "    dRdt =  gamma * I\n",
    "    return dSdt, dIdt, dRdt"
   ]
  },
  {
   "cell_type": "markdown",
   "metadata": {},
   "source": [
    "Let's create a residual sum of squares function RSS that minimizes the RSS between the SIR model and the observed data wrt to $\\beta$ and $\\gamma$.\n",
    "\n",
    "We will use minimize and least_squares from the scipy.optimize library.  \n",
    "\n",
    "First we need a function to numerically integrate the SIR differential equation daily starting with the initial conditions"
   ]
  },
  {
   "cell_type": "markdown",
   "metadata": {},
   "source": [
    "### 5.3 set up the odeint_chg_beta() function that does the numerical integration (i.e. solving) of the SIR equations"
   ]
  },
  {
   "cell_type": "markdown",
   "metadata": {},
   "source": [
    "We are going to make a modification to the function we created previously to allow us to change beta after a period\n",
    "of time. We are going to pass in a parameter called `chgBeta as a tuple.`\n",
    "\n",
    "- `chgBeta[0] = True or False`\n",
    "- `chgBeta[1] = integer` with number of days after start of projection at which we will change Beta\n",
    "- `chgBeta[2] = float` indicating how Beta will change from beta_0 e.g. x2 \n",
    "- `chgBeta[3] = 1 or 2` indicates model to use. \n",
    "\n",
    "- 1 = simple model. Allows change of beta at days after start by multiplier - e.g. after 30 days stop social distancing and beta changes by the multiplier e.g. x2. \n",
    "- 2 = more complex model. Allows turn on and off based on testing every so many days against threshold in change of slope. Allows for social distancing to be turned on and off base on change in infected case numbers\n",
    "\n",
    "So ```chgBeta = (True,0,2,1)``` indicates that Beta will change 0 days (i.e. right away) after last data point observed by factor of x2.  We can use this to simulate what happens if social distancing stops and Beta increases by factor given."
   ]
  },
  {
   "cell_type": "code",
   "execution_count": 385,
   "metadata": {},
   "outputs": [],
   "source": [
    "# function to integrate SIR model from starting conditions but with ability to change beta over time\n",
    "\n",
    "# The chgBeta tuple is used to change beta during the scenario.\n",
    "#     chgBeta[0] = False if no change in beta, else beta will change during projection\n",
    "#     chgBeta[1] = days after to change beta\n",
    "#     chgBeta[2] = beta multiplier\n",
    "#     chgBeta[3] = 1 or 2 inidicating model to use\n",
    "def odeint_chg_beta(y0,t,N,beta_0,gamma,chgBeta=(False,0,1,2),Trace = False):\n",
    "    #import pdb;pdb.set_trace(); chgBeta = (True,0,0.5,1)\n",
    "    y = y0\n",
    "    values      = np.zeros((len(t),3)) \n",
    "    values[0,0] = y0[0]   # S0\n",
    "    values[0,1] = y0[1]   # I0\n",
    "    values[0,2] = y0[2]   # R0\n",
    "    beta        = beta_0\n",
    "    if chgBeta[3] == 2:   # Method 2 beta assumptions\n",
    "        betaA       = beta*2        # assume beta doubles because of removal of social distancing\n",
    "        betaB       = beta*chgBeta[2]\n",
    "        toggle      = [betaA,betaB]\n",
    "    \n",
    "    j = 1                       # toggle choice of beta\n",
    "    monitor     = 0\n",
    "    d2It        = 0\n",
    "   \n",
    "    for i in range(1,len(t)):\n",
    "        dSt, dIt, dRt = SIR(y,i,N,beta,gamma)\n",
    "        values[i,0]   = values[i-1,0] + dSt\n",
    "        values[i,1]   = values[i-1,1] + dIt\n",
    "        values[i,2]   = values[i-1,2] + dRt\n",
    "        y             = (values[i,0],values[i,1],values[i,2])\n",
    "        \n",
    "        # method 1: Simple change in beta at a specified point in time    \n",
    "        if chgBeta[3] == 1:                  # method flag\n",
    "            if chgBeta[0]:                   # change beta = True\n",
    "                if i > chgBeta[1]:           # point in time at which to change beta\n",
    "                    beta = beta_0*chgBeta[2] # change beta by multiplier passed in\n",
    " \n",
    "        # method 2: Inspect change in slope periodically and if between thresholds turn beta on and off           \n",
    "        else: \n",
    "            if i > 2:  # calc change in slope i.e. second derivative - needed to detect acceleration/deceleration\n",
    "                d2It = ((values[i,1]-values[i-1,1]) - (values[i-1,1]-values[i-2,1]))/2 \n",
    "            \n",
    "            # this part of the code simulates turning beta on an off at intervals if the chgBeta flag = True      \n",
    "            if chgBeta[0]:\n",
    "                if i == chgBeta[1]:\n",
    "                    beta = beta*chgBeta[2]                # chgBeta kicks in after delay days\n",
    "                    j    = 0\n",
    "                elif i >= chgBeta[1]:\n",
    "                    monitor = 0\n",
    "                    j += 1\n",
    "                    if (j) % EASE_DAYS == 0:   # check every EASE_DAYS to adjust beta\n",
    "                        monitor = 1\n",
    "                        if dIt > SD_THRESH_UP and d2It > 0:\n",
    "                            beta = toggle[1]\n",
    "                        elif dIt > SD_THRESH_DOWN and d2It > 0:\n",
    "                            beta = toggle[0]\n",
    "                                    \n",
    "            if Trace and (i<90): print(\"i: \",format(i,'3d'),\"beta: \",format(beta,'4.2f'),\"gamma: \",format(gamma,'4.2f'),\n",
    "                                       \"R0: \",format(beta/gamma,'4.2f'),\n",
    "                                       \"S/N: \",format(values[i,0]/N,'5.2f'),\n",
    "                                       \"Inf: \",format(values[i,1],'16,.2f'),\"dIt: \",format(dIt,'10,.2f'),\n",
    "                                       \"d2It: \",format(d2It,'10,.2f'),\n",
    "                                       \"Test: \",monitor)\n",
    "    return values"
   ]
  },
  {
   "cell_type": "markdown",
   "metadata": {},
   "source": [
    "This is the residual sum of squares function used to by the least squares optimizer to fit beta and gamma."
   ]
  },
  {
   "cell_type": "markdown",
   "metadata": {},
   "source": [
    "### 5.4 Set up a function to calculate the Residual Sum of Squares between SIR model and observed data"
   ]
  },
  {
   "cell_type": "code",
   "execution_count": 386,
   "metadata": {},
   "outputs": [
    {
     "data": {
      "text/plain": [
       "20543421868.20651"
      ]
     },
     "execution_count": 386,
     "metadata": {},
     "output_type": "execute_result"
    }
   ],
   "source": [
    "import numpy as np\n",
    "from scipy.optimize import minimize,least_squares\n",
    "\n",
    "# python optimization function\n",
    "def RSS(x,y0,t,N,Infected,Trace):\n",
    "\n",
    "    #import pdb;pdb.set_trace()\n",
    "    # Integrate the diff eqs over the time array\n",
    "    out = odeint_chg_beta(y0, t, N, x[0], x[1],chgBeta=(False,0,1,1),Trace=Trace)\n",
    "\n",
    "    # assign S, I, R values from values transpose\n",
    "    S, I, R = out.T\n",
    "    \n",
    "    rss = np.sum((np.array(I)-np.array(Infected))**2)\n",
    "    return rss\n",
    "\n",
    "# contact rate\n",
    "beta = 0.3\n",
    "# mean recovery rate\n",
    "gamma = 0.1\n",
    "\n",
    "RSS([beta,gamma],y0,t[0:len(Infected)],N,Infected,Trace=False)"
   ]
  },
  {
   "cell_type": "markdown",
   "metadata": {},
   "source": [
    "### 5.5 Do a least squares fit on RSS to get Beta and Gamma that minimizes the RSS"
   ]
  },
  {
   "cell_type": "code",
   "execution_count": 387,
   "metadata": {
    "scrolled": true
   },
   "outputs": [
    {
     "name": "stdout",
     "output_type": "stream",
     "text": [
      " active_mask: array([0., 0.])\n",
      "        cost: 46811735669974.64\n",
      "         fun: array([9675922.24751467])\n",
      "        grad: array([-3.39499084e+12, -1.35601495e+13])\n",
      "         jac: array([[ -350870.  , -1401432.25]])\n",
      "     message: 'The maximum number of function evaluations is exceeded.'\n",
      "        nfev: 200\n",
      "        njev: 190\n",
      "  optimality: 13560149486159.537\n",
      "      status: 0\n",
      "     success: False\n",
      "           x: array([0.53150722, 0.46904394])\n"
     ]
    }
   ],
   "source": [
    "# using least squares\n",
    "sub_t = t[0:len(Infected)]\n",
    "ropt = least_squares(fun=RSS,\n",
    "                args=(y0,sub_t,N,Infected,False),\n",
    "                x0 = (0.5,0.5))      # <- initial guess\n",
    "\n",
    "print(ropt)"
   ]
  },
  {
   "cell_type": "markdown",
   "metadata": {},
   "source": [
    "<a id='BaseCase'></a>\n",
    "# 6. Base Case - Beta as per model fit\n",
    "[TOC](#TOC)"
   ]
  },
  {
   "cell_type": "markdown",
   "metadata": {},
   "source": [
    "## **Our to do list:**\n",
    "\n",
    "_6. Base Case - Beta as per model fit:_\n",
    "- **Task 6.1**: Set up variables and assumptions\n",
    "- **Task 6.2**: Project the spread of the epidemic based on SIR model and best Beta & Gamma fit to data\n",
    "- **Task 6.3**: Plot SIR data and projections\n",
    "- **Task 6.4**: Report summary data from SIR model"
   ]
  },
  {
   "cell_type": "markdown",
   "metadata": {},
   "source": [
    "### Methods to use:\n",
    "* `.T`            - Transpose\n",
    "* `.argmax()`     - locate maximum in a dataframe column\n",
    "* `pd.to_excel()` - write data out to excel file\n",
    "\n",
    "<br>\n",
    "\n",
    "The plot methods we have seen before and some new ones to customize the graph look:\n",
    "* `plt.subplots()`,`.plot()`,`.set_title()`, `.set_xlabel()`,`.set_ylabel()`,`.grid()`\n",
    "* `.xaxis.set_minor_locator(AutoMinorLocator())` \n",
    "* `.tick_params()`\n",
    "* `.axhline()`             - draw horizontal line on graph at specified location\n",
    "* `.set_facecolor()`       - set the face color of a graph\n",
    "* `.subplots_adjust()`     - we will use to adjust whitespace between small graphs\n",
    "* `.suptitle()`            - super title for figure\n",
    "*  `plt.savefig()`         - save out the figure to a file"
   ]
  },
  {
   "cell_type": "markdown",
   "metadata": {},
   "source": [
    "### 6.1 Set up variables and assumptions"
   ]
  },
  {
   "cell_type": "code",
   "execution_count": 388,
   "metadata": {},
   "outputs": [],
   "source": [
    "# Global inputs - Use Named constants\n",
    "REGION              =  \"TX\"\n",
    "UNDER_REPORT_FACTOR =  1                        # multiply number of cases by this amount to account for underreporting\n",
    "START_DAY           =  0                        # start day for beta change from today less than or equal 0\n",
    "DELAY_DAYS          =  7                        # number days after start for beta to change e.g. no social distance               \n",
    "BETA_PCT            =  1                        # percent by which beta changes from beta0 after delay days\n",
    "\n",
    "HOSP_CAP_FACTOR     = .25                       # % of hospital beds that can be allocated to Covid-19\n",
    "HOSP_RATE           = 0.15/UNDER_REPORT_FACTOR  # % of infected that need hospitalization\n",
    "MORT                = 0.005/UNDER_REPORT_FACTOR # assumed mortality rate\n",
    "HOSP_DAYS           = 7                         # Number of days infected hospitalized are in Hospital\n",
    "TRACE               = False                     # General debug flag for printing output\n",
    "TRACE_BETA          = True                      # Debug flag for printing output of changed beta scenarios"
   ]
  },
  {
   "cell_type": "code",
   "execution_count": 389,
   "metadata": {},
   "outputs": [],
   "source": [
    "# set population by region\n",
    "hbf  = 2.8/1000  # Estimate of hospital beds = 28 per 1000 of population"
   ]
  },
  {
   "cell_type": "markdown",
   "metadata": {},
   "source": [
    "### 6.2 Project the spread of the epidemic based on SIR model and best Beta & Gamma fit to data"
   ]
  },
  {
   "cell_type": "code",
   "execution_count": 390,
   "metadata": {},
   "outputs": [
    {
     "name": "stdout",
     "output_type": "stream",
     "text": [
      "i:    1 beta:  0.53 gamma:  0.47 R0:  1.13 S/N:   1.00 Inf:         10,869.89 dIt:      636.89 d2It:        0.00 Test:  0\n",
      "i:    2 beta:  0.53 gamma:  0.47 R0:  1.13 S/N:   1.00 Inf:         11,545.34 dIt:      675.45 d2It:        0.00 Test:  0\n",
      "i:    3 beta:  0.53 gamma:  0.47 R0:  1.13 S/N:   1.00 Inf:         12,261.54 dIt:      716.20 d2It:       20.38 Test:  0\n",
      "i:    4 beta:  0.53 gamma:  0.47 R0:  1.13 S/N:   1.00 Inf:         13,020.79 dIt:      759.25 d2It:       21.53 Test:  0\n",
      "i:    5 beta:  0.53 gamma:  0.47 R0:  1.13 S/N:   1.00 Inf:         13,825.50 dIt:      804.71 d2It:       22.73 Test:  0\n",
      "i:    6 beta:  0.53 gamma:  0.47 R0:  1.13 S/N:   1.00 Inf:         14,678.18 dIt:      852.69 d2It:       23.99 Test:  0\n",
      "i:    7 beta:  0.53 gamma:  0.47 R0:  1.13 S/N:   1.00 Inf:         15,581.49 dIt:      903.30 d2It:       25.31 Test:  0\n",
      "i:    8 beta:  0.53 gamma:  0.47 R0:  1.13 S/N:   1.00 Inf:         16,538.16 dIt:      956.67 d2It:       26.68 Test:  0\n",
      "i:    9 beta:  0.53 gamma:  0.47 R0:  1.13 S/N:   1.00 Inf:         17,551.06 dIt:    1,012.90 d2It:       28.12 Test:  0\n",
      "i:   10 beta:  0.53 gamma:  0.47 R0:  1.13 S/N:   1.00 Inf:         18,623.18 dIt:    1,072.12 d2It:       29.61 Test:  0\n",
      "i:   11 beta:  0.53 gamma:  0.47 R0:  1.13 S/N:   1.00 Inf:         19,757.61 dIt:    1,134.43 d2It:       31.16 Test:  0\n",
      "i:   12 beta:  0.53 gamma:  0.47 R0:  1.13 S/N:   1.00 Inf:         20,957.57 dIt:    1,199.96 d2It:       32.76 Test:  0\n",
      "i:   13 beta:  0.53 gamma:  0.47 R0:  1.13 S/N:   1.00 Inf:         22,226.39 dIt:    1,268.82 d2It:       34.43 Test:  0\n",
      "i:   14 beta:  0.53 gamma:  0.47 R0:  1.13 S/N:   1.00 Inf:         23,567.50 dIt:    1,341.11 d2It:       36.15 Test:  0\n",
      "i:   15 beta:  0.53 gamma:  0.47 R0:  1.13 S/N:   1.00 Inf:         24,984.46 dIt:    1,416.95 d2It:       37.92 Test:  0\n",
      "i:   16 beta:  0.53 gamma:  0.47 R0:  1.13 S/N:   0.99 Inf:         26,480.89 dIt:    1,496.43 d2It:       39.74 Test:  0\n",
      "i:   17 beta:  0.53 gamma:  0.47 R0:  1.13 S/N:   0.99 Inf:         28,060.53 dIt:    1,579.65 d2It:       41.61 Test:  0\n",
      "i:   18 beta:  0.53 gamma:  0.47 R0:  1.13 S/N:   0.99 Inf:         29,727.21 dIt:    1,666.67 d2It:       43.51 Test:  0\n",
      "i:   19 beta:  0.53 gamma:  0.47 R0:  1.13 S/N:   0.99 Inf:         31,484.79 dIt:    1,757.59 d2It:       45.46 Test:  0\n",
      "i:   20 beta:  0.53 gamma:  0.47 R0:  1.13 S/N:   0.99 Inf:         33,337.24 dIt:    1,852.44 d2It:       47.43 Test:  0\n",
      "i:   21 beta:  0.53 gamma:  0.47 R0:  1.13 S/N:   0.99 Inf:         35,288.51 dIt:    1,951.27 d2It:       49.42 Test:  0\n",
      "i:   22 beta:  0.53 gamma:  0.47 R0:  1.13 S/N:   0.99 Inf:         37,342.62 dIt:    2,054.11 d2It:       51.42 Test:  0\n",
      "i:   23 beta:  0.53 gamma:  0.47 R0:  1.13 S/N:   0.99 Inf:         39,503.56 dIt:    2,160.94 d2It:       53.42 Test:  0\n",
      "i:   24 beta:  0.53 gamma:  0.47 R0:  1.13 S/N:   0.99 Inf:         41,775.30 dIt:    2,271.74 d2It:       55.40 Test:  0\n",
      "i:   25 beta:  0.53 gamma:  0.47 R0:  1.13 S/N:   0.99 Inf:         44,161.76 dIt:    2,386.45 d2It:       57.36 Test:  0\n",
      "i:   26 beta:  0.53 gamma:  0.47 R0:  1.13 S/N:   0.99 Inf:         46,666.75 dIt:    2,504.99 d2It:       59.27 Test:  0\n",
      "i:   27 beta:  0.53 gamma:  0.47 R0:  1.13 S/N:   0.99 Inf:         49,293.96 dIt:    2,627.22 d2It:       61.11 Test:  0\n",
      "i:   28 beta:  0.53 gamma:  0.47 R0:  1.13 S/N:   0.99 Inf:         52,046.94 dIt:    2,752.97 d2It:       62.88 Test:  0\n",
      "i:   29 beta:  0.53 gamma:  0.47 R0:  1.13 S/N:   0.99 Inf:         54,928.97 dIt:    2,882.04 d2It:       64.53 Test:  0\n",
      "i:   30 beta:  0.53 gamma:  0.47 R0:  1.13 S/N:   0.98 Inf:         57,943.12 dIt:    3,014.14 d2It:       66.05 Test:  0\n",
      "i:   31 beta:  0.53 gamma:  0.47 R0:  1.13 S/N:   0.98 Inf:         61,092.09 dIt:    3,148.97 d2It:       67.42 Test:  0\n",
      "i:   32 beta:  0.53 gamma:  0.47 R0:  1.13 S/N:   0.98 Inf:         64,378.23 dIt:    3,286.15 d2It:       68.59 Test:  0\n",
      "i:   33 beta:  0.53 gamma:  0.47 R0:  1.13 S/N:   0.98 Inf:         67,803.45 dIt:    3,425.21 d2It:       69.53 Test:  0\n",
      "i:   34 beta:  0.53 gamma:  0.47 R0:  1.13 S/N:   0.98 Inf:         71,369.11 dIt:    3,565.66 d2It:       70.23 Test:  0\n",
      "i:   35 beta:  0.53 gamma:  0.47 R0:  1.13 S/N:   0.98 Inf:         75,076.02 dIt:    3,706.91 d2It:       70.62 Test:  0\n",
      "i:   36 beta:  0.53 gamma:  0.47 R0:  1.13 S/N:   0.98 Inf:         78,924.30 dIt:    3,848.27 d2It:       70.68 Test:  0\n",
      "i:   37 beta:  0.53 gamma:  0.47 R0:  1.13 S/N:   0.98 Inf:         82,913.31 dIt:    3,989.02 d2It:       70.37 Test:  0\n",
      "i:   38 beta:  0.53 gamma:  0.47 R0:  1.13 S/N:   0.97 Inf:         87,041.62 dIt:    4,128.31 d2It:       69.64 Test:  0\n",
      "i:   39 beta:  0.53 gamma:  0.47 R0:  1.13 S/N:   0.97 Inf:         91,306.84 dIt:    4,265.22 d2It:       68.46 Test:  0\n",
      "i:   40 beta:  0.53 gamma:  0.47 R0:  1.13 S/N:   0.97 Inf:         95,705.60 dIt:    4,398.76 d2It:       66.77 Test:  0\n",
      "i:   41 beta:  0.53 gamma:  0.47 R0:  1.13 S/N:   0.97 Inf:        100,233.42 dIt:    4,527.82 d2It:       64.53 Test:  0\n",
      "i:   42 beta:  0.53 gamma:  0.47 R0:  1.13 S/N:   0.97 Inf:        104,884.66 dIt:    4,651.23 d2It:       61.71 Test:  0\n",
      "i:   43 beta:  0.53 gamma:  0.47 R0:  1.13 S/N:   0.97 Inf:        109,652.40 dIt:    4,767.74 d2It:       58.25 Test:  0\n",
      "i:   44 beta:  0.53 gamma:  0.47 R0:  1.13 S/N:   0.96 Inf:        114,528.40 dIt:    4,876.00 d2It:       54.13 Test:  0\n",
      "i:   45 beta:  0.53 gamma:  0.47 R0:  1.13 S/N:   0.96 Inf:        119,503.02 dIt:    4,974.62 d2It:       49.31 Test:  0\n",
      "i:   46 beta:  0.53 gamma:  0.47 R0:  1.13 S/N:   0.96 Inf:        124,565.14 dIt:    5,062.12 d2It:       43.75 Test:  0\n",
      "i:   47 beta:  0.53 gamma:  0.47 R0:  1.13 S/N:   0.96 Inf:        129,702.15 dIt:    5,137.01 d2It:       37.44 Test:  0\n",
      "i:   48 beta:  0.53 gamma:  0.47 R0:  1.13 S/N:   0.96 Inf:        134,899.89 dIt:    5,197.74 d2It:       30.36 Test:  0\n",
      "i:   49 beta:  0.53 gamma:  0.47 R0:  1.13 S/N:   0.95 Inf:        140,142.63 dIt:    5,242.74 d2It:       22.50 Test:  0\n",
      "i:   50 beta:  0.53 gamma:  0.47 R0:  1.13 S/N:   0.95 Inf:        145,413.12 dIt:    5,270.49 d2It:       13.87 Test:  0\n",
      "i:   51 beta:  0.53 gamma:  0.47 R0:  1.13 S/N:   0.95 Inf:        150,692.56 dIt:    5,279.44 d2It:        4.48 Test:  0\n",
      "i:   52 beta:  0.53 gamma:  0.47 R0:  1.13 S/N:   0.95 Inf:        155,960.69 dIt:    5,268.14 d2It:       -5.65 Test:  0\n",
      "i:   53 beta:  0.53 gamma:  0.47 R0:  1.13 S/N:   0.94 Inf:        161,195.88 dIt:    5,235.18 d2It:      -16.48 Test:  0\n",
      "i:   54 beta:  0.53 gamma:  0.47 R0:  1.13 S/N:   0.94 Inf:        166,375.17 dIt:    5,179.29 d2It:      -27.94 Test:  0\n",
      "i:   55 beta:  0.53 gamma:  0.47 R0:  1.13 S/N:   0.94 Inf:        171,474.49 dIt:    5,099.33 d2It:      -39.98 Test:  0\n",
      "i:   56 beta:  0.53 gamma:  0.47 R0:  1.13 S/N:   0.93 Inf:        176,468.80 dIt:    4,994.30 d2It:      -52.51 Test:  0\n",
      "i:   57 beta:  0.53 gamma:  0.47 R0:  1.13 S/N:   0.93 Inf:        181,332.24 dIt:    4,863.44 d2It:      -65.43 Test:  0\n",
      "i:   58 beta:  0.53 gamma:  0.47 R0:  1.13 S/N:   0.93 Inf:        186,038.42 dIt:    4,706.19 d2It:      -78.63 Test:  0\n",
      "i:   59 beta:  0.53 gamma:  0.47 R0:  1.13 S/N:   0.93 Inf:        190,560.66 dIt:    4,522.24 d2It:      -91.98 Test:  0\n",
      "i:   60 beta:  0.53 gamma:  0.47 R0:  1.13 S/N:   0.92 Inf:        194,872.22 dIt:    4,311.56 d2It:     -105.34 Test:  0\n",
      "i:   61 beta:  0.53 gamma:  0.47 R0:  1.13 S/N:   0.92 Inf:        198,946.65 dIt:    4,074.43 d2It:     -118.56 Test:  0\n",
      "i:   62 beta:  0.53 gamma:  0.47 R0:  1.13 S/N:   0.92 Inf:        202,758.09 dIt:    3,811.43 d2It:     -131.50 Test:  0\n",
      "i:   63 beta:  0.53 gamma:  0.47 R0:  1.13 S/N:   0.91 Inf:        206,281.56 dIt:    3,523.47 d2It:     -143.98 Test:  0\n",
      "i:   64 beta:  0.53 gamma:  0.47 R0:  1.13 S/N:   0.91 Inf:        209,493.33 dIt:    3,211.77 d2It:     -155.85 Test:  0\n",
      "i:   65 beta:  0.53 gamma:  0.47 R0:  1.13 S/N:   0.90 Inf:        212,371.23 dIt:    2,877.90 d2It:     -166.94 Test:  0\n",
      "i:   66 beta:  0.53 gamma:  0.47 R0:  1.13 S/N:   0.90 Inf:        214,894.94 dIt:    2,523.71 d2It:     -177.09 Test:  0\n",
      "i:   67 beta:  0.53 gamma:  0.47 R0:  1.13 S/N:   0.90 Inf:        217,046.32 dIt:    2,151.38 d2It:     -186.17 Test:  0\n",
      "i:   68 beta:  0.53 gamma:  0.47 R0:  1.13 S/N:   0.89 Inf:        218,809.66 dIt:    1,763.34 d2It:     -194.02 Test:  0\n",
      "i:   69 beta:  0.53 gamma:  0.47 R0:  1.13 S/N:   0.89 Inf:        220,171.92 dIt:    1,362.27 d2It:     -200.54 Test:  0\n",
      "i:   70 beta:  0.53 gamma:  0.47 R0:  1.13 S/N:   0.89 Inf:        221,122.97 dIt:      951.05 d2It:     -205.61 Test:  0\n",
      "i:   71 beta:  0.53 gamma:  0.47 R0:  1.13 S/N:   0.88 Inf:        221,655.68 dIt:      532.72 d2It:     -209.17 Test:  0\n",
      "i:   72 beta:  0.53 gamma:  0.47 R0:  1.13 S/N:   0.88 Inf:        221,766.11 dIt:      110.43 d2It:     -211.14 Test:  0\n",
      "i:   73 beta:  0.53 gamma:  0.47 R0:  1.13 S/N:   0.88 Inf:        221,453.52 dIt:     -312.59 d2It:     -211.51 Test:  0\n",
      "i:   74 beta:  0.53 gamma:  0.47 R0:  1.13 S/N:   0.87 Inf:        220,720.39 dIt:     -733.13 d2It:     -210.27 Test:  0\n",
      "i:   75 beta:  0.53 gamma:  0.47 R0:  1.13 S/N:   0.87 Inf:        219,572.40 dIt:   -1,147.99 d2It:     -207.43 Test:  0\n",
      "i:   76 beta:  0.53 gamma:  0.47 R0:  1.13 S/N:   0.87 Inf:        218,018.32 dIt:   -1,554.08 d2It:     -203.05 Test:  0\n",
      "i:   77 beta:  0.53 gamma:  0.47 R0:  1.13 S/N:   0.86 Inf:        216,069.86 dIt:   -1,948.45 d2It:     -197.19 Test:  0\n",
      "i:   78 beta:  0.53 gamma:  0.47 R0:  1.13 S/N:   0.86 Inf:        213,741.52 dIt:   -2,328.34 d2It:     -189.94 Test:  0\n",
      "i:   79 beta:  0.53 gamma:  0.47 R0:  1.13 S/N:   0.86 Inf:        211,050.32 dIt:   -2,691.20 d2It:     -181.43 Test:  0\n",
      "i:   80 beta:  0.53 gamma:  0.47 R0:  1.13 S/N:   0.85 Inf:        208,015.57 dIt:   -3,034.75 d2It:     -171.78 Test:  0\n",
      "i:   81 beta:  0.53 gamma:  0.47 R0:  1.13 S/N:   0.85 Inf:        204,658.57 dIt:   -3,357.00 d2It:     -161.12 Test:  0\n",
      "i:   82 beta:  0.53 gamma:  0.47 R0:  1.13 S/N:   0.85 Inf:        201,002.31 dIt:   -3,656.26 d2It:     -149.63 Test:  0\n",
      "i:   83 beta:  0.53 gamma:  0.47 R0:  1.13 S/N:   0.84 Inf:        197,071.16 dIt:   -3,931.15 d2It:     -137.45 Test:  0\n",
      "i:   84 beta:  0.53 gamma:  0.47 R0:  1.13 S/N:   0.84 Inf:        192,890.51 dIt:   -4,180.64 d2It:     -124.74 Test:  0\n",
      "i:   85 beta:  0.53 gamma:  0.47 R0:  1.13 S/N:   0.84 Inf:        188,486.51 dIt:   -4,404.00 d2It:     -111.68 Test:  0\n",
      "i:   86 beta:  0.53 gamma:  0.47 R0:  1.13 S/N:   0.83 Inf:        183,885.69 dIt:   -4,600.83 d2It:      -98.41 Test:  0\n",
      "i:   87 beta:  0.53 gamma:  0.47 R0:  1.13 S/N:   0.83 Inf:        179,114.68 dIt:   -4,771.01 d2It:      -85.09 Test:  0\n",
      "i:   88 beta:  0.53 gamma:  0.47 R0:  1.13 S/N:   0.83 Inf:        174,199.93 dIt:   -4,914.74 d2It:      -71.87 Test:  0\n",
      "i:   89 beta:  0.53 gamma:  0.47 R0:  1.13 S/N:   0.83 Inf:        169,167.47 dIt:   -5,032.46 d2It:      -58.86 Test:  0\n"
     ]
    }
   ],
   "source": [
    "# Integrate the diff eqs over the time array using the best fit beta and data for recent data\n",
    "beta = ropt[\"x\"][0]\n",
    "gamma = ropt[\"x\"][1]\n",
    "\n",
    "chgBeta = (False,0,1,2)\n",
    "\n",
    "# Set the Trace to true so we can see output of model by day\n",
    "values = odeint_chg_beta(y0, t, N, beta, gamma,chgBeta,Trace=True)\n",
    "\n",
    "# assign S, I, R values from values transpose\n",
    "S, I, R = values.T"
   ]
  },
  {
   "cell_type": "markdown",
   "metadata": {},
   "source": [
    "Finally, we can plot the arrays using matplotlib:"
   ]
  },
  {
   "cell_type": "markdown",
   "metadata": {},
   "source": [
    "### 6.3 Plot SIR data and projections"
   ]
  },
  {
   "cell_type": "code",
   "execution_count": 391,
   "metadata": {
    "scrolled": true
   },
   "outputs": [
    {
     "data": {
      "text/plain": [
       "numpy.float64"
      ]
     },
     "execution_count": 391,
     "metadata": {},
     "output_type": "execute_result"
    }
   ],
   "source": [
    "# get the hospital bed estimate for the Region\n",
    "hosp_beds = st_info_df[st_info_df[\"PostCode\"]==REGION].HospBeds.iloc[0]\n",
    "type(hosp_beds)"
   ]
  },
  {
   "cell_type": "code",
   "execution_count": 392,
   "metadata": {
    "scrolled": true
   },
   "outputs": [
    {
     "data": {
      "image/png": "[encoded data removed]",
      "text/plain": [
       "<Figure size 1440x720 with 4 Axes>"
      ]
     },
     "metadata": {
      "needs_background": "light"
     },
     "output_type": "display_data"
    }
   ],
   "source": [
    "# plot 4 charts:\n",
    "# 1.  Infected data, Infected fcst, Recovered fcst zoom-in\n",
    "# 2.  Infected data, Infected fcst, Recovered fcst, hosp bed capacity, hosp bed fcst zoom-in\n",
    "# 3.  Infected data, Infected fcst, Recovered fcst, Suceptible fcast - no zoom-in\n",
    "# 4.  log of Infected data, Infected fcst, Recovered fcst, Suceptible fcast - no zoom-in\n",
    "\n",
    "add_days = 60                          # project 60 days out for the zoom in chart\n",
    "dat_days = len(Infected)\n",
    "k = len(Infected)+add_days\n",
    "\n",
    "# Creates two subplots and unpacks the output array immediately\n",
    "fig, (ax1,ax0,ax2,ax3) = plt.subplots(1, 4,figsize=(20, 10))\n",
    "\n",
    "# Plot 1:\n",
    "# Estimate number of people in hospital - last 14 days of infections need hospital at rate HOSP_RATE\n",
    "H = np.array(pd.Series(I[:k]).diff().rolling(HOSP_DAYS).sum()*HOSP_RATE)\n",
    "\n",
    "ax0.plot(t[:k], I[:k], 'orange', lw=1.5, label='Infected')\n",
    "ax0.plot(t[:k], R[:k], 'blue', lw=1.5, label='Recovered')\n",
    "ax0.plot(sub_t[:dat_days],Infected[:dat_days],'or',markersize=8,label = 'data')\n",
    "ax0.plot(t[:k], H[:k], 'k--', lw=1.5, label='Hosp Need')\n",
    "ax0.set_xlabel('Time (days)')\n",
    "ax0.set_ylabel('Number of People')\n",
    "ax0.grid(b=True, which='major', c='#bbbbbb', lw=1, ls='-')\n",
    "ax0.set_title(\"Beta0 = \"+format(beta,'.2f')+\" Gamma = \"+format(gamma,'.2f'))\n",
    "ax0.axhline(hosp_beds*HOSP_CAP_FACTOR, color=\"red\", linestyle=\"--\",label=\"Hosp Spare Capacity\")\n",
    "ax0.set_ylim(0,hosp_beds*HOSP_CAP_FACTOR*8)\n",
    "legend = ax0.legend()\n",
    "legend.get_frame().set_alpha(0.5)\n",
    "\n",
    "# Plot 2:\n",
    "ax1.plot(t[:k], I[:k], 'orange', lw=1.5, label='Infected')\n",
    "ax1.plot(t[:k], R[:k], 'blue', lw=1.5, label='Recovered')\n",
    "ax1.plot(sub_t[:dat_days],Infected[:dat_days],'or',markersize=8,label = 'data')\n",
    "ax1.set_xlabel('Time (days)')\n",
    "ax1.set_ylabel('Number of People')\n",
    "ax1.grid(b=True, which='major', c='#bbbbbb', lw=1, ls='-')\n",
    "ax1.set_title(\"Beta0 = \"+format(beta,'.2f')+\" Gamma = \"+format(gamma,'.2f'))\n",
    "legend = ax1.legend()\n",
    "legend.get_frame().set_alpha(0.5)\n",
    "\n",
    "#Plot 3:\n",
    "ax2.plot(t, S, 'black', lw=1.5, label='Susceptible')\n",
    "ax2.plot(t, I, 'orange', lw=1.5, label='Infected')\n",
    "ax2.plot(t, R, 'blue', lw=1.5, label='Recovered')\n",
    "ax2.plot(sub_t,Infected[:dat_days],'or',markersize=8,label = 'data')\n",
    "ax2.set_xlabel('Time (days)')\n",
    "ax2.set_ylabel('Number of People')\n",
    "ax2.grid(b=True, which='major', c='#bbbbbb', lw=1, ls='-')\n",
    "legend = ax2.legend()\n",
    "legend.get_frame().set_alpha(0.5)\n",
    "ax2.set_title(\"Beta0 = \"+format(beta,'.2f')+\" Gamma = \"+format(gamma,'.2f'))\n",
    "\n",
    "#Plot 4:\n",
    "ax3.plot(t, np.log(S), 'black', lw=1.5, label='Susceptible')\n",
    "ax3.plot(t, np.log(I), 'orange', lw=1.5, label='Infected')\n",
    "ax3.plot(t, np.log(R), 'blue', lw=1.5, label='Recovered')\n",
    "ax3.plot(sub_t,np.log(Infected),'or',markersize=8,label = 'data')\n",
    "ax3.set_xlabel('Time (days)')\n",
    "ax3.set_ylabel('Number of People')\n",
    "ax3.grid(b=True, which='major', c='#bbbbbb', lw=1, ls='-')\n",
    "legend = ax3.legend()\n",
    "legend.get_frame().set_alpha(0.5)\n",
    "ax3.set_title(\"LOG SCALE: Beta0 = \"+format(beta,'.2f')+\" Gamma = \"+format(gamma,'.2f'))\n",
    "\n",
    "figure.suptitle(f'Region = {REGION} : Model = Changed Beta --- beta changes from {beta:.2f} to {beta*chgBeta[2]:.2f} at t = {chgBeta[1]}',fontsize = 20)\n",
    "\n",
    "#plt.show()\n",
    "plt.savefig(\"out_6.3_BaseCase_\"+REGION+\".pdf\")"
   ]
  },
  {
   "cell_type": "markdown",
   "metadata": {},
   "source": [
    "We see in the right log-linear plot that the model seems to fit the values quite well. We can now extract some interesting statistics. One important number is the so-called basic reproduction number (also basic reproduction ratio)  (pronounced “R naught”) which basically shows how many healthy people get infected by a sick person on average:"
   ]
  },
  {
   "cell_type": "code",
   "execution_count": 393,
   "metadata": {
    "scrolled": false
   },
   "outputs": [
    {
     "name": "stdout",
     "output_type": "stream",
     "text": [
      "Region = TX : Model = Changed Beta --- beta changes from 0.53 to 0.53 at t = 0\n",
      "    RO   =  1.13\n",
      "    RNew =  1.13\n",
      "    Under Report Factor =  1\n",
      "    Reference date =  09-Apr-2020\n",
      "    Days to Peak Infection =  72\n",
      "    Remaining days to peak infection =  58\n",
      "    Peak Infected =  221,766  or  0.76% of population\n",
      "    Peak Recovered (Immune + Dead) =  6,663,063 or  23% of population\n",
      "    Deaths =  33,315 at mortality rate of  0.50%\n"
     ]
    }
   ],
   "source": [
    "# summarize some of the statistics\n",
    "R0 = beta/gamma   \n",
    "pk = np.argmax(I)\n",
    "\n",
    "print(f'Region = {REGION} : Model = Changed Beta --- beta changes from {beta:.2f} to {beta*chgBeta[2]:.2f} at t = {chgBeta[1]}')\n",
    "print(\"    RO   = \",format(R0,'0.2f'))\n",
    "RNEW = beta*chgBeta[2]/gamma \n",
    "print(\"    RNew = \",format(RNEW,'0.2f'))\n",
    "\n",
    "print(\"    Under Report Factor = \",UNDER_REPORT_FACTOR)\n",
    "print(\"    Reference date = \",start_cases_str)\n",
    "print(\"    Days to Peak Infection = \",pk)\n",
    "print(\"    Remaining days to peak infection = \",pk -len(sub_t))\n",
    "print(\"    Peak Infected = \", format(I[pk],\",.0f\"),\" or \",format(I[pk]/N,\".2%\"),\"of population\")\n",
    "print(\"    Peak Recovered (Immune + Dead) = \", format(R[-1],\",.0f\"), \"or \",format(R[-1]/N,\",.0%\"),\"of population\")\n",
    "print(\"    Deaths = \",format(R[-1] * MORT,',.0f'),\"at mortality rate of \",format(MORT,\".2%\"))   "
   ]
  },
  {
   "cell_type": "markdown",
   "metadata": {},
   "source": [
    "### 6.4 Report summary data from SIR model"
   ]
  },
  {
   "cell_type": "code",
   "execution_count": 394,
   "metadata": {
    "scrolled": false
   },
   "outputs": [
    {
     "name": "stdout",
     "output_type": "stream",
     "text": [
      "Region = TX : Model = Changed Beta --- beta changes from 0.53 to 0.53 at t = 0\n",
      "    Reference date =  09-Apr-2020\n",
      "    Day at which  500,000 K infections reached =  0  or  -14  days from now\n",
      "    Infections =  10,233\n"
     ]
    }
   ],
   "source": [
    "Cases = 500_000\n",
    "cross_day = (I>Cases).argmax()\n",
    "print(f'Region = {REGION} : Model = Changed Beta --- beta changes from {beta:.2f} to {beta*chgBeta[2]:.2f} at t = {chgBeta[1]}')\n",
    "print(\"    Reference date = \",start_cases_str)\n",
    "print(\"    Day at which \",format(Cases,\",.0f\"),\"K infections reached = \",format((I>Cases).argmax()), \" or \",\n",
    "     (cross_day - len(sub_t)),\" days from now\")\n",
    "print(\"    Infections = \",format(I[(I>Cases).argmax()],\",.0f\"))"
   ]
  },
  {
   "cell_type": "markdown",
   "metadata": {},
   "source": [
    "<a id='SlowedBeta'></a>\n",
    "# 7. Case 2 - Beta is allowed to change (e.g. change in social distancing)\n",
    "[TOC](#TOC)"
   ]
  },
  {
   "cell_type": "markdown",
   "metadata": {},
   "source": [
    "## **Our to do list:**\n",
    "\n",
    "_7. Case 2 - Beta is allowed to change:_\n",
    "- **Task 7.2**: Project the spread of the epidemic based on SIR model and best Beta & Gamma fit to data\n",
    "- **Task 7.3**: Plot SIR data and projections\n",
    "- **Task 7.4**: Report summary data from SIR model"
   ]
  },
  {
   "cell_type": "markdown",
   "metadata": {},
   "source": [
    "### Methods to use:\n",
    "* `.T`            - Transpose\n",
    "* `.argmax()`     - locate maximum in a dataframe column\n",
    "* `pd.to_excel()` - write data out to excel file\n",
    "\n",
    "<br>\n",
    "\n",
    "The plot methods we have seen before and some new ones to customize the graph look:\n",
    "* `plt.subplots()`,`.plot()`,`.set_title()`, `.set_xlabel()`,`.set_ylabel()`,`.grid()`\n",
    "* `.xaxis.set_minor_locator(AutoMinorLocator())` \n",
    "* `.tick_params()`\n",
    "* `.axhline()`             - draw horizontal line on graph at specified location\n",
    "* `.set_facecolor()`       - set the face color of a graph\n",
    "* `.subplots_adjust()`     - we will use to adjust whitespace between small graphs\n",
    "* `.suptitle()`            - super title for figure\n",
    "*  `plt.savefig()`         - save out the figure to a file"
   ]
  },
  {
   "cell_type": "markdown",
   "metadata": {},
   "source": [
    "### 7.2 Project the spread of the epidemic based on SIR model and best Beta & Gamma fit to data"
   ]
  },
  {
   "cell_type": "code",
   "execution_count": 395,
   "metadata": {},
   "outputs": [],
   "source": [
    "# Global inputs - Use Named constants\n",
    "REGION              =  \"TX\"\n",
    "UNDER_REPORT_FACTOR =  1                        # multiply number of cases by this amount to account for underreporting\n",
    "START_DAY           =  0                        # start day for beta change from today less than or equal 0\n",
    "DELAY_DAYS          =  30                        # number days after start for beta to change e.g. no social distance               \n",
    "BETA_PCT            =  1                        # xfactor by which beta changes from beta0 after delay days\n",
    "\n",
    "EASE_DAYS           =  15                       # check whether to remove social distancing every ease_days\n",
    "SD_THRESH_UP        =  5_000                    # Rate of change of cases at which social distance is turned on\n",
    "SD_THRESH_DOWN      = -5_000                    # Rate of change of cases at which social distance is turned off\n",
    "HOSP_CAP_FACTOR     = .25                       # % of hospital beds that can be allocated to Covid-19\n",
    "HOSP_RATE           = 0.15/UNDER_REPORT_FACTOR  # % of infected that need hospitalization\n",
    "MORT                = 0.005/UNDER_REPORT_FACTOR # assumed mortality rate\n",
    "HOSP_DAYS           = 7                         # Number of days infected hospitalized are in Hospital\n",
    "TRACE               = False                     # General debug flag for printing output\n",
    "TRACE_BETA          = True                      # Debug flag for printing output of changed beta scenarios"
   ]
  },
  {
   "cell_type": "code",
   "execution_count": 396,
   "metadata": {},
   "outputs": [
    {
     "data": {
      "text/plain": [
       "'22-Apr-2020'"
      ]
     },
     "execution_count": 396,
     "metadata": {},
     "output_type": "execute_result"
    }
   ],
   "source": [
    "# set up the start of Beta change\n",
    "k = len(Infected)+discard-1     # remember we discarded data less than threshold cases\n",
    "\n",
    "start_chgBeta_date = idx[k+START_DAY].strftime(\"%d-%b-%Y\")\n",
    "start_chgBeta_date"
   ]
  },
  {
   "cell_type": "code",
   "execution_count": 397,
   "metadata": {},
   "outputs": [
    {
     "data": {
      "text/plain": [
       "44"
      ]
     },
     "execution_count": 397,
     "metadata": {},
     "output_type": "execute_result"
    }
   ],
   "source": [
    "# Integrate the diff eqs over the time array using the best fit beta and data for recent data\n",
    "beta = ropt[\"x\"][0]\n",
    "gamma = ropt[\"x\"][1]\n",
    "\n",
    "chgBeta_idx_start = len(Infected)+START_DAY+DELAY_DAYS\n",
    "chgBeta_idx_start"
   ]
  },
  {
   "cell_type": "code",
   "execution_count": 398,
   "metadata": {
    "scrolled": true
   },
   "outputs": [
    {
     "name": "stdout",
     "output_type": "stream",
     "text": [
      "i:    1 beta:  0.53 gamma:  0.47 R0:  1.13 S/N:   1.00 Inf:         10,869.89 dIt:      636.89 d2It:        0.00 Test:  0\n",
      "i:    2 beta:  0.53 gamma:  0.47 R0:  1.13 S/N:   1.00 Inf:         11,545.34 dIt:      675.45 d2It:        0.00 Test:  0\n",
      "i:    3 beta:  0.53 gamma:  0.47 R0:  1.13 S/N:   1.00 Inf:         12,261.54 dIt:      716.20 d2It:       20.38 Test:  0\n",
      "i:    4 beta:  0.53 gamma:  0.47 R0:  1.13 S/N:   1.00 Inf:         13,020.79 dIt:      759.25 d2It:       21.53 Test:  0\n",
      "i:    5 beta:  0.53 gamma:  0.47 R0:  1.13 S/N:   1.00 Inf:         13,825.50 dIt:      804.71 d2It:       22.73 Test:  0\n",
      "i:    6 beta:  0.53 gamma:  0.47 R0:  1.13 S/N:   1.00 Inf:         14,678.18 dIt:      852.69 d2It:       23.99 Test:  0\n",
      "i:    7 beta:  0.53 gamma:  0.47 R0:  1.13 S/N:   1.00 Inf:         15,581.49 dIt:      903.30 d2It:       25.31 Test:  0\n",
      "i:    8 beta:  0.53 gamma:  0.47 R0:  1.13 S/N:   1.00 Inf:         16,538.16 dIt:      956.67 d2It:       26.68 Test:  0\n",
      "i:    9 beta:  0.53 gamma:  0.47 R0:  1.13 S/N:   1.00 Inf:         17,551.06 dIt:    1,012.90 d2It:       28.12 Test:  0\n",
      "i:   10 beta:  0.53 gamma:  0.47 R0:  1.13 S/N:   1.00 Inf:         18,623.18 dIt:    1,072.12 d2It:       29.61 Test:  0\n",
      "i:   11 beta:  0.53 gamma:  0.47 R0:  1.13 S/N:   1.00 Inf:         19,757.61 dIt:    1,134.43 d2It:       31.16 Test:  0\n",
      "i:   12 beta:  0.53 gamma:  0.47 R0:  1.13 S/N:   1.00 Inf:         20,957.57 dIt:    1,199.96 d2It:       32.76 Test:  0\n",
      "i:   13 beta:  0.53 gamma:  0.47 R0:  1.13 S/N:   1.00 Inf:         22,226.39 dIt:    1,268.82 d2It:       34.43 Test:  0\n",
      "i:   14 beta:  0.53 gamma:  0.47 R0:  1.13 S/N:   1.00 Inf:         23,567.50 dIt:    1,341.11 d2It:       36.15 Test:  0\n",
      "i:   15 beta:  0.53 gamma:  0.47 R0:  1.13 S/N:   1.00 Inf:         24,984.46 dIt:    1,416.95 d2It:       37.92 Test:  0\n",
      "i:   16 beta:  0.53 gamma:  0.47 R0:  1.13 S/N:   0.99 Inf:         26,480.89 dIt:    1,496.43 d2It:       39.74 Test:  0\n",
      "i:   17 beta:  0.53 gamma:  0.47 R0:  1.13 S/N:   0.99 Inf:         28,060.53 dIt:    1,579.65 d2It:       41.61 Test:  0\n",
      "i:   18 beta:  0.53 gamma:  0.47 R0:  1.13 S/N:   0.99 Inf:         29,727.21 dIt:    1,666.67 d2It:       43.51 Test:  0\n",
      "i:   19 beta:  0.53 gamma:  0.47 R0:  1.13 S/N:   0.99 Inf:         31,484.79 dIt:    1,757.59 d2It:       45.46 Test:  0\n",
      "i:   20 beta:  0.53 gamma:  0.47 R0:  1.13 S/N:   0.99 Inf:         33,337.24 dIt:    1,852.44 d2It:       47.43 Test:  0\n",
      "i:   21 beta:  0.53 gamma:  0.47 R0:  1.13 S/N:   0.99 Inf:         35,288.51 dIt:    1,951.27 d2It:       49.42 Test:  0\n",
      "i:   22 beta:  0.53 gamma:  0.47 R0:  1.13 S/N:   0.99 Inf:         37,342.62 dIt:    2,054.11 d2It:       51.42 Test:  0\n",
      "i:   23 beta:  0.53 gamma:  0.47 R0:  1.13 S/N:   0.99 Inf:         39,503.56 dIt:    2,160.94 d2It:       53.42 Test:  0\n",
      "i:   24 beta:  0.53 gamma:  0.47 R0:  1.13 S/N:   0.99 Inf:         41,775.30 dIt:    2,271.74 d2It:       55.40 Test:  0\n",
      "i:   25 beta:  0.53 gamma:  0.47 R0:  1.13 S/N:   0.99 Inf:         44,161.76 dIt:    2,386.45 d2It:       57.36 Test:  0\n",
      "i:   26 beta:  0.53 gamma:  0.47 R0:  1.13 S/N:   0.99 Inf:         46,666.75 dIt:    2,504.99 d2It:       59.27 Test:  0\n",
      "i:   27 beta:  0.53 gamma:  0.47 R0:  1.13 S/N:   0.99 Inf:         49,293.96 dIt:    2,627.22 d2It:       61.11 Test:  0\n",
      "i:   28 beta:  0.53 gamma:  0.47 R0:  1.13 S/N:   0.99 Inf:         52,046.94 dIt:    2,752.97 d2It:       62.88 Test:  0\n",
      "i:   29 beta:  0.53 gamma:  0.47 R0:  1.13 S/N:   0.99 Inf:         54,928.97 dIt:    2,882.04 d2It:       64.53 Test:  0\n",
      "i:   30 beta:  0.53 gamma:  0.47 R0:  1.13 S/N:   0.98 Inf:         57,943.12 dIt:    3,014.14 d2It:       66.05 Test:  0\n",
      "i:   31 beta:  0.53 gamma:  0.47 R0:  1.13 S/N:   0.98 Inf:         61,092.09 dIt:    3,148.97 d2It:       67.42 Test:  0\n",
      "i:   32 beta:  0.53 gamma:  0.47 R0:  1.13 S/N:   0.98 Inf:         64,378.23 dIt:    3,286.15 d2It:       68.59 Test:  0\n",
      "i:   33 beta:  0.53 gamma:  0.47 R0:  1.13 S/N:   0.98 Inf:         67,803.45 dIt:    3,425.21 d2It:       69.53 Test:  0\n",
      "i:   34 beta:  0.53 gamma:  0.47 R0:  1.13 S/N:   0.98 Inf:         71,369.11 dIt:    3,565.66 d2It:       70.23 Test:  0\n",
      "i:   35 beta:  0.53 gamma:  0.47 R0:  1.13 S/N:   0.98 Inf:         75,076.02 dIt:    3,706.91 d2It:       70.62 Test:  0\n",
      "i:   36 beta:  0.53 gamma:  0.47 R0:  1.13 S/N:   0.98 Inf:         78,924.30 dIt:    3,848.27 d2It:       70.68 Test:  0\n",
      "i:   37 beta:  0.53 gamma:  0.47 R0:  1.13 S/N:   0.98 Inf:         82,913.31 dIt:    3,989.02 d2It:       70.37 Test:  0\n",
      "i:   38 beta:  0.53 gamma:  0.47 R0:  1.13 S/N:   0.97 Inf:         87,041.62 dIt:    4,128.31 d2It:       69.64 Test:  0\n",
      "i:   39 beta:  0.53 gamma:  0.47 R0:  1.13 S/N:   0.97 Inf:         91,306.84 dIt:    4,265.22 d2It:       68.46 Test:  0\n",
      "i:   40 beta:  0.53 gamma:  0.47 R0:  1.13 S/N:   0.97 Inf:         95,705.60 dIt:    4,398.76 d2It:       66.77 Test:  0\n",
      "i:   41 beta:  0.53 gamma:  0.47 R0:  1.13 S/N:   0.97 Inf:        100,233.42 dIt:    4,527.82 d2It:       64.53 Test:  0\n",
      "i:   42 beta:  0.53 gamma:  0.47 R0:  1.13 S/N:   0.97 Inf:        104,884.66 dIt:    4,651.23 d2It:       61.71 Test:  0\n",
      "i:   43 beta:  0.53 gamma:  0.47 R0:  1.13 S/N:   0.97 Inf:        109,652.40 dIt:    4,767.74 d2It:       58.25 Test:  0\n",
      "i:   44 beta:  0.53 gamma:  0.47 R0:  1.13 S/N:   0.96 Inf:        114,528.40 dIt:    4,876.00 d2It:       54.13 Test:  0\n",
      "i:   45 beta:  0.53 gamma:  0.47 R0:  1.13 S/N:   0.96 Inf:        119,503.02 dIt:    4,974.62 d2It:       49.31 Test:  0\n",
      "i:   46 beta:  0.53 gamma:  0.47 R0:  1.13 S/N:   0.96 Inf:        124,565.14 dIt:    5,062.12 d2It:       43.75 Test:  0\n",
      "i:   47 beta:  0.53 gamma:  0.47 R0:  1.13 S/N:   0.96 Inf:        129,702.15 dIt:    5,137.01 d2It:       37.44 Test:  0\n",
      "i:   48 beta:  0.53 gamma:  0.47 R0:  1.13 S/N:   0.96 Inf:        134,899.89 dIt:    5,197.74 d2It:       30.36 Test:  0\n",
      "i:   49 beta:  0.53 gamma:  0.47 R0:  1.13 S/N:   0.95 Inf:        140,142.63 dIt:    5,242.74 d2It:       22.50 Test:  0\n",
      "i:   50 beta:  0.53 gamma:  0.47 R0:  1.13 S/N:   0.95 Inf:        145,413.12 dIt:    5,270.49 d2It:       13.87 Test:  0\n",
      "i:   51 beta:  0.53 gamma:  0.47 R0:  1.13 S/N:   0.95 Inf:        150,692.56 dIt:    5,279.44 d2It:        4.48 Test:  0\n",
      "i:   52 beta:  0.53 gamma:  0.47 R0:  1.13 S/N:   0.95 Inf:        155,960.69 dIt:    5,268.14 d2It:       -5.65 Test:  0\n",
      "i:   53 beta:  0.53 gamma:  0.47 R0:  1.13 S/N:   0.94 Inf:        161,195.88 dIt:    5,235.18 d2It:      -16.48 Test:  0\n",
      "i:   54 beta:  0.53 gamma:  0.47 R0:  1.13 S/N:   0.94 Inf:        166,375.17 dIt:    5,179.29 d2It:      -27.94 Test:  0\n",
      "i:   55 beta:  0.53 gamma:  0.47 R0:  1.13 S/N:   0.94 Inf:        171,474.49 dIt:    5,099.33 d2It:      -39.98 Test:  0\n",
      "i:   56 beta:  0.53 gamma:  0.47 R0:  1.13 S/N:   0.93 Inf:        176,468.80 dIt:    4,994.30 d2It:      -52.51 Test:  0\n",
      "i:   57 beta:  0.53 gamma:  0.47 R0:  1.13 S/N:   0.93 Inf:        181,332.24 dIt:    4,863.44 d2It:      -65.43 Test:  0\n",
      "i:   58 beta:  0.53 gamma:  0.47 R0:  1.13 S/N:   0.93 Inf:        186,038.42 dIt:    4,706.19 d2It:      -78.63 Test:  0\n",
      "i:   59 beta:  0.53 gamma:  0.47 R0:  1.13 S/N:   0.93 Inf:        190,560.66 dIt:    4,522.24 d2It:      -91.98 Test:  1\n",
      "i:   60 beta:  0.53 gamma:  0.47 R0:  1.13 S/N:   0.92 Inf:        194,872.22 dIt:    4,311.56 d2It:     -105.34 Test:  0\n",
      "i:   61 beta:  0.53 gamma:  0.47 R0:  1.13 S/N:   0.92 Inf:        198,946.65 dIt:    4,074.43 d2It:     -118.56 Test:  0\n",
      "i:   62 beta:  0.53 gamma:  0.47 R0:  1.13 S/N:   0.92 Inf:        202,758.09 dIt:    3,811.43 d2It:     -131.50 Test:  0\n",
      "i:   63 beta:  0.53 gamma:  0.47 R0:  1.13 S/N:   0.91 Inf:        206,281.56 dIt:    3,523.47 d2It:     -143.98 Test:  0\n",
      "i:   64 beta:  0.53 gamma:  0.47 R0:  1.13 S/N:   0.91 Inf:        209,493.33 dIt:    3,211.77 d2It:     -155.85 Test:  0\n",
      "i:   65 beta:  0.53 gamma:  0.47 R0:  1.13 S/N:   0.90 Inf:        212,371.23 dIt:    2,877.90 d2It:     -166.94 Test:  0\n",
      "i:   66 beta:  0.53 gamma:  0.47 R0:  1.13 S/N:   0.90 Inf:        214,894.94 dIt:    2,523.71 d2It:     -177.09 Test:  0\n",
      "i:   67 beta:  0.53 gamma:  0.47 R0:  1.13 S/N:   0.90 Inf:        217,046.32 dIt:    2,151.38 d2It:     -186.17 Test:  0\n",
      "i:   68 beta:  0.53 gamma:  0.47 R0:  1.13 S/N:   0.89 Inf:        218,809.66 dIt:    1,763.34 d2It:     -194.02 Test:  0\n",
      "i:   69 beta:  0.53 gamma:  0.47 R0:  1.13 S/N:   0.89 Inf:        220,171.92 dIt:    1,362.27 d2It:     -200.54 Test:  0\n",
      "i:   70 beta:  0.53 gamma:  0.47 R0:  1.13 S/N:   0.89 Inf:        221,122.97 dIt:      951.05 d2It:     -205.61 Test:  0\n",
      "i:   71 beta:  0.53 gamma:  0.47 R0:  1.13 S/N:   0.88 Inf:        221,655.68 dIt:      532.72 d2It:     -209.17 Test:  0\n",
      "i:   72 beta:  0.53 gamma:  0.47 R0:  1.13 S/N:   0.88 Inf:        221,766.11 dIt:      110.43 d2It:     -211.14 Test:  0\n",
      "i:   73 beta:  0.53 gamma:  0.47 R0:  1.13 S/N:   0.88 Inf:        221,453.52 dIt:     -312.59 d2It:     -211.51 Test:  0\n",
      "i:   74 beta:  0.53 gamma:  0.47 R0:  1.13 S/N:   0.87 Inf:        220,720.39 dIt:     -733.13 d2It:     -210.27 Test:  1\n",
      "i:   75 beta:  0.53 gamma:  0.47 R0:  1.13 S/N:   0.87 Inf:        219,572.40 dIt:   -1,147.99 d2It:     -207.43 Test:  0\n",
      "i:   76 beta:  0.53 gamma:  0.47 R0:  1.13 S/N:   0.87 Inf:        218,018.32 dIt:   -1,554.08 d2It:     -203.05 Test:  0\n",
      "i:   77 beta:  0.53 gamma:  0.47 R0:  1.13 S/N:   0.86 Inf:        216,069.86 dIt:   -1,948.45 d2It:     -197.19 Test:  0\n",
      "i:   78 beta:  0.53 gamma:  0.47 R0:  1.13 S/N:   0.86 Inf:        213,741.52 dIt:   -2,328.34 d2It:     -189.94 Test:  0\n",
      "i:   79 beta:  0.53 gamma:  0.47 R0:  1.13 S/N:   0.86 Inf:        211,050.32 dIt:   -2,691.20 d2It:     -181.43 Test:  0\n",
      "i:   80 beta:  0.53 gamma:  0.47 R0:  1.13 S/N:   0.85 Inf:        208,015.57 dIt:   -3,034.75 d2It:     -171.78 Test:  0\n",
      "i:   81 beta:  0.53 gamma:  0.47 R0:  1.13 S/N:   0.85 Inf:        204,658.57 dIt:   -3,357.00 d2It:     -161.12 Test:  0\n",
      "i:   82 beta:  0.53 gamma:  0.47 R0:  1.13 S/N:   0.85 Inf:        201,002.31 dIt:   -3,656.26 d2It:     -149.63 Test:  0\n",
      "i:   83 beta:  0.53 gamma:  0.47 R0:  1.13 S/N:   0.84 Inf:        197,071.16 dIt:   -3,931.15 d2It:     -137.45 Test:  0\n",
      "i:   84 beta:  0.53 gamma:  0.47 R0:  1.13 S/N:   0.84 Inf:        192,890.51 dIt:   -4,180.64 d2It:     -124.74 Test:  0\n",
      "i:   85 beta:  0.53 gamma:  0.47 R0:  1.13 S/N:   0.84 Inf:        188,486.51 dIt:   -4,404.00 d2It:     -111.68 Test:  0\n",
      "i:   86 beta:  0.53 gamma:  0.47 R0:  1.13 S/N:   0.83 Inf:        183,885.69 dIt:   -4,600.83 d2It:      -98.41 Test:  0\n",
      "i:   87 beta:  0.53 gamma:  0.47 R0:  1.13 S/N:   0.83 Inf:        179,114.68 dIt:   -4,771.01 d2It:      -85.09 Test:  0\n"
     ]
    },
    {
     "name": "stdout",
     "output_type": "stream",
     "text": [
      "i:   88 beta:  0.53 gamma:  0.47 R0:  1.13 S/N:   0.83 Inf:        174,199.93 dIt:   -4,914.74 d2It:      -71.87 Test:  0\n",
      "i:   89 beta:  0.53 gamma:  0.47 R0:  1.13 S/N:   0.83 Inf:        169,167.47 dIt:   -5,032.46 d2It:      -58.86 Test:  1\n"
     ]
    }
   ],
   "source": [
    "# set up the chgBeta tuple to pass into the SIR projection module\n",
    "# use model = 1\n",
    "chgBeta= (True,chgBeta_idx_start,BETA_PCT,2)\n",
    "\n",
    "values = odeint_chg_beta(y0, t, N, beta, gamma,chgBeta,Trace = True)\n",
    "\n",
    "# assign S, I, R values from values transpose\n",
    "S, I, R = values.T"
   ]
  },
  {
   "cell_type": "markdown",
   "metadata": {},
   "source": [
    "### 7.3 Plot SIR data and projections"
   ]
  },
  {
   "cell_type": "markdown",
   "metadata": {},
   "source": [
    "Finally, we can plot the arrays using matplotlib:"
   ]
  },
  {
   "cell_type": "code",
   "execution_count": 399,
   "metadata": {},
   "outputs": [],
   "source": [
    "# Set projection window\n",
    "add_days = 200\n",
    "dat_days = len(Infected)\n",
    "k = len(Infected)+add_days"
   ]
  },
  {
   "cell_type": "code",
   "execution_count": 400,
   "metadata": {},
   "outputs": [],
   "source": [
    "# Estimate number of people in hospital - last HOSP_DAYS days of infections need hospital at rate HOSP_RATE\n",
    "H = np.array(pd.Series(I[:k]).diff().rolling(HOSP_DAYS).sum()*HOSP_RATE)"
   ]
  },
  {
   "cell_type": "code",
   "execution_count": 401,
   "metadata": {
    "scrolled": true
   },
   "outputs": [
    {
     "data": {
      "image/png": "[encoded data removed]",
      "text/plain": [
       "<Figure size 1440x720 with 4 Axes>"
      ]
     },
     "metadata": {
      "needs_background": "light"
     },
     "output_type": "display_data"
    }
   ],
   "source": [
    "# plot 4 charts:\n",
    "# 1.  Infected data, Infected fcst, Recovered fcst zoom-in\n",
    "# 2.  Infected data, Infected fcst, Recovered fcst, hosp bed capacity, hosp bed fcst zoom-in\n",
    "# 3.  Infected data, Infected fcst, Recovered fcst, Suceptible fcast - no zoom-in\n",
    "# 4.  log of Infected data, Infected fcst, Recovered fcst, Suceptible fcast - no zoom-in\n",
    "\n",
    "# Creates subplots and unpacks the output array immediately\n",
    "fig, (ax1,ax0, ax2, ax3) = plt.subplots(1, 4,figsize=(20, 10))\n",
    "\n",
    "#Plot 1:\n",
    "ax0.plot(t[:k], I[:k], 'orange', lw=1.5, label='Infected')\n",
    "ax0.plot(t[:k], R[:k], 'blue', lw=1.5, label='Recovered')\n",
    "ax0.plot(sub_t[:dat_days],Infected[:dat_days],'or',markersize=8,label = 'data')\n",
    "ax0.plot(t[:k], H[:k], 'k--', lw=1.5, label='Hosp Need')\n",
    "ax0.set_xlabel('Time (days)')\n",
    "ax0.set_ylabel('Number of People')\n",
    "ax0.grid(b=True, which='major', c='#bbbbbb', lw=1, ls='-')\n",
    "ax0.set_title(\"Beta0 = \"+format(beta,'.2f')+\" Gamma = \"+format(gamma,'.2f'))\n",
    "ax0.axhline(hosp_beds*HOSP_CAP_FACTOR, color=\"red\", linestyle=\"--\",label=\"Hosp Spare Capacity\")\n",
    "ax0.set_ylim(0,hosp_beds*HOSP_CAP_FACTOR*8)\n",
    "legend = ax0.legend()\n",
    "legend.get_frame().set_alpha(0.5)\n",
    "\n",
    "#Plot 2:\n",
    "ax1.plot(t[:k], I[:k], 'orange', lw=1.5, label='Infected')\n",
    "ax1.plot(t[:k], R[:k], 'blue', lw=1.5, label='Recovered')\n",
    "ax1.plot(sub_t[:dat_days],Infected[:dat_days],'or',markersize=8,label = 'data')\n",
    "ax1.set_xlabel('Time (days)')\n",
    "ax1.set_ylabel('Number of People')\n",
    "ax1.grid(b=True, which='major', c='#bbbbbb', lw=1, ls='-')\n",
    "legend = ax1.legend()\n",
    "legend.get_frame().set_alpha(0.5)\n",
    "ax1.set_title(\"Beta0 = \"+format(beta,'.2f')+\" Gamma = \"+format(gamma,'.2f'))\n",
    "\n",
    "#Plot 3:\n",
    "ax2.plot(t, S, 'black', lw=1.5, label='Susceptible')\n",
    "ax2.plot(t, I, 'orange', lw=1.5, label='Infected')\n",
    "ax2.plot(t, R, 'blue', lw=1.5, label='Recovered')\n",
    "ax2.plot(sub_t,Infected,'or',markersize=8,label = 'data')\n",
    "ax2.set_xlabel('Time (days)')\n",
    "ax2.set_ylabel('Number of People')\n",
    "ax2.grid(b=True, which='major', c='#bbbbbb', lw=1, ls='-')\n",
    "legend = ax2.legend()\n",
    "legend.get_frame().set_alpha(0.5)\n",
    "ax1.set_title(\"Beta0 = \"+format(beta,'.2f')+\" Gamma = \"+format(gamma,'.2f'))\n",
    "\n",
    "#Plot 4:\n",
    "ax3.plot(t, np.log(S), 'black', lw=1.5, label='Susceptible')\n",
    "ax3.plot(t, np.log(I), 'orange', lw=1.5, label='Infected')\n",
    "ax3.plot(t, np.log(R), 'blue', lw=1.5, label='Recovered')\n",
    "ax3.plot(sub_t,np.log(Infected),'or',markersize=8,label = 'data')\n",
    "ax3.set_xlabel('Time (days)')\n",
    "ax3.set_ylabel('Number of People')\n",
    "ax3.grid(b=True, which='major', c='#bbbbbb', lw=1, ls='-')\n",
    "legend = ax3.legend()\n",
    "legend.get_frame().set_alpha(0.5)\n",
    "ax3.set_title(\"LOG SCALE: Beta0 = \"+format(beta,'.2f')+\" Gamma = \"+format(gamma,'.2f'))\n",
    "\n",
    "fig.suptitle(f'Region = {REGION} : Model = Changed Beta --- beta changes from {beta:.2f} to {beta*chgBeta[2]:.2f} at \\\n",
    "             t = {chgBeta[1]}',fontsize=20)\n",
    "\n",
    "#plt.show()\n",
    "plt.savefig(\"out_7.3_ScenarioCase_\"+REGION+\".pdf\")"
   ]
  },
  {
   "cell_type": "markdown",
   "metadata": {},
   "source": [
    "We see in the right log-linear plot that the model seems to fit the values quite well. We can now extract some interesting statistics. One important number is the so-called basic reproduction number (also basic reproduction ratio)  (pronounced “R naught”) which basically shows how many healthy people get infected by a sick person on average:"
   ]
  },
  {
   "cell_type": "markdown",
   "metadata": {},
   "source": [
    "### 7.4 Report summary data from SIR model"
   ]
  },
  {
   "cell_type": "code",
   "execution_count": 402,
   "metadata": {
    "scrolled": false
   },
   "outputs": [
    {
     "name": "stdout",
     "output_type": "stream",
     "text": [
      "Region = TX : Model = Changed Beta --- beta changes from 0.53 to 0.53 at t = 44\n",
      "    RO   =  1.13\n",
      "    RNew =  1.13\n",
      "    Under Report Factor =  1\n",
      "    Reference  date =  09-Apr-2020\n",
      "    Change start date =  22-Apr-2020 plus  30  delay days\n",
      "    Days to Peak Infection =  119\n",
      "    Remaining days to peak infection =  105\n",
      "    Peak Infected =  3,116,819  or  10.75% of population\n",
      "    Peak Recoverd (Immune + Dead) =  23,526,773 or  81% of population\n",
      "    Deaths =  117,634 at mortality rate of  0.50%\n"
     ]
    }
   ],
   "source": [
    "# summarize some of the statistics\n",
    "R0 = beta/gamma   \n",
    "pk = np.argmax(I)\n",
    "\n",
    "print(f'Region = {REGION} : Model = Changed Beta --- beta changes from {beta:.2f} to {beta*chgBeta[2]:.2f} at t = {chgBeta[1]}')\n",
    "print(\"    RO   = \",format(R0,'0.2f'))\n",
    "RNEW = beta*chgBeta[2]/gamma \n",
    "print(\"    RNew = \",format(RNEW,'0.2f'))\n",
    "    \n",
    "print(\"    Under Report Factor = \",UNDER_REPORT_FACTOR)\n",
    "print(\"    Reference  date = \",start_cases_str)\n",
    "print(\"    Change start date = \",start_chgBeta_date, \"plus \", DELAY_DAYS,\" delay days\")\n",
    "print(\"    Days to Peak Infection = \",pk)\n",
    "print(\"    Remaining days to peak infection = \",pk -len(sub_t))\n",
    "print(\"    Peak Infected = \", format(I[pk],\",.0f\"),\" or \",format(I[pk]/N,\".2%\"),\"of population\")\n",
    "print(\"    Peak Recoverd (Immune + Dead) = \", format(R[-1],\",.0f\"), \"or \",format(R[-1]/N,\",.0%\"),\"of population\")\n",
    "print(\"    Deaths = \",format(R[-1] * MORT,',.0f'),\"at mortality rate of \",format(MORT,\".2%\"))   "
   ]
  },
  {
   "cell_type": "code",
   "execution_count": 403,
   "metadata": {
    "scrolled": true
   },
   "outputs": [
    {
     "name": "stdout",
     "output_type": "stream",
     "text": [
      "Region = TX : Model = Changed Beta --- beta changes from 0.53 to 0.53 at t = 44\n",
      "    Reference date =  09-Apr-2020\n",
      "    Slow start date =  22-Apr-2020\n",
      "    Day at which  500,000 K infections reached =  110  or  96  days from now\n",
      "    Infections =  607,135\n"
     ]
    }
   ],
   "source": [
    "Cases = 500_000\n",
    "cross_day = (I>Cases).argmax()\n",
    "\n",
    "print(f'Region = {REGION} : Model = Changed Beta --- beta changes from {beta:.2f} to {beta*chgBeta[2]:.2f} at t = {chgBeta[1]}')\n",
    "\n",
    "print(\"    Reference date = \",start_cases_str)\n",
    "print(\"    Slow start date = \",start_chgBeta_date)\n",
    "print(\"    Day at which \",format(Cases,\",.0f\"),\"K infections reached = \",format((I>Cases).argmax()), \" or \",\n",
    "     (cross_day - len(sub_t)),\" days from now\")\n",
    "print(\"    Infections = \",format(I[(I>Cases).argmax()],\",.0f\"))"
   ]
  },
  {
   "cell_type": "markdown",
   "metadata": {},
   "source": [
    "# Go to TOC\n",
    "[TOC](#TOC)"
   ]
  },
  {
   "cell_type": "code",
   "execution_count": null,
   "metadata": {},
   "outputs": [],
   "source": []
  }
 ],
 "metadata": {
  "kernelspec": {
   "display_name": "Python 3",
   "language": "python",
   "name": "python3"
  },
  "language_info": {
   "codemirror_mode": {
    "name": "ipython",
    "version": 3
   },
   "file_extension": ".py",
   "mimetype": "text/x-python",
   "name": "python",
   "nbconvert_exporter": "python",
   "pygments_lexer": "ipython3",
   "version": "3.7.4"
  }
 },
 "nbformat": 4,
 "nbformat_minor": 4
}
